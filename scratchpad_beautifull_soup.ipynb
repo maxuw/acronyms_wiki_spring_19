{
 "cells": [
  {
   "cell_type": "code",
   "execution_count": 1,
   "metadata": {},
   "outputs": [],
   "source": [
    "from bs4 import BeautifulSoup\n",
    "import urllib.request"
   ]
  },
  {
   "cell_type": "code",
   "execution_count": 3,
   "metadata": {},
   "outputs": [],
   "source": [
    "url = 'https://pl.wikipedia.org/wiki/Choroby_wirusowe'"
   ]
  },
  {
   "cell_type": "code",
   "execution_count": 4,
   "metadata": {},
   "outputs": [],
   "source": [
    "page = urllib.request.urlopen(url)\n",
    "\n",
    "soup = BeautifulSoup(page, 'html.parser')"
   ]
  },
  {
   "cell_type": "code",
   "execution_count": 5,
   "metadata": {},
   "outputs": [],
   "source": [
    "section_categories = soup.find(\"div\", class_=\"mw-normal-catlinks\", id=\"mw-normal-catlinks\")"
   ]
  },
  {
   "cell_type": "code",
   "execution_count": 6,
   "metadata": {},
   "outputs": [
    {
     "data": {
      "text/plain": [
       "<div class=\"mw-normal-catlinks\" id=\"mw-normal-catlinks\"><a href=\"/wiki/Specjalna:Kategorie\" title=\"Specjalna:Kategorie\">Kategoria</a>: <ul><li><a href=\"/wiki/Kategoria:Choroby_wirusowe\" title=\"Kategoria:Choroby wirusowe\">Choroby wirusowe</a></li></ul></div>"
      ]
     },
     "execution_count": 6,
     "metadata": {},
     "output_type": "execute_result"
    }
   ],
   "source": [
    "section_categories"
   ]
  },
  {
   "cell_type": "code",
   "execution_count": 16,
   "metadata": {},
   "outputs": [
    {
     "data": {
      "text/plain": [
       "<div class=\"mw-normal-catlinks\" id=\"mw-normal-catlinks\"><a href=\"/wiki/Specjalna:Kategorie\" title=\"Specjalna:Kategorie\">Kategoria</a>: <ul><li><a href=\"/wiki/Kategoria:Choroby_wirusowe\" title=\"Kategoria:Choroby wirusowe\">Choroby wirusowe</a></li></ul></div>"
      ]
     },
     "execution_count": 16,
     "metadata": {},
     "output_type": "execute_result"
    }
   ],
   "source": [
    "section_categories"
   ]
  },
  {
   "cell_type": "code",
   "execution_count": 21,
   "metadata": {},
   "outputs": [
    {
     "name": "stdout",
     "output_type": "stream",
     "text": [
      "<a href=\"/wiki/Kategoria:Choroby_wirusowe\" title=\"Kategoria:Choroby wirusowe\">Choroby wirusowe</a>\n"
     ]
    }
   ],
   "source": [
    "categories =[]\n",
    "\n",
    "for li_ in section_categories.find_all('li'):\n",
    "#     print(li)\n",
    "#     category = li\n",
    "    category = li_.find('a')\n",
    "    print(category)\n",
    "    category = category.getText()\n",
    "\n",
    "    # category = category[11:]\n",
    "    categories.append(category)"
   ]
  },
  {
   "cell_type": "code",
   "execution_count": 22,
   "metadata": {},
   "outputs": [
    {
     "data": {
      "text/plain": [
       "['Choroby wirusowe']"
      ]
     },
     "execution_count": 22,
     "metadata": {},
     "output_type": "execute_result"
    }
   ],
   "source": [
    "categories"
   ]
  },
  {
   "cell_type": "code",
   "execution_count": null,
   "metadata": {},
   "outputs": [],
   "source": [
    "for ana in soup.findAll('a'):\n",
    "  if ana.parent.name == 'td':\n",
    "    print ana[\"href\"]"
   ]
  }
 ],
 "metadata": {
  "kernelspec": {
   "display_name": "Python 3",
   "language": "python",
   "name": "python3"
  },
  "language_info": {
   "codemirror_mode": {
    "name": "ipython",
    "version": 3
   },
   "file_extension": ".py",
   "mimetype": "text/x-python",
   "name": "python",
   "nbconvert_exporter": "python",
   "pygments_lexer": "ipython3",
   "version": "3.8.1"
  }
 },
 "nbformat": 4,
 "nbformat_minor": 4
}
