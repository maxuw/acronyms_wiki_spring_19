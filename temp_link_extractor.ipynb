{
 "cells": [
  {
   "cell_type": "code",
   "execution_count": 26,
   "metadata": {
    "collapsed": false
   },
   "outputs": [],
   "source": [
    "import httplib2\n",
    "from bs4 import BeautifulSoup, SoupStrainer\n",
    "\n",
    "import re"
   ]
  },
  {
   "cell_type": "code",
   "execution_count": 24,
   "metadata": {
    "collapsed": false
   },
   "outputs": [],
   "source": [
    "url_category_old = \"https://pl.wikipedia.org/w/index.php?title=Kategoria:Choroby_genetyczne&pagefrom=Pyknodysostoza#mw-pages\"\n",
    "\n",
    "url_category = \"https://pl.wikipedia.org/wiki/Kategoria:Glacjologia\"\n",
    "\n",
    "url_record = \"https://pl.wikipedia.org/wiki/Wikipedia\""
   ]
  },
  {
   "cell_type": "code",
   "execution_count": null,
   "metadata": {
    "collapsed": false
   },
   "outputs": [],
   "source": []
  },
  {
   "cell_type": "code",
   "execution_count": 3,
   "metadata": {
    "collapsed": false
   },
   "outputs": [],
   "source": [
    "http = httplib2.Http()\n",
    "\n",
    "status, response = http.request(url_category)\n"
   ]
  },
  {
   "cell_type": "code",
   "execution_count": 31,
   "metadata": {
    "collapsed": false
   },
   "outputs": [],
   "source": [
    "def type_page(url):\n",
    "\n",
    "    if \"pl.wikipedia.org\" not in url:\n",
    "\n",
    "        return \"not a polish wikipedia page\"\n",
    "\n",
    "\n",
    "    if \"https://\" in url:\n",
    "        url = url.replace(\"https://\", \"\")\n",
    "\n",
    "    elif \"http://\" in url:\n",
    "        url = url.replace(\"http://\", \"\")\n",
    "\n",
    "    if \"www.\" in url:\n",
    "        url = url.replace(\"www.\", \"\")\n",
    "\n",
    "    url = url.replace(\"pl.wikipedia.org/\", \"\")\n",
    "\n",
    "    if \"wiki/\" not in url:\n",
    "\n",
    "        return \"wikipedia, but not an encyclopedia type of page\"\n",
    "\n",
    "    else:\n",
    "        url = url.replace(\"wiki/\", \"\")\n",
    "\n",
    "        print(url)\n",
    "\n",
    "        if \"Kategoria:\" in url:\n",
    "\n",
    "            return \"category\"\n",
    "\n",
    "        elif \"Portal:\" in url:\n",
    "\n",
    "            return \"portal_page\"\n",
    "\n",
    "        elif \":\" not in url:\n",
    "            return \"record_page\"\n",
    "\n",
    "        else:\n",
    "            return \"unknown type of page\"\n",
    "\n",
    "#        elif re.search(\"\\w|%|\\(|\\)|\\-\", url) == url:\n",
    "#            return \"record_page\""
   ]
  },
  {
   "cell_type": "code",
   "execution_count": 23,
   "metadata": {
    "collapsed": false
   },
   "outputs": [
    {
     "name": "stdout",
     "output_type": "stream",
     "text": [
      "Kategoria:Glacjologia\n"
     ]
    },
    {
     "data": {
      "text/plain": [
       "'category'"
      ]
     },
     "execution_count": 23,
     "metadata": {},
     "output_type": "execute_result"
    }
   ],
   "source": [
    "type_page(url_category)"
   ]
  },
  {
   "cell_type": "code",
   "execution_count": 32,
   "metadata": {
    "collapsed": false
   },
   "outputs": [
    {
     "name": "stdout",
     "output_type": "stream",
     "text": [
      "Wikipedia\n"
     ]
    },
    {
     "data": {
      "text/plain": [
       "'record_page'"
      ]
     },
     "execution_count": 32,
     "metadata": {},
     "output_type": "execute_result"
    }
   ],
   "source": [
    "type_page(url_record)"
   ]
  },
  {
   "cell_type": "code",
   "execution_count": null,
   "metadata": {
    "collapsed": false
   },
   "outputs": [],
   "source": []
  }
 ],
 "metadata": {
  "kernelspec": {
   "argv": [
    "/home/byun/miniconda3/envs/nlp/bin/python",
    "-m",
    "ipykernel_launcher",
    "-f",
    "{connection_file}"
   ],
   "display_name": "Python 3",
   "env": null,
   "interrupt_mode": "signal",
   "language": "python",
   "metadata": null,
   "name": "python3"
  },
  "name": "temp_link_extractor.ipynb"
 },
 "nbformat": 4,
 "nbformat_minor": 4
}
