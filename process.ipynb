{
 "cells": [
  {
   "cell_type": "code",
   "execution_count": 4,
   "metadata": {
    "collapsed": false,
    "jupyter": {
     "outputs_hidden": false
    },
    "pycharm": {
     "name": "#%%\n"
    }
   },
   "outputs": [],
   "source": [
    "import link_extractor"
   ]
  },
  {
   "cell_type": "code",
   "execution_count": 5,
   "metadata": {
    "collapsed": false,
    "jupyter": {
     "outputs_hidden": false
    },
    "pycharm": {
     "name": "#%%\n"
    }
   },
   "outputs": [],
   "source": [
    "import crawler"
   ]
  },
  {
   "cell_type": "code",
   "execution_count": 6,
   "metadata": {
    "collapsed": false,
    "jupyter": {
     "outputs_hidden": false
    },
    "pycharm": {
     "name": "#%%\n"
    }
   },
   "outputs": [],
   "source": [
    "import pandas as pd"
   ]
  },
  {
   "cell_type": "code",
   "execution_count": null,
   "metadata": {
    "collapsed": false,
    "jupyter": {
     "outputs_hidden": false
    },
    "lines_to_next_cell": 2,
    "pycharm": {
     "name": "#%%\n"
    }
   },
   "outputs": [],
   "source": []
  },
  {
   "cell_type": "code",
   "execution_count": 7,
   "metadata": {
    "collapsed": false,
    "jupyter": {
     "outputs_hidden": false
    },
    "pycharm": {
     "name": "#%%\n"
    }
   },
   "outputs": [],
   "source": [
    "url = \"https://pl.wikipedia.org/wiki/Kategoria:Choroby_wirusowe\""
   ]
  },
  {
   "cell_type": "code",
   "execution_count": 8,
   "metadata": {
    "collapsed": false,
    "jupyter": {
     "outputs_hidden": false
    },
    "pycharm": {
     "name": "#%%\n"
    }
   },
   "outputs": [
    {
     "name": "stdout",
     "output_type": "stream",
     "text": [
      "1\n",
      "unknown type of page\n",
      "unknown type of page\n",
      "duplicate:  https://pl.wikipedia.org/wiki/Wirusowe_zapalenie_w%C4%85troby\n",
      "2\n",
      "unknown type of page\n",
      "unknown type of page\n",
      "3\n"
     ]
    }
   ],
   "source": [
    "links = link_extractor.return_links_category([url])"
   ]
  },
  {
   "cell_type": "code",
   "execution_count": 9,
   "metadata": {},
   "outputs": [
    {
     "data": {
      "text/plain": [
       "131"
      ]
     },
     "execution_count": 9,
     "metadata": {},
     "output_type": "execute_result"
    }
   ],
   "source": [
    "len(links)"
   ]
  },
  {
   "cell_type": "code",
   "execution_count": 10,
   "metadata": {
    "collapsed": false,
    "jupyter": {
     "outputs_hidden": false
    },
    "pycharm": {
     "name": "#%%\n"
    }
   },
   "outputs": [
    {
     "data": {
      "text/plain": [
       "['https://pl.wikipedia.org/wiki/Choroby_wirusowe',\n",
       " 'https://pl.wikipedia.org/wiki/Afryka%C5%84ski_pom%C3%B3r_koni',\n",
       " 'https://pl.wikipedia.org/wiki/Afryka%C5%84ski_pom%C3%B3r_%C5%9Bwi%C5%84',\n",
       " 'https://pl.wikipedia.org/wiki/Bia%C5%82aczka_kot%C3%B3w',\n",
       " 'https://pl.wikipedia.org/wiki/Bliskowschodni_zesp%C3%B3%C5%82_oddechowy',\n",
       " 'https://pl.wikipedia.org/wiki/Brodawczaki_krtani',\n",
       " 'https://pl.wikipedia.org/wiki/Chikungunya',\n",
       " 'https://pl.wikipedia.org/wiki/Choroba_bornajska',\n",
       " 'https://pl.wikipedia.org/wiki/Choroba_Derzsyego',\n",
       " 'https://pl.wikipedia.org/wiki/Choroba_d%C5%82oni,_st%C3%B3p_i_jamy_ustnej']"
      ]
     },
     "execution_count": 10,
     "metadata": {},
     "output_type": "execute_result"
    }
   ],
   "source": [
    "links[:10]"
   ]
  },
  {
   "cell_type": "code",
   "execution_count": null,
   "metadata": {
    "collapsed": false,
    "jupyter": {
     "outputs_hidden": false
    },
    "lines_to_next_cell": 2,
    "pycharm": {
     "name": "#%%\n"
    }
   },
   "outputs": [],
   "source": []
  },
  {
   "cell_type": "code",
   "execution_count": null,
   "metadata": {
    "collapsed": false,
    "jupyter": {
     "outputs_hidden": false
    },
    "lines_to_next_cell": 2,
    "pycharm": {
     "name": "#%%\n"
    }
   },
   "outputs": [],
   "source": []
  },
  {
   "cell_type": "code",
   "execution_count": 11,
   "metadata": {
    "collapsed": false,
    "jupyter": {
     "outputs_hidden": false
    },
    "lines_to_next_cell": 2,
    "pycharm": {
     "name": "#%%\n"
    }
   },
   "outputs": [
    {
     "name": "stdout",
     "output_type": "stream",
     "text": [
      "Choroby wirusowe\n",
      "Afrykański pomór koni\n",
      "Afrykański pomór świń\n",
      "Białaczka kotów\n",
      "Bliskowschodni zespół oddechowy\n",
      "Brodawczaki krtani\n",
      "Chikungunya\n",
      "Choroba bornajska\n",
      "Choroba Derzsyego\n",
      "Choroba dłoni\n",
      "Choroba Hecka\n",
      "Choroba Heinego-Medina\n",
      "Choroba lasu Kyasanur\n",
      "Choroba marmurkowatej śledziony bażantów\n",
      "Choroba skokowa owiec\n",
      "Choroba wtrętowa\n",
      "COVID-19\n",
      "Cytomegalowirus\n",
      "Denga\n",
      "Encefalopatia AIDS\n",
      "Gorączka doliny Rift\n",
      "Gorączka Lassa\n",
      "Gorączka O\n",
      "Gorączka Oropouche\n",
      "Hantawirusowy zespół płucny\n",
      "Jaagsiekte\n",
      "Japońskie zapalenie mózgu\n",
      "Kleszczowe zapalenie mózgu\n",
      "Księgosusz\n",
      "Limfocytarne zapalenie splotu naczyniówkowego i opon mózgowych\n",
      "Łupież różowy Giberta\n",
      "Mięczak zakaźny\n",
      "Mononukleoza zakaźna\n",
      "Nagminna pleurodynia\n",
      "Nagminne zapalenie przyusznic\n",
      "Nosówka\n",
      "Objaw Glanzmana\n",
      "Odra\n",
      "Opryszczkowe zapalenie mózgu\n",
      "Ospa małpia\n",
      "Ospa prawdziwa\n",
      "Ospa wietrzna\n",
      "Pappataci\n",
      "Choroba Derzsyego\n",
      "Plamki Koplika\n",
      "Postępująca leukoencefalopatia wieloogniskowa\n",
      "Półpasiec\n",
      "Półpasiec oczny\n",
      "Pryszczyca\n",
      "Przeziębienie\n",
      "Zespół Ramsaya Hunta\n",
      "Różyczka\n",
      "Rumień nagły\n",
      "Rumień zakaźny\n",
      "SARS\n",
      "Tropikalna spastyczna parapareza\n",
      "Wirus chronicznego paraliżu pszczół\n",
      "Wirus Hendra\n",
      "Wirus Nipah\n",
      "Wirus ostrego paraliżu pszczół\n",
      "Wirus zdeformowanych skrzydeł\n",
      "Wirus ze Schmallenbergu\n",
      "Wirusowe zapalenie stawów\n",
      "Wirusowe zapalenie tętnic koni\n",
      "Wścieklizna\n",
      "Zakażenia opryszczkowe\n",
      "Zanokcica opryszczkowa\n",
      "Zapalenia mózgu doliny Murray\n",
      "Zespół Gianottiego-Crostiego\n",
      "Zespół nabytego niedoboru odporności\n",
      "Zespół różyczki wrodzonej\n",
      "Żółta gorączka\n",
      "Grypa\n",
      "Grypa azjatycka\n",
      "Grypa końska\n",
      "H1N1\n",
      "H2N2\n",
      "H5N1\n",
      "H9N2\n",
      "Męska grypa\n",
      "Neuraminidaza\n",
      "Pandemia grypy A\n",
      "Pandemia grypy w latach 1918–1919\n",
      "Przesunięcie antygenowe\n",
      "Ptasia grypa\n",
      "Sezon grypowy\n",
      "Skok antygenowy\n",
      "Szczepionka modelowa\n",
      "Szczepionka prepandemiczna przeciw grypie\n",
      "Szczepionka przeciw grypie\n",
      "Szczepionka przeciw grypie pandemicznej\n",
      "Świńska grypa\n",
      "Wirus grypy\n",
      "Wirusowe zapalenie wątroby\n",
      "Światowy Dzień Wirusowego Zapalenia Wątroby\n",
      "Antygen HBs\n",
      "Wirusowe zapalenie wątroby typu B\n",
      "Wirusowe zapalenie wątroby typu C\n",
      "Wirusowe zapalenie wątroby typu E\n",
      "Wirus zapalenia wątroby typu A\n",
      "Wirus zapalenia wątroby typu B\n",
      "Wirus zapalenia wątroby typu C\n",
      "Wirus zapalenia wątroby typu D\n",
      "Wirus zapalenia wątroby typu E\n",
      "Gorączka krwotoczna\n",
      "Argentyńska gorączka krwotoczna\n",
      "Boliwijska gorączka krwotoczna\n",
      "Brazylijska gorączka krwotoczna\n",
      "Choroba marburska\n",
      "Gorączka krwotoczna Ebola\n",
      "Gorączka krwotoczna krymsko-kongijska\n",
      "Gorączka krwotoczna z zespołem nerkowym\n",
      "Gorączka Zachodniego Nilu\n",
      "Omska gorączka krwotoczna\n",
      "Wenezuelska gorączka krwotoczna\n",
      "Amantadyna\n",
      "Oseltamiwir\n",
      "Rymantadyna\n",
      "Wirusowe choroby roślin\n",
      "Chloroza nerwów liści maliny\n",
      "Krzaczasta karłowatość maliny\n",
      "Mozaika maliny\n",
      "Mozaika tytoniowa\n",
      "Oparzelina borówki wysokiej\n",
      "Ospowatość śliwy\n",
      "Pstrość tulipana\n",
      "Smugowatość ziemniaka\n",
      "Wąskolistość łubinu\n",
      "Żółta karłowatość jęczmienia\n",
      "Żółta mozaika jęczmienia\n",
      "Żółtaczka buraka\n"
     ]
    }
   ],
   "source": [
    "list_records = crawler.readAll(links, verbose=False, require_acronym=True)"
   ]
  },
  {
   "cell_type": "code",
   "execution_count": 12,
   "metadata": {},
   "outputs": [
    {
     "data": {
      "text/plain": [
       "43"
      ]
     },
     "execution_count": 12,
     "metadata": {},
     "output_type": "execute_result"
    }
   ],
   "source": [
    "len(list_records)"
   ]
  },
  {
   "cell_type": "code",
   "execution_count": 13,
   "metadata": {},
   "outputs": [
    {
     "data": {
      "text/plain": [
       "[['AHS',\n",
       "  'Afrykański pomór koni',\n",
       "  'Pestis equorum',\n",
       "  'łac.',\n",
       "  ['Choroby koni',\n",
       "   'Choroby przenoszone przez owady',\n",
       "   'Choroby zakaźne zwierząt',\n",
       "   'Choroby wirusowe'],\n",
       "  'Afryka%C5%84ski_pom%C3%B3r_koni'],\n",
       " ['ASF',\n",
       "  'Afrykański pomór świń',\n",
       "  'Pestis africana suum',\n",
       "  'łac.',\n",
       "  ['Choroby zakaźne zwierząt',\n",
       "   'Choroby trzody chlewnej',\n",
       "   'Choroby wirusowe',\n",
       "   'Choroby przenoszone przez owady'],\n",
       "  'Afryka%C5%84ski_pom%C3%B3r_%C5%9Bwi%C5%84'],\n",
       " ['MERS ',\n",
       "  'Bliskowschodni zespół oddechowy',\n",
       "  'Middle East respiratory syndrome',\n",
       "  'ang.',\n",
       "  ['Choroby wirusowe', 'Choroby układu oddechowego'],\n",
       "  'Bliskowschodni_zesp%C3%B3%C5%82_oddechowy'],\n",
       " ['HFMD',\n",
       "  'Choroba dłoni',\n",
       "  'hand',\n",
       "  'ang.',\n",
       "  ['Choroby wirusowe'],\n",
       "  'Choroba_d%C5%82oni,_st%C3%B3p_i_jamy_ustnej'],\n",
       " ['MSD',\n",
       "  'Choroba marmurkowatej śledziony bażantów',\n",
       "  'brak',\n",
       "  'brak',\n",
       "  ['Choroby ptaków', 'Choroby wirusowe'],\n",
       "  'Choroba_marmurkowatej_%C5%9Bledziony_ba%C5%BCant%C3%B3w']]"
      ]
     },
     "execution_count": 13,
     "metadata": {},
     "output_type": "execute_result"
    }
   ],
   "source": [
    "list_records[:5]"
   ]
  },
  {
   "cell_type": "code",
   "execution_count": null,
   "metadata": {},
   "outputs": [],
   "source": []
  },
  {
   "cell_type": "code",
   "execution_count": null,
   "metadata": {},
   "outputs": [],
   "source": []
  },
  {
   "cell_type": "code",
   "execution_count": null,
   "metadata": {},
   "outputs": [],
   "source": []
  },
  {
   "cell_type": "code",
   "execution_count": 14,
   "metadata": {
    "collapsed": false,
    "jupyter": {
     "outputs_hidden": false
    },
    "pycharm": {
     "name": "#%%\n"
    }
   },
   "outputs": [],
   "source": [
    "df_index = [\"akronim\", \"fraza polska\", \"fraza obca\", \"język\", \"kategorie\", \"hasło_wikipedia\"]"
   ]
  },
  {
   "cell_type": "code",
   "execution_count": 15,
   "metadata": {
    "collapsed": false,
    "jupyter": {
     "outputs_hidden": false
    },
    "pycharm": {
     "name": "#%%\n"
    }
   },
   "outputs": [],
   "source": [
    "acronyms_data_frame = pd.DataFrame(list_records, columns=df_index)"
   ]
  },
  {
   "cell_type": "code",
   "execution_count": 16,
   "metadata": {},
   "outputs": [
    {
     "data": {
      "text/html": [
       "<div>\n",
       "<style scoped>\n",
       "    .dataframe tbody tr th:only-of-type {\n",
       "        vertical-align: middle;\n",
       "    }\n",
       "\n",
       "    .dataframe tbody tr th {\n",
       "        vertical-align: top;\n",
       "    }\n",
       "\n",
       "    .dataframe thead th {\n",
       "        text-align: right;\n",
       "    }\n",
       "</style>\n",
       "<table border=\"1\" class=\"dataframe\">\n",
       "  <thead>\n",
       "    <tr style=\"text-align: right;\">\n",
       "      <th></th>\n",
       "      <th>akronim</th>\n",
       "      <th>fraza polska</th>\n",
       "      <th>fraza obca</th>\n",
       "      <th>język</th>\n",
       "      <th>kategorie</th>\n",
       "      <th>hasło_wikipedia</th>\n",
       "    </tr>\n",
       "  </thead>\n",
       "  <tbody>\n",
       "    <tr>\n",
       "      <th>0</th>\n",
       "      <td>AHS</td>\n",
       "      <td>Afrykański pomór koni</td>\n",
       "      <td>Pestis equorum</td>\n",
       "      <td>łac.</td>\n",
       "      <td>[Choroby koni, Choroby przenoszone przez owady...</td>\n",
       "      <td>Afryka%C5%84ski_pom%C3%B3r_koni</td>\n",
       "    </tr>\n",
       "    <tr>\n",
       "      <th>1</th>\n",
       "      <td>ASF</td>\n",
       "      <td>Afrykański pomór świń</td>\n",
       "      <td>Pestis africana suum</td>\n",
       "      <td>łac.</td>\n",
       "      <td>[Choroby zakaźne zwierząt, Choroby trzody chle...</td>\n",
       "      <td>Afryka%C5%84ski_pom%C3%B3r_%C5%9Bwi%C5%84</td>\n",
       "    </tr>\n",
       "    <tr>\n",
       "      <th>2</th>\n",
       "      <td>MERS</td>\n",
       "      <td>Bliskowschodni zespół oddechowy</td>\n",
       "      <td>Middle East respiratory syndrome</td>\n",
       "      <td>ang.</td>\n",
       "      <td>[Choroby wirusowe, Choroby układu oddechowego]</td>\n",
       "      <td>Bliskowschodni_zesp%C3%B3%C5%82_oddechowy</td>\n",
       "    </tr>\n",
       "    <tr>\n",
       "      <th>3</th>\n",
       "      <td>HFMD</td>\n",
       "      <td>Choroba dłoni</td>\n",
       "      <td>hand</td>\n",
       "      <td>ang.</td>\n",
       "      <td>[Choroby wirusowe]</td>\n",
       "      <td>Choroba_d%C5%82oni,_st%C3%B3p_i_jamy_ustnej</td>\n",
       "    </tr>\n",
       "    <tr>\n",
       "      <th>4</th>\n",
       "      <td>MSD</td>\n",
       "      <td>Choroba marmurkowatej śledziony bażantów</td>\n",
       "      <td>brak</td>\n",
       "      <td>brak</td>\n",
       "      <td>[Choroby ptaków, Choroby wirusowe]</td>\n",
       "      <td>Choroba_marmurkowatej_%C5%9Bledziony_ba%C5%BCa...</td>\n",
       "    </tr>\n",
       "  </tbody>\n",
       "</table>\n",
       "</div>"
      ],
      "text/plain": [
       "  akronim                              fraza polska  \\\n",
       "0     AHS                     Afrykański pomór koni   \n",
       "1     ASF                     Afrykański pomór świń   \n",
       "2   MERS            Bliskowschodni zespół oddechowy   \n",
       "3    HFMD                             Choroba dłoni   \n",
       "4     MSD  Choroba marmurkowatej śledziony bażantów   \n",
       "\n",
       "                         fraza obca język  \\\n",
       "0                    Pestis equorum  łac.   \n",
       "1              Pestis africana suum  łac.   \n",
       "2  Middle East respiratory syndrome  ang.   \n",
       "3                              hand  ang.   \n",
       "4                              brak  brak   \n",
       "\n",
       "                                           kategorie  \\\n",
       "0  [Choroby koni, Choroby przenoszone przez owady...   \n",
       "1  [Choroby zakaźne zwierząt, Choroby trzody chle...   \n",
       "2     [Choroby wirusowe, Choroby układu oddechowego]   \n",
       "3                                 [Choroby wirusowe]   \n",
       "4                 [Choroby ptaków, Choroby wirusowe]   \n",
       "\n",
       "                                     hasło_wikipedia  \n",
       "0                    Afryka%C5%84ski_pom%C3%B3r_koni  \n",
       "1          Afryka%C5%84ski_pom%C3%B3r_%C5%9Bwi%C5%84  \n",
       "2          Bliskowschodni_zesp%C3%B3%C5%82_oddechowy  \n",
       "3        Choroba_d%C5%82oni,_st%C3%B3p_i_jamy_ustnej  \n",
       "4  Choroba_marmurkowatej_%C5%9Bledziony_ba%C5%BCa...  "
      ]
     },
     "execution_count": 16,
     "metadata": {},
     "output_type": "execute_result"
    }
   ],
   "source": [
    "acronyms_data_frame[:5]"
   ]
  },
  {
   "cell_type": "code",
   "execution_count": null,
   "metadata": {
    "collapsed": false,
    "jupyter": {
     "outputs_hidden": false
    },
    "lines_to_next_cell": 2,
    "pycharm": {
     "name": "#%%\n"
    }
   },
   "outputs": [],
   "source": []
  },
  {
   "cell_type": "code",
   "execution_count": 17,
   "metadata": {
    "collapsed": false,
    "jupyter": {
     "outputs_hidden": false
    },
    "lines_to_next_cell": 0,
    "pycharm": {
     "name": "#%%\n"
    }
   },
   "outputs": [],
   "source": [
    "acronyms_data_frame.to_csv (r'result.csv', index = None, header=True)"
   ]
  },
  {
   "cell_type": "code",
   "execution_count": null,
   "metadata": {
    "lines_to_next_cell": 2
   },
   "outputs": [],
   "source": []
  }
 ],
 "metadata": {
  "jupytext": {
   "encoding": "# -*- coding: utf-8 -*-",
   "formats": "ipynb,py:light"
  },
  "kernelspec": {
   "display_name": "Python 3",
   "language": "python",
   "name": "python3"
  },
  "language_info": {
   "codemirror_mode": {
    "name": "ipython",
    "version": 3
   },
   "file_extension": ".py",
   "mimetype": "text/x-python",
   "name": "python",
   "nbconvert_exporter": "python",
   "pygments_lexer": "ipython3",
   "version": "3.8.1"
  },
  "pycharm": {
   "stem_cell": {
    "cell_type": "raw",
    "metadata": {
     "collapsed": false
    },
    "source": []
   }
  }
 },
 "nbformat": 4,
 "nbformat_minor": 4
}
