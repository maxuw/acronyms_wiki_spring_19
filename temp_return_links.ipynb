{
 "cells": [
  {
   "cell_type": "code",
   "execution_count": 3,
   "metadata": {
    "collapsed": false,
    "jupyter": {
     "outputs_hidden": false
    }
   },
   "outputs": [],
   "source": [
    "import pandas as pd\n",
    "\n",
    "pd.Data\n",
    "\n",
    "\n"
   ]
  },
  {
   "cell_type": "code",
   "execution_count": 35,
   "metadata": {
    "collapsed": false,
    "jupyter": {
     "outputs_hidden": false
    }
   },
   "outputs": [],
   "source": [
    "import httplib2\n",
    "from bs4 import BeautifulSoup, SoupStrainer\n",
    "from urllib.parse import urljoin"
   ]
  },
  {
   "cell_type": "code",
   "execution_count": 3,
   "metadata": {
    "collapsed": false,
    "jupyter": {
     "outputs_hidden": false
    }
   },
   "outputs": [],
   "source": [
    "url = \"https://pl.wikipedia.org/wiki/Kategoria:Glacjologia\""
   ]
  },
  {
   "cell_type": "code",
   "execution_count": 4,
   "metadata": {
    "collapsed": false,
    "jupyter": {
     "outputs_hidden": false
    }
   },
   "outputs": [],
   "source": [
    "http = httplib2.Http()\n",
    "status, response = http.request(url)"
   ]
  },
  {
   "cell_type": "code",
   "execution_count": 40,
   "metadata": {
    "collapsed": false,
    "jupyter": {
     "outputs_hidden": false
    }
   },
   "outputs": [],
   "source": [
    "def return_links_within_div(url, div_name):\n",
    "    http = httplib2.Http()\n",
    "    status, response = http.request(url)\n",
    "\n",
    "    soup = BeautifulSoup(response, 'html.parser')\n",
    "\n",
    "    target_div = soup.find(\"div\", id=div_name)\n",
    "\n",
    "    links = target_div.find_all('a')\n",
    "\n",
    "    list_links = []\n",
    "\n",
    "    for a in links:\n",
    "        link_relative = a.get(\"href\")\n",
    "        link_absolute = urljoin(url, link_relative)\n",
    "        list_links.append(link_absolute)\n",
    "\n",
    "    return list_links"
   ]
  },
  {
   "cell_type": "code",
   "execution_count": 41,
   "metadata": {
    "collapsed": false,
    "jupyter": {
     "outputs_hidden": false
    }
   },
   "outputs": [
    {
     "data": {
      "text/plain": [
       "['https://pl.wikipedia.org/wiki/Kategoria:Elementy_rze%C5%BAby_lodowcowej',\n",
       " 'https://pl.wikipedia.org/wiki/Kategoria:G%C5%82azy_narzutowe',\n",
       " 'https://pl.wikipedia.org/wiki/Kategoria:Jaskinie_lodowe',\n",
       " 'https://pl.wikipedia.org/wiki/Kategoria:Lodowce',\n",
       " 'https://pl.wikipedia.org/wiki/Kategoria:Procesy_i_formy_mrozowe',\n",
       " 'https://pl.wikipedia.org/wiki/Kategoria:Typy_lodowc%C3%B3w',\n",
       " 'https://pl.wikipedia.org/wiki/Kategoria:Zlodowacenia']"
      ]
     },
     "execution_count": 41,
     "metadata": {},
     "output_type": "execute_result"
    }
   ],
   "source": [
    "return_links_within_div(url, \"mw-subcategories\")"
   ]
  },
  {
   "cell_type": "code",
   "execution_count": 21,
   "metadata": {
    "collapsed": false,
    "jupyter": {
     "outputs_hidden": false
    }
   },
   "outputs": [],
   "source": [
    "soup = BeautifulSoup(response, 'html.parser')\n",
    "\n",
    "mw_subcategories = soup.find(\"div\", id=\"mw-subcategories\")\n"
   ]
  },
  {
   "cell_type": "code",
   "execution_count": 23,
   "metadata": {
    "collapsed": false,
    "jupyter": {
     "outputs_hidden": false
    }
   },
   "outputs": [
    {
     "data": {
      "text/plain": [
       "bs4.element.Tag"
      ]
     },
     "execution_count": 23,
     "metadata": {},
     "output_type": "execute_result"
    }
   ],
   "source": [
    "type(mw_subcategories)"
   ]
  },
  {
   "cell_type": "code",
   "execution_count": 38,
   "metadata": {
    "collapsed": false,
    "jupyter": {
     "outputs_hidden": false
    }
   },
   "outputs": [],
   "source": [
    "links = mw_subcategories.find_all('a')\n",
    "\n",
    "list_links = []\n",
    "\n",
    "for a in links:\n",
    "    link_relative = a.get(\"href\")\n",
    "    link_absolute = urljoin(url, link_relative)\n",
    "    list_links.append(link_absolute)"
   ]
  },
  {
   "cell_type": "code",
   "execution_count": null,
   "metadata": {
    "collapsed": false,
    "jupyter": {
     "outputs_hidden": false
    }
   },
   "outputs": [],
   "source": [
    "list"
   ]
  },
  {
   "cell_type": "code",
   "execution_count": 39,
   "metadata": {
    "collapsed": false,
    "jupyter": {
     "outputs_hidden": false
    }
   },
   "outputs": [
    {
     "data": {
      "text/plain": [
       "['https://pl.wikipedia.org/wiki/Kategoria:Elementy_rze%C5%BAby_lodowcowej',\n",
       " 'https://pl.wikipedia.org/wiki/Kategoria:G%C5%82azy_narzutowe',\n",
       " 'https://pl.wikipedia.org/wiki/Kategoria:Jaskinie_lodowe',\n",
       " 'https://pl.wikipedia.org/wiki/Kategoria:Lodowce',\n",
       " 'https://pl.wikipedia.org/wiki/Kategoria:Procesy_i_formy_mrozowe',\n",
       " 'https://pl.wikipedia.org/wiki/Kategoria:Typy_lodowc%C3%B3w',\n",
       " 'https://pl.wikipedia.org/wiki/Kategoria:Zlodowacenia']"
      ]
     },
     "execution_count": 39,
     "metadata": {},
     "output_type": "execute_result"
    }
   ],
   "source": [
    "list_links"
   ]
  },
  {
   "cell_type": "code",
   "execution_count": 10,
   "metadata": {
    "collapsed": false,
    "jupyter": {
     "outputs_hidden": false
    }
   },
   "outputs": [
    {
     "data": {
      "text/plain": [
       "<div id=\"mw-subcategories\">\n",
       "<h2>Podkategorie</h2>\n",
       "<p>Poniżej wyświetlono 7 spośród wszystkich 7 podkategorii tej kategorii.\n",
       "</p><div class=\"mw-content-ltr\" dir=\"ltr\" lang=\"pl\"><div class=\"mw-category\"><div class=\"mw-category-group\"><h3>E</h3>\n",
       "<ul><li><div class=\"CategoryTreeSection\"><div class=\"CategoryTreeItem\"><span class=\"CategoryTreeBullet\"><span class=\"CategoryTreeToggle\" data-ct-state=\"collapsed\" data-ct-title=\"Elementy_rzeźby_lodowcowej\">►</span> </span> <a href=\"/wiki/Kategoria:Elementy_rze%C5%BAby_lodowcowej\" title=\"Kategoria:Elementy rzeźby lodowcowej\">Elementy rzeźby lodowcowej</a>‎ <span dir=\"ltr\" title=\"Zawiera 4 podkategorie, 27 stron i 0 plików\">(4 kategorie, 27 stron)</span></div><div class=\"CategoryTreeChildren\" style=\"display:none\"></div></div></li></ul></div><div class=\"mw-category-group\"><h3>G</h3>\n",
       "<ul><li><div class=\"CategoryTreeSection\"><div class=\"CategoryTreeItem\"><span class=\"CategoryTreeBullet\"><span class=\"CategoryTreeToggle\" data-ct-state=\"collapsed\" data-ct-title=\"Głazy_narzutowe\">►</span> </span> <a href=\"/wiki/Kategoria:G%C5%82azy_narzutowe\" title=\"Kategoria:Głazy narzutowe\">Głazy narzutowe</a>‎ <span dir=\"ltr\" title=\"Zawiera 1 podkategorię, 6 stron i 0 plików\">(1 kategoria, 6 stron)</span></div><div class=\"CategoryTreeChildren\" style=\"display:none\"></div></div></li></ul></div><div class=\"mw-category-group\"><h3>J</h3>\n",
       "<ul><li><div class=\"CategoryTreeSection\"><div class=\"CategoryTreeItem\"><span class=\"CategoryTreeEmptyBullet\">► </span> <a href=\"/wiki/Kategoria:Jaskinie_lodowe\" title=\"Kategoria:Jaskinie lodowe\">Jaskinie lodowe</a>‎ <span dir=\"ltr\" title=\"Zawiera 0 podkategorii, 27 stron i 0 plików\">(27 stron)</span></div><div class=\"CategoryTreeChildren\" style=\"display:none\"></div></div></li></ul></div><div class=\"mw-category-group\"><h3>L</h3>\n",
       "<ul><li><div class=\"CategoryTreeSection\"><div class=\"CategoryTreeItem\"><span class=\"CategoryTreeBullet\"><span class=\"CategoryTreeToggle\" data-ct-state=\"collapsed\" data-ct-title=\"Lodowce\">►</span> </span> <a href=\"/wiki/Kategoria:Lodowce\" title=\"Kategoria:Lodowce\">Lodowce</a>‎ <span dir=\"ltr\" title=\"Zawiera 16 podkategorii, 6 stron i 0 plików\">(16 kategorii, 6 stron)</span></div><div class=\"CategoryTreeChildren\" style=\"display:none\"></div></div></li></ul></div><div class=\"mw-category-group\"><h3>P</h3>\n",
       "<ul><li><div class=\"CategoryTreeSection\"><div class=\"CategoryTreeItem\"><span class=\"CategoryTreeBullet\"><span class=\"CategoryTreeToggle\" data-ct-state=\"collapsed\" data-ct-title=\"Procesy_i_formy_mrozowe\">►</span> </span> <a href=\"/wiki/Kategoria:Procesy_i_formy_mrozowe\" title=\"Kategoria:Procesy i formy mrozowe\">Procesy i formy mrozowe</a>‎ <span dir=\"ltr\" title=\"Zawiera 1 podkategorię, 29 stron i 0 plików\">(1 kategoria, 29 stron)</span></div><div class=\"CategoryTreeChildren\" style=\"display:none\"></div></div></li></ul></div><div class=\"mw-category-group\"><h3>T</h3>\n",
       "<ul><li><div class=\"CategoryTreeSection\"><div class=\"CategoryTreeItem\"><span class=\"CategoryTreeBullet\"><span class=\"CategoryTreeToggle\" data-ct-state=\"collapsed\" data-ct-title=\"Typy_lodowców\">►</span> </span> <a href=\"/wiki/Kategoria:Typy_lodowc%C3%B3w\" title=\"Kategoria:Typy lodowców\">Typy lodowców</a>‎ <span dir=\"ltr\" title=\"Zawiera 1 podkategorię, 18 stron i 0 plików\">(1 kategoria, 18 stron)</span></div><div class=\"CategoryTreeChildren\" style=\"display:none\"></div></div></li></ul></div><div class=\"mw-category-group\"><h3>Z</h3>\n",
       "<ul><li><div class=\"CategoryTreeSection\"><div class=\"CategoryTreeItem\"><span class=\"CategoryTreeEmptyBullet\">► </span> <a href=\"/wiki/Kategoria:Zlodowacenia\" title=\"Kategoria:Zlodowacenia\">Zlodowacenia</a>‎ <span dir=\"ltr\" title=\"Zawiera 0 podkategorii, 15 stron i 0 plików\">(15 stron)</span></div><div class=\"CategoryTreeChildren\" style=\"display:none\"></div></div></li></ul></div></div></div>\n",
       "</div>"
      ]
     },
     "execution_count": 10,
     "metadata": {},
     "output_type": "execute_result"
    }
   ],
   "source": [
    "mw_subcategories"
   ]
  },
  {
   "cell_type": "code",
   "execution_count": null,
   "metadata": {
    "collapsed": false,
    "jupyter": {
     "outputs_hidden": false
    }
   },
   "outputs": [],
   "source": []
  }
 ],
 "metadata": {
  "kernelspec": {
   "display_name": "Python 3",
   "language": "python",
   "name": "python3"
  },
  "language_info": {
   "codemirror_mode": {
    "name": "ipython",
    "version": 3
   },
   "file_extension": ".py",
   "mimetype": "text/x-python",
   "name": "python",
   "nbconvert_exporter": "python",
   "pygments_lexer": "ipython3",
   "version": "3.8.1"
  },
  "name": "temp_return_links.ipynb"
 },
 "nbformat": 4,
 "nbformat_minor": 4
}
