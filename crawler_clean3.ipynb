{
 "cells": [
  {
   "cell_type": "code",
   "execution_count": 1,
   "metadata": {},
   "outputs": [],
   "source": [
    "from class_crawler import Crawler"
   ]
  },
  {
   "cell_type": "code",
   "execution_count": 2,
   "metadata": {},
   "outputs": [],
   "source": [
    "# importing libraries\n",
    "\n",
    "from bs4 import BeautifulSoup\n",
    "import urllib.request\n",
    "import re"
   ]
  },
  {
   "cell_type": "code",
   "execution_count": 3,
   "metadata": {},
   "outputs": [],
   "source": [
    "import pandas as pd"
   ]
  },
  {
   "cell_type": "code",
   "execution_count": 4,
   "metadata": {},
   "outputs": [],
   "source": [
    "dir_ = \"wiki_links/\""
   ]
  },
  {
   "cell_type": "code",
   "execution_count": 5,
   "metadata": {},
   "outputs": [],
   "source": [
    "list_files = ['wirusowe zapalenia watroby.txt', 'choroby_wirusowe.txt', \n",
    "              \"goraczki_krwotoczne.txt\", \"grypa.txt\", \"choroby_pasorzytnicze.txt\"]"
   ]
  },
  {
   "cell_type": "code",
   "execution_count": 6,
   "metadata": {},
   "outputs": [],
   "source": [
    "crawler1 = Crawler()"
   ]
  },
  {
   "cell_type": "code",
   "execution_count": null,
   "metadata": {},
   "outputs": [],
   "source": []
  },
  {
   "cell_type": "code",
   "execution_count": 7,
   "metadata": {},
   "outputs": [],
   "source": [
    "links_from_files = crawler1.read_files(list_files, dir_)"
   ]
  },
  {
   "cell_type": "code",
   "execution_count": 8,
   "metadata": {},
   "outputs": [
    {
     "data": {
      "text/plain": [
       "['https://pl.wikipedia.org//wiki/Afryka%C5%84ski_pom%C3%B3r_koni\\n',\n",
       " 'https://pl.wikipedia.org//wiki/Afryka%C5%84ski_pom%C3%B3r_%C5%9Bwi%C5%84\\n',\n",
       " 'https://pl.wikipedia.org//wiki/Bia%C5%82aczka_kot%C3%B3w\\n',\n",
       " 'https://pl.wikipedia.org//wiki/Bliskowschodni_zesp%C3%B3%C5%82_oddechowy\\n',\n",
       " 'https://pl.wikipedia.org//wiki/Brodawczaki_krtani\\n',\n",
       " 'https://pl.wikipedia.org//wiki/Chikungunya\\n',\n",
       " 'https://pl.wikipedia.org//wiki/Choroba_bornajska\\n',\n",
       " 'https://pl.wikipedia.org//wiki/Choroba_Derzsyego\\n',\n",
       " 'https://pl.wikipedia.org//wiki/Choroba_d%C5%82oni,_st%C3%B3p_i_jamy_ustnej\\n',\n",
       " 'https://pl.wikipedia.org//wiki/Choroba_Hecka\\n',\n",
       " 'https://pl.wikipedia.org//wiki/Choroba_Heinego-Medina\\n',\n",
       " 'https://pl.wikipedia.org//wiki/Choroba_lasu_Kyasanur\\n',\n",
       " 'https://pl.wikipedia.org//wiki/Choroba_marmurkowatej_%C5%9Bledziony_ba%C5%BCant%C3%B3w\\n',\n",
       " 'https://pl.wikipedia.org//wiki/Choroba_skokowa_owiec\\n',\n",
       " 'https://pl.wikipedia.org//wiki/Choroba_wtr%C4%99towa\\n',\n",
       " 'https://pl.wikipedia.org//wiki/Cytomegalowirus\\n',\n",
       " 'https://pl.wikipedia.org//wiki/Denga\\n',\n",
       " 'https://pl.wikipedia.org//wiki/Encefalopatia_AIDS\\n',\n",
       " 'https://pl.wikipedia.org//wiki/Gor%C4%85czka_doliny_Rift\\n',\n",
       " 'https://pl.wikipedia.org//wiki/Gor%C4%85czka_Lassa\\n',\n",
       " 'https://pl.wikipedia.org//wiki/Gor%C4%85czka_O%27nyong-nyong\\n',\n",
       " 'https://pl.wikipedia.org//wiki/Gor%C4%85czka_Oropouche\\n',\n",
       " 'https://pl.wikipedia.org//wiki/Hantawirusowy_zesp%C3%B3%C5%82_p%C5%82ucny\\n',\n",
       " 'https://pl.wikipedia.org//wiki/Jaagsiekte\\n',\n",
       " 'https://pl.wikipedia.org//wiki/Japo%C5%84skie_zapalenie_m%C3%B3zgu\\n',\n",
       " 'https://pl.wikipedia.org//wiki/Kleszczowe_zapalenie_m%C3%B3zgu\\n',\n",
       " 'https://pl.wikipedia.org//wiki/Ksi%C4%99gosusz\\n',\n",
       " 'https://pl.wikipedia.org//wiki/Limfocytarne_zapalenie_splotu_naczyni%C3%B3wkowego_i_opon_m%C3%B3zgowych\\n',\n",
       " 'https://pl.wikipedia.org//wiki/%C5%81upie%C5%BC_r%C3%B3%C5%BCowy_Giberta\\n',\n",
       " 'https://pl.wikipedia.org//wiki/Mi%C4%99czak_zaka%C5%BAny\\n',\n",
       " 'https://pl.wikipedia.org//wiki/Mononukleoza_zaka%C5%BAna\\n',\n",
       " 'https://pl.wikipedia.org//wiki/Nagminna_pleurodynia\\n',\n",
       " 'https://pl.wikipedia.org//wiki/Nagminne_zapalenie_przyusznic\\n',\n",
       " 'https://pl.wikipedia.org//wiki/Nos%C3%B3wka\\n',\n",
       " 'https://pl.wikipedia.org//wiki/Objaw_Glanzmana\\n',\n",
       " 'https://pl.wikipedia.org//wiki/Odra_(choroba)\\n',\n",
       " 'https://pl.wikipedia.org//wiki/Opryszczkowe_zapalenie_m%C3%B3zgu\\n',\n",
       " 'https://pl.wikipedia.org//wiki/Ospa_ma%C5%82pia\\n',\n",
       " 'https://pl.wikipedia.org//wiki/Ospa_prawdziwa\\n',\n",
       " 'https://pl.wikipedia.org//wiki/Ospa_wietrzna\\n',\n",
       " 'https://pl.wikipedia.org//wiki/Pappataci\\n',\n",
       " 'https://pl.wikipedia.org//wiki/Parwowiroza_g%C4%99si\\n',\n",
       " 'https://pl.wikipedia.org//wiki/Plamki_Koplika\\n',\n",
       " 'https://pl.wikipedia.org//wiki/Post%C4%99puj%C4%85ca_leukoencefalopatia_wieloogniskowa\\n',\n",
       " 'https://pl.wikipedia.org//wiki/P%C3%B3%C5%82pasiec\\n',\n",
       " 'https://pl.wikipedia.org//wiki/P%C3%B3%C5%82pasiec_oczny\\n',\n",
       " 'https://pl.wikipedia.org//wiki/Pryszczyca\\n',\n",
       " 'https://pl.wikipedia.org//wiki/Przezi%C4%99bienie\\n',\n",
       " 'https://pl.wikipedia.org//wiki/Zesp%C3%B3%C5%82_Ramsaya_Hunta\\n',\n",
       " 'https://pl.wikipedia.org//wiki/R%C3%B3%C5%BCyczka\\n',\n",
       " 'https://pl.wikipedia.org//wiki/Rumie%C5%84_nag%C5%82y\\n',\n",
       " 'https://pl.wikipedia.org//wiki/Rumie%C5%84_zaka%C5%BAny\\n',\n",
       " 'https://pl.wikipedia.org//wiki/SARS\\n',\n",
       " 'https://pl.wikipedia.org//wiki/Tropikalna_spastyczna_parapareza\\n',\n",
       " 'https://pl.wikipedia.org//wiki/Wirus_chronicznego_parali%C5%BCu_pszcz%C3%B3%C5%82\\n',\n",
       " 'https://pl.wikipedia.org//wiki/Wirus_Hendra\\n',\n",
       " 'https://pl.wikipedia.org//wiki/Wirus_Nipah\\n',\n",
       " 'https://pl.wikipedia.org//wiki/Wirus_ostrego_parali%C5%BCu_pszcz%C3%B3%C5%82\\n',\n",
       " 'https://pl.wikipedia.org//wiki/Wirus_zdeformowanych_skrzyde%C5%82\\n',\n",
       " 'https://pl.wikipedia.org//wiki/Wirus_ze_Schmallenbergu\\n',\n",
       " 'https://pl.wikipedia.org//wiki/Wirusowe_zapalenie_staw%C3%B3w\\n',\n",
       " 'https://pl.wikipedia.org//wiki/Wirusowe_zapalenie_t%C4%99tnic_koni\\n',\n",
       " 'https://pl.wikipedia.org//wiki/W%C5%9Bcieklizna\\n',\n",
       " 'https://pl.wikipedia.org//wiki/Zaka%C5%BCenia_opryszczkowe\\n',\n",
       " 'https://pl.wikipedia.org//wiki/Zanokcica_opryszczkowa\\n',\n",
       " 'https://pl.wikipedia.org//wiki/Zapalenia_m%C3%B3zgu_doliny_Murray\\n',\n",
       " 'https://pl.wikipedia.org//wiki/Zesp%C3%B3%C5%82_Gianottiego-Crostiego\\n',\n",
       " 'https://pl.wikipedia.org//wiki/Zesp%C3%B3%C5%82_nabytego_niedoboru_odporno%C5%9Bci\\n',\n",
       " 'https://pl.wikipedia.org//wiki/Zesp%C3%B3%C5%82_r%C3%B3%C5%BCyczki_wrodzonej\\n',\n",
       " 'https://pl.wikipedia.org//wiki/%C5%BB%C3%B3%C5%82ta_gor%C4%85czka\\n']"
      ]
     },
     "execution_count": 8,
     "metadata": {},
     "output_type": "execute_result"
    }
   ],
   "source": [
    "links_from_files[1]"
   ]
  },
  {
   "cell_type": "code",
   "execution_count": null,
   "metadata": {},
   "outputs": [],
   "source": []
  },
  {
   "cell_type": "code",
   "execution_count": 9,
   "metadata": {},
   "outputs": [],
   "source": [
    "df_index = [\"akronim\", \"fraza polska\", \"fraza obca\", \"język\", \"hasło_wikipedia\"]"
   ]
  },
  {
   "cell_type": "code",
   "execution_count": 10,
   "metadata": {},
   "outputs": [],
   "source": [
    "acronyms_data_frame = pd.DataFrame(columns=[\"akronim\", \"fraza polska\", \"fraza obca\", \"język\", \"hasło_wikipedia\"])"
   ]
  },
  {
   "cell_type": "code",
   "execution_count": 11,
   "metadata": {},
   "outputs": [
    {
     "data": {
      "text/html": [
       "<div>\n",
       "<style scoped>\n",
       "    .dataframe tbody tr th:only-of-type {\n",
       "        vertical-align: middle;\n",
       "    }\n",
       "\n",
       "    .dataframe tbody tr th {\n",
       "        vertical-align: top;\n",
       "    }\n",
       "\n",
       "    .dataframe thead th {\n",
       "        text-align: right;\n",
       "    }\n",
       "</style>\n",
       "<table border=\"1\" class=\"dataframe\">\n",
       "  <thead>\n",
       "    <tr style=\"text-align: right;\">\n",
       "      <th></th>\n",
       "      <th>akronim</th>\n",
       "      <th>fraza polska</th>\n",
       "      <th>fraza obca</th>\n",
       "      <th>język</th>\n",
       "      <th>hasło_wikipedia</th>\n",
       "    </tr>\n",
       "  </thead>\n",
       "  <tbody>\n",
       "  </tbody>\n",
       "</table>\n",
       "</div>"
      ],
      "text/plain": [
       "Empty DataFrame\n",
       "Columns: [akronim, fraza polska, fraza obca, język, hasło_wikipedia]\n",
       "Index: []"
      ]
     },
     "execution_count": 11,
     "metadata": {},
     "output_type": "execute_result"
    }
   ],
   "source": [
    "acronyms_data_frame"
   ]
  },
  {
   "cell_type": "code",
   "execution_count": 12,
   "metadata": {},
   "outputs": [],
   "source": [
    "# list_all_links"
   ]
  },
  {
   "cell_type": "code",
   "execution_count": null,
   "metadata": {},
   "outputs": [],
   "source": []
  },
  {
   "cell_type": "code",
   "execution_count": 13,
   "metadata": {},
   "outputs": [],
   "source": [
    "#acronyms_data_frame = crawler1.readAll(links_from_files, acronyms_data_frame, df_index, verbose=False)"
   ]
  },
  {
   "cell_type": "code",
   "execution_count": null,
   "metadata": {},
   "outputs": [],
   "source": []
  },
  {
   "cell_type": "code",
   "execution_count": 14,
   "metadata": {},
   "outputs": [
    {
     "data": {
      "text/html": [
       "<div>\n",
       "<style scoped>\n",
       "    .dataframe tbody tr th:only-of-type {\n",
       "        vertical-align: middle;\n",
       "    }\n",
       "\n",
       "    .dataframe tbody tr th {\n",
       "        vertical-align: top;\n",
       "    }\n",
       "\n",
       "    .dataframe thead th {\n",
       "        text-align: right;\n",
       "    }\n",
       "</style>\n",
       "<table border=\"1\" class=\"dataframe\">\n",
       "  <thead>\n",
       "    <tr style=\"text-align: right;\">\n",
       "      <th></th>\n",
       "      <th>akronim</th>\n",
       "      <th>fraza polska</th>\n",
       "      <th>fraza obca</th>\n",
       "      <th>język</th>\n",
       "      <th>hasło_wikipedia</th>\n",
       "    </tr>\n",
       "  </thead>\n",
       "  <tbody>\n",
       "  </tbody>\n",
       "</table>\n",
       "</div>"
      ],
      "text/plain": [
       "Empty DataFrame\n",
       "Columns: [akronim, fraza polska, fraza obca, język, hasło_wikipedia]\n",
       "Index: []"
      ]
     },
     "execution_count": 14,
     "metadata": {},
     "output_type": "execute_result"
    }
   ],
   "source": [
    "acronyms_data_frame[0:10]"
   ]
  },
  {
   "cell_type": "code",
   "execution_count": null,
   "metadata": {},
   "outputs": [],
   "source": []
  },
  {
   "cell_type": "code",
   "execution_count": 15,
   "metadata": {},
   "outputs": [],
   "source": [
    "# acronyms_data_frame.to_csv (r'medical_from_wiki.csv', index = None, header=True)"
   ]
  },
  {
   "cell_type": "code",
   "execution_count": null,
   "metadata": {},
   "outputs": [],
   "source": []
  },
  {
   "cell_type": "code",
   "execution_count": null,
   "metadata": {},
   "outputs": [],
   "source": []
  },
  {
   "cell_type": "code",
   "execution_count": 20,
   "metadata": {},
   "outputs": [],
   "source": [
    "par1 = crawler1.getExtandParagraph(links_from_files[0][1], verbose=False)"
   ]
  },
  {
   "cell_type": "code",
   "execution_count": 21,
   "metadata": {},
   "outputs": [
    {
     "data": {
      "text/plain": [
       "('Wirusowe zapalenie wątroby typu B',\n",
       " 'Wirusowe zapalenie wątroby typu B (WZW typu B) – wirusowe zapalenie wątroby wywołane zakażeniem HBV występujące u człekokształtnych, dawniej określane mianem żółtaczki wszczepiennej. Choroba nadal powoduje epidemie w Azji i Afryce i jest endemiczna w Chinach oraz wielu innych częściach Azji. Około jednej trzeciej ludności świata zostało zainfekowanych wirusem zapalenia wątroby B[1], z czego 350 milionów to przewlekli nosiciele. Zakażenie HBV dotyka w Europie 1 na 50 osób[2].\\n',\n",
       " 'Wirusowe_zapalenie_w%C4%85troby_typu_B')"
      ]
     },
     "execution_count": 21,
     "metadata": {},
     "output_type": "execute_result"
    }
   ],
   "source": [
    "par1"
   ]
  },
  {
   "cell_type": "code",
   "execution_count": 22,
   "metadata": {},
   "outputs": [
    {
     "name": "stdout",
     "output_type": "stream",
     "text": [
      "no translation\n"
     ]
    },
    {
     "data": {
      "text/plain": [
       "akronim                                               WZW\n",
       "fraza polska            Wirusowe zapalenie wątroby typu B\n",
       "fraza obca                                           brak\n",
       "język                                                brak\n",
       "hasło_wikipedia    Wirusowe_zapalenie_w%C4%85troby_typu_B\n",
       "dtype: object"
      ]
     },
     "execution_count": 22,
     "metadata": {},
     "output_type": "execute_result"
    }
   ],
   "source": [
    "crawler1.getAcronymFromParapraph(par1[0], par1[1], par1[2], df_index, verbose=False)"
   ]
  },
  {
   "cell_type": "code",
   "execution_count": 19,
   "metadata": {},
   "outputs": [
    {
     "data": {
      "text/plain": [
       "'Antygen HBs, białko S[1] – antygen, którego poziom świadczy o zakażeniu wirusem HBV (wywołującym wirusowe zapalenie wątroby typu B, WZW B). Kapsyd wirusa ma różne białka powierzchniowe od reszty wirusa, które działają jak antygeny. Antygeny te rozpoznawane są przez przeciwciała, które wiążą się z białkami, w szczególności do jednego z tych białek powierzchniowych. Poziom przeciwciał przeciw antygenowi HBs może być oznaczony laboratoryjnie[2].'"
      ]
     },
     "execution_count": 19,
     "metadata": {},
     "output_type": "execute_result"
    }
   ],
   "source": [
    "par1[1][0:-1]"
   ]
  },
  {
   "cell_type": "code",
   "execution_count": null,
   "metadata": {},
   "outputs": [],
   "source": []
  }
 ],
 "metadata": {
  "jupytext": {
   "formats": "ipynb,py:light"
  },
  "kernelspec": {
   "display_name": "Python 3",
   "language": "python",
   "name": "python3"
  },
  "language_info": {
   "codemirror_mode": {
    "name": "ipython",
    "version": 3
   },
   "file_extension": ".py",
   "mimetype": "text/x-python",
   "name": "python",
   "nbconvert_exporter": "python",
   "pygments_lexer": "ipython3",
   "version": "3.7.3"
  }
 },
 "nbformat": 4,
 "nbformat_minor": 4
}
