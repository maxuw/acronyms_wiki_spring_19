{
 "cells": [
  {
   "cell_type": "code",
   "execution_count": 1,
   "metadata": {
    "pycharm": {
     "is_executing": false
    }
   },
   "outputs": [],
   "source": [
    "import class_link_extractor"
   ]
  },
  {
   "cell_type": "code",
   "execution_count": null,
   "metadata": {
    "pycharm": {
     "is_executing": false
    }
   },
   "outputs": [],
   "source": []
  },
  {
   "cell_type": "code",
   "execution_count": 2,
   "metadata": {
    "pycharm": {
     "is_executing": false
    }
   },
   "outputs": [],
   "source": [
    "url = \"https://pl.wikipedia.org/wiki/Kategoria:Choroby_wirusowe\""
   ]
  },
  {
   "cell_type": "code",
   "execution_count": 3,
   "metadata": {
    "pycharm": {
     "is_executing": false
    }
   },
   "outputs": [
    {
     "name": "stdout",
     "output_type": "stream",
     "text": [
      "1\n",
      "unknown type of page\n",
      "unknown type of page\n",
      "duplicate:  https://pl.wikipedia.org/wiki/Wirusowe_zapalenie_w%C4%85troby\n",
      "2\n",
      "unknown type of page\n",
      "unknown type of page\n",
      "3\n"
     ]
    }
   ],
   "source": [
    "links = class_link_extractor.return_links_category([url])"
   ]
  },
  {
   "cell_type": "code",
   "execution_count": 4,
   "metadata": {
    "pycharm": {
     "is_executing": false
    }
   },
   "outputs": [
    {
     "data": {
      "text/plain": [
       "['https://pl.wikipedia.org/wiki/Choroby_wirusowe',\n",
       " 'https://pl.wikipedia.org/wiki/Afryka%C5%84ski_pom%C3%B3r_koni',\n",
       " 'https://pl.wikipedia.org/wiki/Afryka%C5%84ski_pom%C3%B3r_%C5%9Bwi%C5%84',\n",
       " 'https://pl.wikipedia.org/wiki/Bia%C5%82aczka_kot%C3%B3w',\n",
       " 'https://pl.wikipedia.org/wiki/Bliskowschodni_zesp%C3%B3%C5%82_oddechowy',\n",
       " 'https://pl.wikipedia.org/wiki/Brodawczaki_krtani',\n",
       " 'https://pl.wikipedia.org/wiki/Chikungunya',\n",
       " 'https://pl.wikipedia.org/wiki/Choroba_bornajska',\n",
       " 'https://pl.wikipedia.org/wiki/Choroba_Derzsyego',\n",
       " 'https://pl.wikipedia.org/wiki/Choroba_d%C5%82oni,_st%C3%B3p_i_jamy_ustnej',\n",
       " 'https://pl.wikipedia.org/wiki/Choroba_Hecka',\n",
       " 'https://pl.wikipedia.org/wiki/Choroba_Heinego-Medina',\n",
       " 'https://pl.wikipedia.org/wiki/Choroba_lasu_Kyasanur',\n",
       " 'https://pl.wikipedia.org/wiki/Choroba_marmurkowatej_%C5%9Bledziony_ba%C5%BCant%C3%B3w',\n",
       " 'https://pl.wikipedia.org/wiki/Choroba_skokowa_owiec',\n",
       " 'https://pl.wikipedia.org/wiki/Choroba_wtr%C4%99towa',\n",
       " 'https://pl.wikipedia.org/wiki/COVID-19',\n",
       " 'https://pl.wikipedia.org/wiki/Cytomegalowirus',\n",
       " 'https://pl.wikipedia.org/wiki/Denga',\n",
       " 'https://pl.wikipedia.org/wiki/Encefalopatia_AIDS',\n",
       " 'https://pl.wikipedia.org/wiki/Gor%C4%85czka_doliny_Rift',\n",
       " 'https://pl.wikipedia.org/wiki/Gor%C4%85czka_Lassa',\n",
       " 'https://pl.wikipedia.org/wiki/Gor%C4%85czka_O%27nyong-nyong',\n",
       " 'https://pl.wikipedia.org/wiki/Gor%C4%85czka_Oropouche',\n",
       " 'https://pl.wikipedia.org/wiki/Hantawirusowy_zesp%C3%B3%C5%82_p%C5%82ucny',\n",
       " 'https://pl.wikipedia.org/wiki/Jaagsiekte',\n",
       " 'https://pl.wikipedia.org/wiki/Japo%C5%84skie_zapalenie_m%C3%B3zgu',\n",
       " 'https://pl.wikipedia.org/wiki/Kleszczowe_zapalenie_m%C3%B3zgu',\n",
       " 'https://pl.wikipedia.org/wiki/Ksi%C4%99gosusz',\n",
       " 'https://pl.wikipedia.org/wiki/Limfocytarne_zapalenie_splotu_naczyni%C3%B3wkowego_i_opon_m%C3%B3zgowych',\n",
       " 'https://pl.wikipedia.org/wiki/%C5%81upie%C5%BC_r%C3%B3%C5%BCowy_Giberta',\n",
       " 'https://pl.wikipedia.org/wiki/Mi%C4%99czak_zaka%C5%BAny',\n",
       " 'https://pl.wikipedia.org/wiki/Mononukleoza_zaka%C5%BAna',\n",
       " 'https://pl.wikipedia.org/wiki/Nagminna_pleurodynia',\n",
       " 'https://pl.wikipedia.org/wiki/Nagminne_zapalenie_przyusznic',\n",
       " 'https://pl.wikipedia.org/wiki/Nos%C3%B3wka',\n",
       " 'https://pl.wikipedia.org/wiki/Objaw_Glanzmana',\n",
       " 'https://pl.wikipedia.org/wiki/Odra_(choroba)',\n",
       " 'https://pl.wikipedia.org/wiki/Opryszczkowe_zapalenie_m%C3%B3zgu',\n",
       " 'https://pl.wikipedia.org/wiki/Ospa_ma%C5%82pia',\n",
       " 'https://pl.wikipedia.org/wiki/Ospa_prawdziwa',\n",
       " 'https://pl.wikipedia.org/wiki/Ospa_wietrzna',\n",
       " 'https://pl.wikipedia.org/wiki/Pappataci',\n",
       " 'https://pl.wikipedia.org/wiki/Parwowiroza_g%C4%99si',\n",
       " 'https://pl.wikipedia.org/wiki/Plamki_Koplika',\n",
       " 'https://pl.wikipedia.org/wiki/Post%C4%99puj%C4%85ca_leukoencefalopatia_wieloogniskowa',\n",
       " 'https://pl.wikipedia.org/wiki/P%C3%B3%C5%82pasiec',\n",
       " 'https://pl.wikipedia.org/wiki/P%C3%B3%C5%82pasiec_oczny',\n",
       " 'https://pl.wikipedia.org/wiki/Pryszczyca',\n",
       " 'https://pl.wikipedia.org/wiki/Przezi%C4%99bienie',\n",
       " 'https://pl.wikipedia.org/wiki/Zesp%C3%B3%C5%82_Ramsaya_Hunta',\n",
       " 'https://pl.wikipedia.org/wiki/R%C3%B3%C5%BCyczka',\n",
       " 'https://pl.wikipedia.org/wiki/Rumie%C5%84_nag%C5%82y',\n",
       " 'https://pl.wikipedia.org/wiki/Rumie%C5%84_zaka%C5%BAny',\n",
       " 'https://pl.wikipedia.org/wiki/SARS',\n",
       " 'https://pl.wikipedia.org/wiki/Tropikalna_spastyczna_parapareza',\n",
       " 'https://pl.wikipedia.org/wiki/Wirus_chronicznego_parali%C5%BCu_pszcz%C3%B3%C5%82',\n",
       " 'https://pl.wikipedia.org/wiki/Wirus_Hendra',\n",
       " 'https://pl.wikipedia.org/wiki/Wirus_Nipah',\n",
       " 'https://pl.wikipedia.org/wiki/Wirus_ostrego_parali%C5%BCu_pszcz%C3%B3%C5%82',\n",
       " 'https://pl.wikipedia.org/wiki/Wirus_zdeformowanych_skrzyde%C5%82',\n",
       " 'https://pl.wikipedia.org/wiki/Wirus_ze_Schmallenbergu',\n",
       " 'https://pl.wikipedia.org/wiki/Wirusowe_zapalenie_staw%C3%B3w',\n",
       " 'https://pl.wikipedia.org/wiki/Wirusowe_zapalenie_t%C4%99tnic_koni',\n",
       " 'https://pl.wikipedia.org/wiki/W%C5%9Bcieklizna',\n",
       " 'https://pl.wikipedia.org/wiki/Zaka%C5%BCenia_opryszczkowe',\n",
       " 'https://pl.wikipedia.org/wiki/Zanokcica_opryszczkowa',\n",
       " 'https://pl.wikipedia.org/wiki/Zapalenia_m%C3%B3zgu_doliny_Murray',\n",
       " 'https://pl.wikipedia.org/wiki/Zesp%C3%B3%C5%82_Gianottiego-Crostiego',\n",
       " 'https://pl.wikipedia.org/wiki/Zesp%C3%B3%C5%82_nabytego_niedoboru_odporno%C5%9Bci',\n",
       " 'https://pl.wikipedia.org/wiki/Zesp%C3%B3%C5%82_r%C3%B3%C5%BCyczki_wrodzonej',\n",
       " 'https://pl.wikipedia.org/wiki/%C5%BB%C3%B3%C5%82ta_gor%C4%85czka',\n",
       " 'https://pl.wikipedia.org/wiki/Grypa',\n",
       " 'https://pl.wikipedia.org/wiki/Grypa_azjatycka',\n",
       " 'https://pl.wikipedia.org/wiki/Grypa_ko%C5%84ska',\n",
       " 'https://pl.wikipedia.org/wiki/H1N1',\n",
       " 'https://pl.wikipedia.org/wiki/H2N2',\n",
       " 'https://pl.wikipedia.org/wiki/H5N1',\n",
       " 'https://pl.wikipedia.org/wiki/H9N2',\n",
       " 'https://pl.wikipedia.org/wiki/Neuraminidaza',\n",
       " 'https://pl.wikipedia.org/wiki/Pandemia_grypy_A/H1N1_w_latach_2009%E2%80%932010',\n",
       " 'https://pl.wikipedia.org/wiki/Pandemia_grypy_w_latach_1918%E2%80%931919',\n",
       " 'https://pl.wikipedia.org/wiki/Przesuni%C4%99cie_antygenowe',\n",
       " 'https://pl.wikipedia.org/wiki/Ptasia_grypa',\n",
       " 'https://pl.wikipedia.org/wiki/Skok_antygenowy',\n",
       " 'https://pl.wikipedia.org/wiki/Szczepionka_modelowa',\n",
       " 'https://pl.wikipedia.org/wiki/Szczepionka_prepandemiczna_przeciw_grypie',\n",
       " 'https://pl.wikipedia.org/wiki/Szczepionka_przeciw_grypie',\n",
       " 'https://pl.wikipedia.org/wiki/Szczepionka_przeciw_grypie_pandemicznej',\n",
       " 'https://pl.wikipedia.org/wiki/%C5%9Awi%C5%84ska_grypa',\n",
       " 'https://pl.wikipedia.org/wiki/Wirus_grypy',\n",
       " 'https://pl.wikipedia.org/wiki/Wirusowe_zapalenie_w%C4%85troby',\n",
       " 'https://pl.wikipedia.org/wiki/%C5%9Awiatowy_Dzie%C5%84_Wirusowego_Zapalenia_W%C4%85troby',\n",
       " 'https://pl.wikipedia.org/wiki/Antygen_HBs',\n",
       " 'https://pl.wikipedia.org/wiki/Wirusowe_zapalenie_w%C4%85troby_typu_B',\n",
       " 'https://pl.wikipedia.org/wiki/Wirusowe_zapalenie_w%C4%85troby_typu_C',\n",
       " 'https://pl.wikipedia.org/wiki/Wirusowe_zapalenie_w%C4%85troby_typu_E',\n",
       " 'https://pl.wikipedia.org/wiki/Wirus_zapalenia_w%C4%85troby_typu_A',\n",
       " 'https://pl.wikipedia.org/wiki/Wirus_zapalenia_w%C4%85troby_typu_B',\n",
       " 'https://pl.wikipedia.org/wiki/Wirus_zapalenia_w%C4%85troby_typu_C',\n",
       " 'https://pl.wikipedia.org/wiki/Wirus_zapalenia_w%C4%85troby_typu_D',\n",
       " 'https://pl.wikipedia.org/wiki/Wirus_zapalenia_w%C4%85troby_typu_E',\n",
       " 'https://pl.wikipedia.org/wiki/Gor%C4%85czka_krwotoczna',\n",
       " 'https://pl.wikipedia.org/wiki/Argenty%C5%84ska_gor%C4%85czka_krwotoczna',\n",
       " 'https://pl.wikipedia.org/wiki/Boliwijska_gor%C4%85czka_krwotoczna',\n",
       " 'https://pl.wikipedia.org/wiki/Brazylijska_gor%C4%85czka_krwotoczna',\n",
       " 'https://pl.wikipedia.org/wiki/Choroba_marburska',\n",
       " 'https://pl.wikipedia.org/wiki/Gor%C4%85czka_krwotoczna_Ebola',\n",
       " 'https://pl.wikipedia.org/wiki/Gor%C4%85czka_krwotoczna_krymsko-kongijska',\n",
       " 'https://pl.wikipedia.org/wiki/Gor%C4%85czka_krwotoczna_z_zespo%C5%82em_nerkowym',\n",
       " 'https://pl.wikipedia.org/wiki/Gor%C4%85czka_Zachodniego_Nilu',\n",
       " 'https://pl.wikipedia.org/wiki/Omska_gor%C4%85czka_krwotoczna',\n",
       " 'https://pl.wikipedia.org/wiki/Wenezuelska_gor%C4%85czka_krwotoczna',\n",
       " 'https://pl.wikipedia.org/wiki/Amantadyna',\n",
       " 'https://pl.wikipedia.org/wiki/Oseltamiwir',\n",
       " 'https://pl.wikipedia.org/wiki/Rymantadyna',\n",
       " 'https://pl.wikipedia.org/wiki/Wirusowe_choroby_ro%C5%9Blin',\n",
       " 'https://pl.wikipedia.org/wiki/Chloroza_nerw%C3%B3w_li%C5%9Bci_maliny',\n",
       " 'https://pl.wikipedia.org/wiki/Krzaczasta_kar%C5%82owato%C5%9B%C4%87_maliny',\n",
       " 'https://pl.wikipedia.org/wiki/Mozaika_maliny',\n",
       " 'https://pl.wikipedia.org/wiki/Mozaika_tytoniowa',\n",
       " 'https://pl.wikipedia.org/wiki/Oparzelina_bor%C3%B3wki_wysokiej',\n",
       " 'https://pl.wikipedia.org/wiki/Ospowato%C5%9B%C4%87_%C5%9Bliwy',\n",
       " 'https://pl.wikipedia.org/wiki/Pstro%C5%9B%C4%87_tulipana',\n",
       " 'https://pl.wikipedia.org/wiki/Smugowato%C5%9B%C4%87_ziemniaka',\n",
       " 'https://pl.wikipedia.org/wiki/W%C4%85skolisto%C5%9B%C4%87_%C5%82ubinu',\n",
       " 'https://pl.wikipedia.org/wiki/%C5%BB%C3%B3%C5%82ta_kar%C5%82owato%C5%9B%C4%87_j%C4%99czmienia',\n",
       " 'https://pl.wikipedia.org/wiki/%C5%BB%C3%B3%C5%82ta_mozaika_j%C4%99czmienia',\n",
       " 'https://pl.wikipedia.org/wiki/%C5%BB%C3%B3%C5%82taczka_buraka']"
      ]
     },
     "execution_count": 4,
     "metadata": {},
     "output_type": "execute_result"
    }
   ],
   "source": [
    "links"
   ]
  },
  {
   "cell_type": "code",
   "execution_count": 3,
   "metadata": {
    "pycharm": {
     "is_executing": false
    }
   },
   "outputs": [],
   "source": [
    "import crawler"
   ]
  },
  {
   "cell_type": "code",
   "execution_count": 4,
   "metadata": {
    "pycharm": {
     "is_executing": false
    }
   },
   "outputs": [],
   "source": [
    "import pandas as pd"
   ]
  },
  {
   "cell_type": "code",
   "execution_count": null,
   "metadata": {
    "pycharm": {
     "is_executing": false
    }
   },
   "outputs": [],
   "source": []
  },
  {
   "cell_type": "code",
   "execution_count": 5,
   "metadata": {
    "pycharm": {
     "is_executing": false
    }
   },
   "outputs": [],
   "source": [
    "df_index = [\"akronim\", \"fraza polska\", \"fraza obca\", \"język\", \"hasło_wikipedia\"]"
   ]
  },
  {
   "cell_type": "code",
   "execution_count": 6,
   "metadata": {
    "pycharm": {
     "is_executing": false
    }
   },
   "outputs": [],
   "source": [
    "acronyms_data_frame = pd.DataFrame(columns=[\"akronim\", \"fraza polska\", \"fraza obca\", \"język\", \"hasło_wikipedia\"])"
   ]
  },
  {
   "cell_type": "code",
   "execution_count": 7,
   "metadata": {
    "pycharm": {
     "is_executing": false
    }
   },
   "outputs": [
    {
     "data": {
      "text/html": [
       "<div>\n",
       "<style scoped>\n",
       "    .dataframe tbody tr th:only-of-type {\n",
       "        vertical-align: middle;\n",
       "    }\n",
       "\n",
       "    .dataframe tbody tr th {\n",
       "        vertical-align: top;\n",
       "    }\n",
       "\n",
       "    .dataframe thead th {\n",
       "        text-align: right;\n",
       "    }\n",
       "</style>\n",
       "<table border=\"1\" class=\"dataframe\">\n",
       "  <thead>\n",
       "    <tr style=\"text-align: right;\">\n",
       "      <th></th>\n",
       "      <th>akronim</th>\n",
       "      <th>fraza polska</th>\n",
       "      <th>fraza obca</th>\n",
       "      <th>język</th>\n",
       "      <th>hasło_wikipedia</th>\n",
       "    </tr>\n",
       "  </thead>\n",
       "  <tbody>\n",
       "  </tbody>\n",
       "</table>\n",
       "</div>"
      ],
      "text/plain": [
       "Empty DataFrame\n",
       "Columns: [akronim, fraza polska, fraza obca, język, hasło_wikipedia]\n",
       "Index: []"
      ]
     },
     "execution_count": 7,
     "metadata": {},
     "output_type": "execute_result"
    }
   ],
   "source": [
    "acronyms_data_frame"
   ]
  },
  {
   "cell_type": "code",
   "execution_count": 9,
   "metadata": {
    "pycharm": {
     "is_executing": false
    }
   },
   "outputs": [],
   "source": [
    "url2 = \"https://pl.wikipedia.org/wiki/Choroby_wirusowe\""
   ]
  },
  {
   "cell_type": "code",
   "execution_count": 11,
   "metadata": {
    "pycharm": {
     "is_executing": false
    }
   },
   "outputs": [
    {
     "name": "stdout",
     "output_type": "stream",
     "text": [
      "Title:  Choroby wirusowe  Record:  Choroby_wirusowe\n",
      "Choroby wirusowe\n"
     ]
    },
    {
     "data": {
      "text/plain": [
       "('Choroby wirusowe',\n",
       " 'Choroby wirusowe, infekcje wirusowe — choroby zakaźne wywoływane przez obecność wirusów w organizmie. W zależności od rodzaju wirusa oraz stanu zdrowia zakażonej osoby, wirusy mogą zakazić prawie każdą komórkę oraz tkankę ciała, od mózgu do skóry. Po wniknięciu do komórki wirus żywi się nią, co powoduje jej śmierć, a nawet zaniknięcie.\\n',\n",
       " 'Choroby_wirusowe')"
      ]
     },
     "execution_count": 11,
     "metadata": {},
     "output_type": "execute_result"
    }
   ],
   "source": [
    "crawler.get_paragraph_title_wikirec(url2, True)"
   ]
  },
  {
   "cell_type": "code",
   "execution_count": 10,
   "metadata": {
    "pycharm": {
     "is_executing": false
    }
   },
   "outputs": [
    {
     "name": "stdout",
     "output_type": "stream",
     "text": [
      "False\n"
     ]
    },
    {
     "ename": "HTTPError",
     "evalue": "HTTP Error 404: Not Found",
     "output_type": "error",
     "traceback": [
      "\u001b[0;31m---------------------------------------------------------------------------\u001b[0m",
      "\u001b[0;31mHTTPError\u001b[0m                                 Traceback (most recent call last)",
      "\u001b[0;32m<ipython-input-10-3fcb32f47aba>\u001b[0m in \u001b[0;36m<module>\u001b[0;34m\u001b[0m\n\u001b[0;32m----> 1\u001b[0;31m \u001b[0macronyms_data_frame\u001b[0m \u001b[0;34m=\u001b[0m \u001b[0mcrawler\u001b[0m\u001b[0;34m.\u001b[0m\u001b[0mreadAll\u001b[0m\u001b[0;34m(\u001b[0m\u001b[0mlinks\u001b[0m\u001b[0;34m,\u001b[0m \u001b[0macronyms_data_frame\u001b[0m\u001b[0;34m,\u001b[0m \u001b[0mdf_index\u001b[0m\u001b[0;34m,\u001b[0m \u001b[0mverbose\u001b[0m\u001b[0;34m=\u001b[0m\u001b[0;32mFalse\u001b[0m\u001b[0;34m,\u001b[0m \u001b[0mrequire_acronym\u001b[0m\u001b[0;34m=\u001b[0m\u001b[0;32mTrue\u001b[0m\u001b[0;34m)\u001b[0m\u001b[0;34m\u001b[0m\u001b[0;34m\u001b[0m\u001b[0m\n\u001b[0m\u001b[1;32m      2\u001b[0m \u001b[0;34m\u001b[0m\u001b[0m\n",
      "\u001b[0;32m~/emacs/acronyms/crawler.py\u001b[0m in \u001b[0;36mreadAll\u001b[0;34m(list_link, acronyms_data_frame, df_index, verbose, require_acronym)\u001b[0m\n\u001b[1;32m     27\u001b[0m         \u001b[0mlink\u001b[0m \u001b[0;34m=\u001b[0m \u001b[0mlink\u001b[0m\u001b[0;34m[\u001b[0m\u001b[0;34m:\u001b[0m\u001b[0;34m-\u001b[0m\u001b[0;36m1\u001b[0m\u001b[0;34m]\u001b[0m\u001b[0;34m\u001b[0m\u001b[0;34m\u001b[0m\u001b[0m\n\u001b[1;32m     28\u001b[0m         \u001b[0mprint\u001b[0m\u001b[0;34m(\u001b[0m\u001b[0mverbose\u001b[0m\u001b[0;34m)\u001b[0m\u001b[0;34m\u001b[0m\u001b[0;34m\u001b[0m\u001b[0m\n\u001b[0;32m---> 29\u001b[0;31m         \u001b[0mtitle\u001b[0m\u001b[0;34m,\u001b[0m \u001b[0mparagraph\u001b[0m\u001b[0;34m,\u001b[0m \u001b[0mwiki_record\u001b[0m \u001b[0;34m=\u001b[0m \u001b[0mget_paragraph_title_wikirec\u001b[0m\u001b[0;34m(\u001b[0m\u001b[0mlink\u001b[0m\u001b[0;34m,\u001b[0m \u001b[0mverbose\u001b[0m\u001b[0;34m)\u001b[0m\u001b[0;34m\u001b[0m\u001b[0;34m\u001b[0m\u001b[0m\n\u001b[0m\u001b[1;32m     30\u001b[0m \u001b[0;34m\u001b[0m\u001b[0m\n\u001b[1;32m     31\u001b[0m         \u001b[0;32mif\u001b[0m \u001b[0mparagraph\u001b[0m \u001b[0;34m!=\u001b[0m \u001b[0;32mNone\u001b[0m\u001b[0;34m:\u001b[0m\u001b[0;34m\u001b[0m\u001b[0;34m\u001b[0m\u001b[0m\n",
      "\u001b[0;32m~/emacs/acronyms/crawler.py\u001b[0m in \u001b[0;36mget_paragraph_title_wikirec\u001b[0;34m(url, verbose)\u001b[0m\n\u001b[1;32m     49\u001b[0m     \u001b[0mparagraph\u001b[0m \u001b[0;34m=\u001b[0m \u001b[0;32mNone\u001b[0m\u001b[0;34m\u001b[0m\u001b[0;34m\u001b[0m\u001b[0m\n\u001b[1;32m     50\u001b[0m \u001b[0;34m\u001b[0m\u001b[0m\n\u001b[0;32m---> 51\u001b[0;31m     \u001b[0mpage\u001b[0m \u001b[0;34m=\u001b[0m \u001b[0murllib\u001b[0m\u001b[0;34m.\u001b[0m\u001b[0mrequest\u001b[0m\u001b[0;34m.\u001b[0m\u001b[0murlopen\u001b[0m\u001b[0;34m(\u001b[0m\u001b[0murl\u001b[0m\u001b[0;34m)\u001b[0m\u001b[0;34m\u001b[0m\u001b[0;34m\u001b[0m\u001b[0m\n\u001b[0m\u001b[1;32m     52\u001b[0m \u001b[0;34m\u001b[0m\u001b[0m\n\u001b[1;32m     53\u001b[0m     \u001b[0msoup\u001b[0m \u001b[0;34m=\u001b[0m \u001b[0mBeautifulSoup\u001b[0m\u001b[0;34m(\u001b[0m\u001b[0mpage\u001b[0m\u001b[0;34m,\u001b[0m \u001b[0;34m'html.parser'\u001b[0m\u001b[0;34m)\u001b[0m\u001b[0;34m\u001b[0m\u001b[0;34m\u001b[0m\u001b[0m\n",
      "\u001b[0;32m~/miniconda3/envs/nlp/lib/python3.8/urllib/request.py\u001b[0m in \u001b[0;36murlopen\u001b[0;34m(url, data, timeout, cafile, capath, cadefault, context)\u001b[0m\n\u001b[1;32m    220\u001b[0m     \u001b[0;32melse\u001b[0m\u001b[0;34m:\u001b[0m\u001b[0;34m\u001b[0m\u001b[0;34m\u001b[0m\u001b[0m\n\u001b[1;32m    221\u001b[0m         \u001b[0mopener\u001b[0m \u001b[0;34m=\u001b[0m \u001b[0m_opener\u001b[0m\u001b[0;34m\u001b[0m\u001b[0;34m\u001b[0m\u001b[0m\n\u001b[0;32m--> 222\u001b[0;31m     \u001b[0;32mreturn\u001b[0m \u001b[0mopener\u001b[0m\u001b[0;34m.\u001b[0m\u001b[0mopen\u001b[0m\u001b[0;34m(\u001b[0m\u001b[0murl\u001b[0m\u001b[0;34m,\u001b[0m \u001b[0mdata\u001b[0m\u001b[0;34m,\u001b[0m \u001b[0mtimeout\u001b[0m\u001b[0;34m)\u001b[0m\u001b[0;34m\u001b[0m\u001b[0;34m\u001b[0m\u001b[0m\n\u001b[0m\u001b[1;32m    223\u001b[0m \u001b[0;34m\u001b[0m\u001b[0m\n\u001b[1;32m    224\u001b[0m \u001b[0;32mdef\u001b[0m \u001b[0minstall_opener\u001b[0m\u001b[0;34m(\u001b[0m\u001b[0mopener\u001b[0m\u001b[0;34m)\u001b[0m\u001b[0;34m:\u001b[0m\u001b[0;34m\u001b[0m\u001b[0;34m\u001b[0m\u001b[0m\n",
      "\u001b[0;32m~/miniconda3/envs/nlp/lib/python3.8/urllib/request.py\u001b[0m in \u001b[0;36mopen\u001b[0;34m(self, fullurl, data, timeout)\u001b[0m\n\u001b[1;32m    529\u001b[0m         \u001b[0;32mfor\u001b[0m \u001b[0mprocessor\u001b[0m \u001b[0;32min\u001b[0m \u001b[0mself\u001b[0m\u001b[0;34m.\u001b[0m\u001b[0mprocess_response\u001b[0m\u001b[0;34m.\u001b[0m\u001b[0mget\u001b[0m\u001b[0;34m(\u001b[0m\u001b[0mprotocol\u001b[0m\u001b[0;34m,\u001b[0m \u001b[0;34m[\u001b[0m\u001b[0;34m]\u001b[0m\u001b[0;34m)\u001b[0m\u001b[0;34m:\u001b[0m\u001b[0;34m\u001b[0m\u001b[0;34m\u001b[0m\u001b[0m\n\u001b[1;32m    530\u001b[0m             \u001b[0mmeth\u001b[0m \u001b[0;34m=\u001b[0m \u001b[0mgetattr\u001b[0m\u001b[0;34m(\u001b[0m\u001b[0mprocessor\u001b[0m\u001b[0;34m,\u001b[0m \u001b[0mmeth_name\u001b[0m\u001b[0;34m)\u001b[0m\u001b[0;34m\u001b[0m\u001b[0;34m\u001b[0m\u001b[0m\n\u001b[0;32m--> 531\u001b[0;31m             \u001b[0mresponse\u001b[0m \u001b[0;34m=\u001b[0m \u001b[0mmeth\u001b[0m\u001b[0;34m(\u001b[0m\u001b[0mreq\u001b[0m\u001b[0;34m,\u001b[0m \u001b[0mresponse\u001b[0m\u001b[0;34m)\u001b[0m\u001b[0;34m\u001b[0m\u001b[0;34m\u001b[0m\u001b[0m\n\u001b[0m\u001b[1;32m    532\u001b[0m \u001b[0;34m\u001b[0m\u001b[0m\n\u001b[1;32m    533\u001b[0m         \u001b[0;32mreturn\u001b[0m \u001b[0mresponse\u001b[0m\u001b[0;34m\u001b[0m\u001b[0;34m\u001b[0m\u001b[0m\n",
      "\u001b[0;32m~/miniconda3/envs/nlp/lib/python3.8/urllib/request.py\u001b[0m in \u001b[0;36mhttp_response\u001b[0;34m(self, request, response)\u001b[0m\n\u001b[1;32m    638\u001b[0m         \u001b[0;31m# request was successfully received, understood, and accepted.\u001b[0m\u001b[0;34m\u001b[0m\u001b[0;34m\u001b[0m\u001b[0;34m\u001b[0m\u001b[0m\n\u001b[1;32m    639\u001b[0m         \u001b[0;32mif\u001b[0m \u001b[0;32mnot\u001b[0m \u001b[0;34m(\u001b[0m\u001b[0;36m200\u001b[0m \u001b[0;34m<=\u001b[0m \u001b[0mcode\u001b[0m \u001b[0;34m<\u001b[0m \u001b[0;36m300\u001b[0m\u001b[0;34m)\u001b[0m\u001b[0;34m:\u001b[0m\u001b[0;34m\u001b[0m\u001b[0;34m\u001b[0m\u001b[0m\n\u001b[0;32m--> 640\u001b[0;31m             response = self.parent.error(\n\u001b[0m\u001b[1;32m    641\u001b[0m                 'http', request, response, code, msg, hdrs)\n\u001b[1;32m    642\u001b[0m \u001b[0;34m\u001b[0m\u001b[0m\n",
      "\u001b[0;32m~/miniconda3/envs/nlp/lib/python3.8/urllib/request.py\u001b[0m in \u001b[0;36merror\u001b[0;34m(self, proto, *args)\u001b[0m\n\u001b[1;32m    567\u001b[0m         \u001b[0;32mif\u001b[0m \u001b[0mhttp_err\u001b[0m\u001b[0;34m:\u001b[0m\u001b[0;34m\u001b[0m\u001b[0;34m\u001b[0m\u001b[0m\n\u001b[1;32m    568\u001b[0m             \u001b[0margs\u001b[0m \u001b[0;34m=\u001b[0m \u001b[0;34m(\u001b[0m\u001b[0mdict\u001b[0m\u001b[0;34m,\u001b[0m \u001b[0;34m'default'\u001b[0m\u001b[0;34m,\u001b[0m \u001b[0;34m'http_error_default'\u001b[0m\u001b[0;34m)\u001b[0m \u001b[0;34m+\u001b[0m \u001b[0morig_args\u001b[0m\u001b[0;34m\u001b[0m\u001b[0;34m\u001b[0m\u001b[0m\n\u001b[0;32m--> 569\u001b[0;31m             \u001b[0;32mreturn\u001b[0m \u001b[0mself\u001b[0m\u001b[0;34m.\u001b[0m\u001b[0m_call_chain\u001b[0m\u001b[0;34m(\u001b[0m\u001b[0;34m*\u001b[0m\u001b[0margs\u001b[0m\u001b[0;34m)\u001b[0m\u001b[0;34m\u001b[0m\u001b[0;34m\u001b[0m\u001b[0m\n\u001b[0m\u001b[1;32m    570\u001b[0m \u001b[0;34m\u001b[0m\u001b[0m\n\u001b[1;32m    571\u001b[0m \u001b[0;31m# XXX probably also want an abstract factory that knows when it makes\u001b[0m\u001b[0;34m\u001b[0m\u001b[0;34m\u001b[0m\u001b[0;34m\u001b[0m\u001b[0m\n",
      "\u001b[0;32m~/miniconda3/envs/nlp/lib/python3.8/urllib/request.py\u001b[0m in \u001b[0;36m_call_chain\u001b[0;34m(self, chain, kind, meth_name, *args)\u001b[0m\n\u001b[1;32m    500\u001b[0m         \u001b[0;32mfor\u001b[0m \u001b[0mhandler\u001b[0m \u001b[0;32min\u001b[0m \u001b[0mhandlers\u001b[0m\u001b[0;34m:\u001b[0m\u001b[0;34m\u001b[0m\u001b[0;34m\u001b[0m\u001b[0m\n\u001b[1;32m    501\u001b[0m             \u001b[0mfunc\u001b[0m \u001b[0;34m=\u001b[0m \u001b[0mgetattr\u001b[0m\u001b[0;34m(\u001b[0m\u001b[0mhandler\u001b[0m\u001b[0;34m,\u001b[0m \u001b[0mmeth_name\u001b[0m\u001b[0;34m)\u001b[0m\u001b[0;34m\u001b[0m\u001b[0;34m\u001b[0m\u001b[0m\n\u001b[0;32m--> 502\u001b[0;31m             \u001b[0mresult\u001b[0m \u001b[0;34m=\u001b[0m \u001b[0mfunc\u001b[0m\u001b[0;34m(\u001b[0m\u001b[0;34m*\u001b[0m\u001b[0margs\u001b[0m\u001b[0;34m)\u001b[0m\u001b[0;34m\u001b[0m\u001b[0;34m\u001b[0m\u001b[0m\n\u001b[0m\u001b[1;32m    503\u001b[0m             \u001b[0;32mif\u001b[0m \u001b[0mresult\u001b[0m \u001b[0;32mis\u001b[0m \u001b[0;32mnot\u001b[0m \u001b[0;32mNone\u001b[0m\u001b[0;34m:\u001b[0m\u001b[0;34m\u001b[0m\u001b[0;34m\u001b[0m\u001b[0m\n\u001b[1;32m    504\u001b[0m                 \u001b[0;32mreturn\u001b[0m \u001b[0mresult\u001b[0m\u001b[0;34m\u001b[0m\u001b[0;34m\u001b[0m\u001b[0m\n",
      "\u001b[0;32m~/miniconda3/envs/nlp/lib/python3.8/urllib/request.py\u001b[0m in \u001b[0;36mhttp_error_default\u001b[0;34m(self, req, fp, code, msg, hdrs)\u001b[0m\n\u001b[1;32m    647\u001b[0m \u001b[0;32mclass\u001b[0m \u001b[0mHTTPDefaultErrorHandler\u001b[0m\u001b[0;34m(\u001b[0m\u001b[0mBaseHandler\u001b[0m\u001b[0;34m)\u001b[0m\u001b[0;34m:\u001b[0m\u001b[0;34m\u001b[0m\u001b[0;34m\u001b[0m\u001b[0m\n\u001b[1;32m    648\u001b[0m     \u001b[0;32mdef\u001b[0m \u001b[0mhttp_error_default\u001b[0m\u001b[0;34m(\u001b[0m\u001b[0mself\u001b[0m\u001b[0;34m,\u001b[0m \u001b[0mreq\u001b[0m\u001b[0;34m,\u001b[0m \u001b[0mfp\u001b[0m\u001b[0;34m,\u001b[0m \u001b[0mcode\u001b[0m\u001b[0;34m,\u001b[0m \u001b[0mmsg\u001b[0m\u001b[0;34m,\u001b[0m \u001b[0mhdrs\u001b[0m\u001b[0;34m)\u001b[0m\u001b[0;34m:\u001b[0m\u001b[0;34m\u001b[0m\u001b[0;34m\u001b[0m\u001b[0m\n\u001b[0;32m--> 649\u001b[0;31m         \u001b[0;32mraise\u001b[0m \u001b[0mHTTPError\u001b[0m\u001b[0;34m(\u001b[0m\u001b[0mreq\u001b[0m\u001b[0;34m.\u001b[0m\u001b[0mfull_url\u001b[0m\u001b[0;34m,\u001b[0m \u001b[0mcode\u001b[0m\u001b[0;34m,\u001b[0m \u001b[0mmsg\u001b[0m\u001b[0;34m,\u001b[0m \u001b[0mhdrs\u001b[0m\u001b[0;34m,\u001b[0m \u001b[0mfp\u001b[0m\u001b[0;34m)\u001b[0m\u001b[0;34m\u001b[0m\u001b[0;34m\u001b[0m\u001b[0m\n\u001b[0m\u001b[1;32m    650\u001b[0m \u001b[0;34m\u001b[0m\u001b[0m\n\u001b[1;32m    651\u001b[0m \u001b[0;32mclass\u001b[0m \u001b[0mHTTPRedirectHandler\u001b[0m\u001b[0;34m(\u001b[0m\u001b[0mBaseHandler\u001b[0m\u001b[0;34m)\u001b[0m\u001b[0;34m:\u001b[0m\u001b[0;34m\u001b[0m\u001b[0;34m\u001b[0m\u001b[0m\n",
      "\u001b[0;31mHTTPError\u001b[0m: HTTP Error 404: Not Found"
     ]
    }
   ],
   "source": [
    "acronyms_data_frame = crawler.readAll(links, acronyms_data_frame, df_index, verbose=False, require_acronym=True)"
   ]
  },
  {
   "cell_type": "code",
   "execution_count": null,
   "metadata": {
    "lines_to_next_cell": 0,
    "pycharm": {
     "is_executing": false
    }
   },
   "outputs": [],
   "source": [
    "# acronyms_data_frame = crawler1.readAll(links_from_files, acronyms_data_frame, df_index, verbose=True)"
   ]
  },
  {
   "cell_type": "code",
   "execution_count": null,
   "metadata": {
    "lines_to_next_cell": 2,
    "pycharm": {
     "is_executing": false
    }
   },
   "outputs": [],
   "source": []
  },
  {
   "cell_type": "code",
   "execution_count": null,
   "metadata": {
    "pycharm": {
     "is_executing": false
    }
   },
   "outputs": [],
   "source": [
    "acronyms_data_frame"
   ]
  },
  {
   "cell_type": "code",
   "execution_count": null,
   "metadata": {
    "pycharm": {
     "is_executing": false
    }
   },
   "outputs": [],
   "source": []
  },
  {
   "cell_type": "code",
   "execution_count": null,
   "metadata": {
    "lines_to_next_cell": 0,
    "pycharm": {
     "is_executing": false
    }
   },
   "outputs": [],
   "source": [
    "# acronyms_data_frame.to_csv (r'medical_from_wiki.csv', index = None, header=True)"
   ]
  },
  {
   "cell_type": "code",
   "execution_count": null,
   "metadata": {
    "lines_to_next_cell": 2,
    "pycharm": {
     "is_executing": false
    }
   },
   "outputs": [],
   "source": []
  },
  {
   "cell_type": "code",
   "execution_count": null,
   "metadata": {
    "pycharm": {
     "is_executing": false
    }
   },
   "outputs": [],
   "source": []
  },
  {
   "cell_type": "code",
   "execution_count": null,
   "metadata": {
    "lines_to_next_cell": 2,
    "pycharm": {
     "is_executing": false
    }
   },
   "outputs": [],
   "source": []
  },
  {
   "cell_type": "code",
   "execution_count": null,
   "metadata": {
    "pycharm": {
     "is_executing": false
    }
   },
   "outputs": [],
   "source": []
  },
  {
   "cell_type": "code",
   "execution_count": null,
   "metadata": {
    "pycharm": {
     "is_executing": false
    }
   },
   "outputs": [],
   "source": [
    "list_files_2 = [\"goraczki_krwotoczne.txt\", \"grypa.txt\", \"choroby_pasorzytnicze.txt\", \n",
    "              \"choroby_przenoszone_drogą_płciową.txt\", \"kiła.txt\", \"choroby_przenoszone_przez_szczury.txt\",\n",
    "              \"choroby_przenoszone_przez_owady.txt\", \"ATC-J04.txt\", \"gruźlica.txt\", \"choroby_bakteryjne.txt\"]"
   ]
  },
  {
   "cell_type": "code",
   "execution_count": null,
   "metadata": {
    "lines_to_next_cell": 2,
    "pycharm": {
     "is_executing": false
    }
   },
   "outputs": [],
   "source": []
  },
  {
   "cell_type": "code",
   "execution_count": null,
   "metadata": {
    "pycharm": {
     "is_executing": false
    }
   },
   "outputs": [],
   "source": [
    "links_from_files2 = crawler1.read_files(list_files_2, dir1)"
   ]
  },
  {
   "cell_type": "code",
   "execution_count": null,
   "metadata": {
    "pycharm": {
     "is_executing": false
    }
   },
   "outputs": [],
   "source": [
    "links_from_files2[1]"
   ]
  },
  {
   "cell_type": "code",
   "execution_count": null,
   "metadata": {
    "pycharm": {
     "is_executing": false
    }
   },
   "outputs": [],
   "source": []
  },
  {
   "cell_type": "code",
   "execution_count": null,
   "metadata": {
    "pycharm": {
     "is_executing": false
    }
   },
   "outputs": [],
   "source": [
    "acronyms_data_frame = crawler1.readAll(links_from_files2, acronyms_data_frame, df_index, verbose=False, require_acronym=True)"
   ]
  },
  {
   "cell_type": "code",
   "execution_count": null,
   "metadata": {
    "pycharm": {
     "is_executing": false
    }
   },
   "outputs": [],
   "source": []
  },
  {
   "cell_type": "code",
   "execution_count": null,
   "metadata": {
    "pycharm": {
     "is_executing": false
    }
   },
   "outputs": [],
   "source": [
    "acronyms_data_frame"
   ]
  },
  {
   "cell_type": "code",
   "execution_count": null,
   "metadata": {
    "pycharm": {
     "is_executing": false
    }
   },
   "outputs": [],
   "source": []
  },
  {
   "cell_type": "code",
   "execution_count": null,
   "metadata": {
    "pycharm": {
     "is_executing": false
    }
   },
   "outputs": [],
   "source": []
  },
  {
   "cell_type": "code",
   "execution_count": null,
   "metadata": {
    "pycharm": {
     "is_executing": false
    }
   },
   "outputs": [],
   "source": []
  },
  {
   "cell_type": "code",
   "execution_count": null,
   "metadata": {
    "pycharm": {
     "is_executing": false
    }
   },
   "outputs": [],
   "source": [
    "list_files_3 = [\"rikejstozy.txt\", \"choroby_grzybicze.txt\", \"pasażowalne_encefalopatie_gąbczaste.txt\",  ]"
   ]
  },
  {
   "cell_type": "code",
   "execution_count": null,
   "metadata": {
    "lines_to_next_cell": 2,
    "pycharm": {
     "is_executing": false
    }
   },
   "outputs": [],
   "source": []
  },
  {
   "cell_type": "code",
   "execution_count": null,
   "metadata": {
    "pycharm": {
     "is_executing": false
    }
   },
   "outputs": [],
   "source": [
    "links_from_files3 = crawler1.read_files(list_files_3, dir1)"
   ]
  },
  {
   "cell_type": "code",
   "execution_count": null,
   "metadata": {
    "lines_to_next_cell": 0,
    "pycharm": {
     "is_executing": false
    }
   },
   "outputs": [],
   "source": [
    "# links_from_files3[1]"
   ]
  },
  {
   "cell_type": "code",
   "execution_count": null,
   "metadata": {
    "lines_to_next_cell": 2,
    "pycharm": {
     "is_executing": false
    }
   },
   "outputs": [],
   "source": []
  },
  {
   "cell_type": "code",
   "execution_count": null,
   "metadata": {
    "pycharm": {
     "is_executing": false
    }
   },
   "outputs": [],
   "source": [
    "acronyms_data_frame = crawler1.readAll(links_from_files3, acronyms_data_frame, df_index, verbose=False, require_acronym=True)"
   ]
  },
  {
   "cell_type": "code",
   "execution_count": null,
   "metadata": {
    "pycharm": {
     "is_executing": false
    }
   },
   "outputs": [],
   "source": [
    "acronyms_data_frame"
   ]
  },
  {
   "cell_type": "code",
   "execution_count": null,
   "metadata": {
    "pycharm": {
     "is_executing": false
    }
   },
   "outputs": [],
   "source": []
  },
  {
   "cell_type": "code",
   "execution_count": null,
   "metadata": {
    "pycharm": {
     "is_executing": false
    }
   },
   "outputs": [],
   "source": []
  },
  {
   "cell_type": "code",
   "execution_count": null,
   "metadata": {
    "pycharm": {
     "is_executing": false
    }
   },
   "outputs": [],
   "source": [
    "dir2 = \"wiki_links/choroby_genetyczne/\""
   ]
  },
  {
   "cell_type": "code",
   "execution_count": null,
   "metadata": {
    "pycharm": {
     "is_executing": false
    }
   },
   "outputs": [],
   "source": [
    "list_files_4 = [\"choroby_genetyczne.txt\"]"
   ]
  },
  {
   "cell_type": "code",
   "execution_count": null,
   "metadata": {
    "pycharm": {
     "is_executing": false
    }
   },
   "outputs": [],
   "source": []
  },
  {
   "cell_type": "code",
   "execution_count": null,
   "metadata": {
    "pycharm": {
     "is_executing": false
    }
   },
   "outputs": [],
   "source": [
    "links_from_files4 = crawler1.read_files(list_files_4, dir2)"
   ]
  },
  {
   "cell_type": "code",
   "execution_count": null,
   "metadata": {
    "lines_to_next_cell": 0,
    "pycharm": {
     "is_executing": false
    }
   },
   "outputs": [],
   "source": [
    "# links_from_files3[1]"
   ]
  },
  {
   "cell_type": "code",
   "execution_count": null,
   "metadata": {
    "lines_to_next_cell": 2,
    "pycharm": {
     "is_executing": false
    }
   },
   "outputs": [],
   "source": []
  },
  {
   "cell_type": "code",
   "execution_count": null,
   "metadata": {
    "pycharm": {
     "is_executing": false
    }
   },
   "outputs": [],
   "source": [
    "acronyms_data_frame = crawler1.readAll(links_from_files4, acronyms_data_frame, df_index, verbose=False, require_acronym=True)"
   ]
  },
  {
   "cell_type": "code",
   "execution_count": null,
   "metadata": {
    "pycharm": {
     "is_executing": false
    }
   },
   "outputs": [],
   "source": [
    "acronyms_data_frame"
   ]
  },
  {
   "cell_type": "code",
   "execution_count": null,
   "metadata": {
    "pycharm": {
     "is_executing": false
    }
   },
   "outputs": [],
   "source": []
  },
  {
   "cell_type": "code",
   "execution_count": null,
   "metadata": {
    "lines_to_next_cell": 0,
    "pycharm": {
     "is_executing": false
    }
   },
   "outputs": [],
   "source": [
    "# acronyms_data_frame.to_csv (r'medical_from_wiki_3.csv', index = None, header=True)"
   ]
  },
  {
   "cell_type": "code",
   "execution_count": null,
   "metadata": {
    "pycharm": {
     "is_executing": false
    }
   },
   "outputs": [],
   "source": [
    "(\"Antygen_HBs\" == acronyms_data_frame[\"hasło_wikipedia\"]).values.any()"
   ]
  },
  {
   "cell_type": "code",
   "execution_count": null,
   "metadata": {
    "pycharm": {
     "is_executing": false
    }
   },
   "outputs": [],
   "source": []
  }
 ],
 "metadata": {
  "jupytext": {
   "encoding": "# -*- coding: utf-8 -*-",
   "formats": "ipynb,py:light"
  },
  "kernelspec": {
   "display_name": "Python 3",
   "language": "python",
   "name": "python3"
  },
  "language_info": {
   "codemirror_mode": {
    "name": "ipython",
    "version": 3
   },
   "file_extension": ".py",
   "mimetype": "text/x-python",
   "name": "python",
   "nbconvert_exporter": "python",
   "pygments_lexer": "ipython3",
   "version": "3.8.1"
  }
 },
 "nbformat": 4,
 "nbformat_minor": 4
}
