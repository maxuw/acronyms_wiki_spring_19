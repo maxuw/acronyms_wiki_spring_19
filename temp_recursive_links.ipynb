{
 "cells": [
  {
   "cell_type": "code",
   "execution_count": 1,
   "metadata": {},
   "outputs": [],
   "source": [
    "import class_link_extractor"
   ]
  },
  {
   "cell_type": "code",
   "execution_count": 2,
   "metadata": {},
   "outputs": [],
   "source": [
    "url = \"https://pl.wikipedia.org/wiki/Kategoria:Fiordy\""
   ]
  },
  {
   "cell_type": "code",
   "execution_count": 3,
   "metadata": {},
   "outputs": [],
   "source": [
    "# class_link_extractor.return_links_category(url)"
   ]
  },
  {
   "cell_type": "code",
   "execution_count": 2,
   "metadata": {},
   "outputs": [],
   "source": [
    "url1 = \"https://pl.wikipedia.org/wiki/Kategoria:Choroby_wirusowe\""
   ]
  },
  {
   "cell_type": "code",
   "execution_count": 6,
   "metadata": {},
   "outputs": [],
   "source": [
    "url2 = \"https://pl.wikipedia.org/wiki/Kategoria:Choroby_genetyczne\""
   ]
  },
  {
   "cell_type": "code",
   "execution_count": 4,
   "metadata": {},
   "outputs": [],
   "source": [
    "def return_links_category(links_category=[], links_record=[], category_visited=[]):\n",
    "    \n",
    "#     print(\"starting links category\")\n",
    "#     print(links_category)\n",
    "    \n",
    "    links_category = links_category\n",
    "    links_record = links_record\n",
    "    category_visited = category_visited\n",
    "\n",
    "    while links_category != []:\n",
    "        for l in links_category:\n",
    "            #links_with_connect_error\n",
    "            #return_links_within_div\n",
    "            links = class_link_extractor.links_with_connect_error(l)\n",
    "            print(\"Links: \", len(links))\n",
    "#             print(links)\n",
    "#             print(\"removing \" + l)\n",
    "            links_category.remove(l)\n",
    "            category_visited.append(l)\n",
    "    \n",
    "#     return links_record\n",
    "            count_records = 0\n",
    "            count_categories = 0\n",
    "            for link in links:\n",
    "#                 print(link)\n",
    "                type_p = class_link_extractor.type_page(link)\n",
    "                if type_p == \"category\":\n",
    "                    \n",
    "                    \n",
    "                    if (link not in category_visited) and (link not in links_category):\n",
    "                        print(\"adding category \" + link)\n",
    "                        links_category.append(link)\n",
    "                        count_categories += 1\n",
    "#                     print(link)\n",
    "\n",
    "                elif type_p == \"record\":\n",
    "\n",
    "                    if link not in links_record:\n",
    "\n",
    "                        links_record.append(link)\n",
    "                        count_records += 1\n",
    "#                         print(\"adding record \" + link)\n",
    "#                     print(link)\n",
    "                    else:\n",
    "                        print(\"duplicate: \", link)\n",
    "\n",
    "                else:\n",
    "                    print(\"unknown type of page\")\n",
    "#                     print(type_p)\n",
    "            print(\"categories added: \", count_categories)\n",
    "            print(\"records added: \", count_records)\n",
    "#         print(\"passing links record\")\n",
    "#         print(links_record)\n",
    "        \n",
    "#         print(\"passing links category\")\n",
    "#         print(links_category)\n",
    "        return_links_category(links_category, links_record, category_visited)\n",
    "\n",
    "    return links_record"
   ]
  }
 ],
 "metadata": {
  "kernelspec": {
   "display_name": "Python 3",
   "language": "python",
   "name": "python3"
  },
  "language_info": {
   "codemirror_mode": {
    "name": "ipython",
    "version": 3
   },
   "file_extension": ".py",
   "mimetype": "text/x-python",
   "name": "python",
   "nbconvert_exporter": "python",
   "pygments_lexer": "ipython3",
   "version": "3.8.1"
  }
 },
 "nbformat": 4,
 "nbformat_minor": 4
}
