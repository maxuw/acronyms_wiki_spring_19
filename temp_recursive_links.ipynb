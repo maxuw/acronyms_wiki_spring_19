{
 "cells": [
  {
   "cell_type": "code",
   "execution_count": 1,
   "metadata": {},
   "outputs": [],
   "source": [
    "import class_link_extractor"
   ]
  },
  {
   "cell_type": "code",
   "execution_count": 2,
   "metadata": {},
   "outputs": [],
   "source": [
    "url = \"https://pl.wikipedia.org/wiki/Kategoria:Fiordy\""
   ]
  },
  {
   "cell_type": "code",
   "execution_count": 3,
   "metadata": {},
   "outputs": [],
   "source": [
    "# class_link_extractor.return_links_category(url)"
   ]
  },
  {
   "cell_type": "code",
   "execution_count": 2,
   "metadata": {},
   "outputs": [],
   "source": [
    "url1 = \"https://pl.wikipedia.org/wiki/Kategoria:Choroby_wirusowe\""
   ]
  },
  {
   "cell_type": "code",
   "execution_count": 6,
   "metadata": {},
   "outputs": [],
   "source": [
    "url2 = \"https://pl.wikipedia.org/wiki/Kategoria:Choroby_genetyczne\""
   ]
  },
  {
   "cell_type": "code",
   "execution_count": 4,
   "metadata": {},
   "outputs": [],
   "source": [
    "def return_links_category(links_category=[], links_record=[], category_visited=[]):\n",
    "    \n",
    "#     print(\"starting links category\")\n",
    "#     print(links_category)\n",
    "    \n",
    "    links_category = links_category\n",
    "    links_record = links_record\n",
    "    category_visited = category_visited\n",
    "\n",
    "    while links_category != []:\n",
    "        for l in links_category:\n",
    "            #links_with_connect_error\n",
    "            #return_links_within_div\n",
    "            links = class_link_extractor.links_with_connect_error(l)\n",
    "            print(\"Links: \", len(links))\n",
    "#             print(links)\n",
    "#             print(\"removing \" + l)\n",
    "            links_category.remove(l)\n",
    "            category_visited.append(l)\n",
    "    \n",
    "#     return links_record\n",
    "            count_records = 0\n",
    "            count_categories = 0\n",
    "            for link in links:\n",
    "#                 print(link)\n",
    "                type_p = class_link_extractor.type_page(link)\n",
    "                if type_p == \"category\":\n",
    "                    \n",
    "                    \n",
    "                    if (link not in category_visited) and (link not in links_category):\n",
    "                        print(\"adding category \" + link)\n",
    "                        links_category.append(link)\n",
    "                        count_categories += 1\n",
    "#                     print(link)\n",
    "\n",
    "                elif type_p == \"record\":\n",
    "\n",
    "                    if link not in links_record:\n",
    "\n",
    "                        links_record.append(link)\n",
    "                        count_records += 1\n",
    "#                         print(\"adding record \" + link)\n",
    "#                     print(link)\n",
    "                    else:\n",
    "                        print(\"duplicate: \", link)\n",
    "\n",
    "                else:\n",
    "                    print(\"unknown type of page\")\n",
    "#                     print(type_p)\n",
    "            print(\"categories added: \", count_categories)\n",
    "            print(\"records added: \", count_records)\n",
    "#         print(\"passing links record\")\n",
    "#         print(links_record)\n",
    "        \n",
    "#         print(\"passing links category\")\n",
    "#         print(links_category)\n",
    "        return_links_category(links_category, links_record, category_visited)\n",
    "\n",
    "    return links_record"
   ]
  },
  {
   "cell_type": "code",
   "execution_count": 4,
   "metadata": {},
   "outputs": [
    {
     "ename": "NameError",
     "evalue": "name 'return_links_category' is not defined",
     "output_type": "error",
     "traceback": [
      "\u001b[0;31m---------------------------------------------------------------------------\u001b[0m",
      "\u001b[0;31mNameError\u001b[0m                                 Traceback (most recent call last)",
      "\u001b[0;32m<ipython-input-4-42c357425c40>\u001b[0m in \u001b[0;36m<module>\u001b[0;34m\u001b[0m\n\u001b[0;32m----> 1\u001b[0;31m \u001b[0mreturn_links_category\u001b[0m\u001b[0;34m\u001b[0m\u001b[0;34m\u001b[0m\u001b[0m\n\u001b[0m",
      "\u001b[0;31mNameError\u001b[0m: name 'return_links_category' is not defined"
     ]
    }
   ],
   "source": [
    "return_links_category"
   ]
  },
  {
   "cell_type": "code",
   "execution_count": 7,
   "metadata": {},
   "outputs": [
    {
     "name": "stdout",
     "output_type": "stream",
     "text": [
      "1\n",
      "unknown type of page\n",
      "unknown type of page\n",
      "unknown type of page\n",
      "unknown type of page\n",
      "unknown type of page\n",
      "unknown type of page\n",
      "duplicate:  https://pl.wikipedia.org/wiki/Acheiropodia\n",
      "duplicate:  https://pl.wikipedia.org/wiki/Alfa-mannozydoza\n",
      "duplicate:  https://pl.wikipedia.org/wiki/Choroba_McArdle%E2%80%99a\n",
      "duplicate:  https://pl.wikipedia.org/wiki/Zesp%C3%B3%C5%82_Dubowitza\n",
      "duplicate:  https://pl.wikipedia.org/wiki/Zesp%C3%B3%C5%82_Frynsa\n",
      "duplicate:  https://pl.wikipedia.org/wiki/Dysplazja_Greenberg\n",
      "duplicate:  https://pl.wikipedia.org/wiki/Zesp%C3%B3%C5%82_Johanson-Blizzarda\n",
      "duplicate:  https://pl.wikipedia.org/wiki/Zesp%C3%B3%C5%82_Maroteaux-Lamy%E2%80%99ego\n",
      "duplicate:  https://pl.wikipedia.org/wiki/Mukopolisacharydoza\n",
      "duplicate:  https://pl.wikipedia.org/wiki/Zesp%C3%B3%C5%82_Natowicza\n",
      "duplicate:  https://pl.wikipedia.org/wiki/Niedob%C3%B3r_dehydrogenazy_3-hydroksyacylo-koenzymu_A_d%C5%82ugo%C5%82a%C5%84cuchowych_kwas%C3%B3w_t%C5%82uszczowych\n",
      "duplicate:  https://pl.wikipedia.org/wiki/Niedokrwisto%C5%9B%C4%87_sierpowatokrwinkowa\n",
      "duplicate:  https://pl.wikipedia.org/wiki/Choroby_sprz%C4%99%C5%BCone_z_p%C5%82ci%C4%85\n",
      "duplicate:  https://pl.wikipedia.org/wiki/Zesp%C3%B3%C5%82_Bartha\n",
      "duplicate:  https://pl.wikipedia.org/wiki/Choroba_Rendu-Oslera-Webera\n",
      "duplicate:  https://pl.wikipedia.org/wiki/Adrenoleukodystrofia\n",
      "duplicate:  https://pl.wikipedia.org/wiki/Choroba_Canavan\n",
      "duplicate:  https://pl.wikipedia.org/wiki/Choroba_Refsuma\n",
      "duplicate:  https://pl.wikipedia.org/wiki/Niedokrwisto%C5%9B%C4%87_Fanconiego\n",
      "duplicate:  https://pl.wikipedia.org/wiki/Zesp%C3%B3%C5%82_Blooma\n",
      "2\n",
      "duplicate:  https://pl.wikipedia.org/wiki/Nerwiakow%C5%82%C3%B3kniakowato%C5%9B%C4%87\n",
      "duplicate:  https://pl.wikipedia.org/wiki/Nerwiakow%C5%82%C3%B3kniakowato%C5%9B%C4%87_typu_1\n",
      "duplicate:  https://pl.wikipedia.org/wiki/Nerwiakow%C5%82%C3%B3kniakowato%C5%9B%C4%87_typu_2\n",
      "duplicate:  https://pl.wikipedia.org/wiki/Dystrofia_mi%C4%99%C5%9Bniowa_Duchenne%E2%80%99a\n",
      "duplicate:  https://pl.wikipedia.org/wiki/Zesp%C3%B3%C5%82_Walkera-Warburg\n",
      "duplicate:  https://pl.wikipedia.org/wiki/Dziedziczna_mi%C4%99%C5%9Bniakowato%C5%9B%C4%87_g%C5%82adkokom%C3%B3rkowa_i_rak_nerkowokom%C3%B3rkowy\n",
      "duplicate:  https://pl.wikipedia.org/wiki/Guz_Wilmsa\n",
      "duplicate:  https://pl.wikipedia.org/wiki/Mnoga_gruczolakowato%C5%9B%C4%87_wewn%C4%85trzwydzielnicza_typu_2\n",
      "duplicate:  https://pl.wikipedia.org/wiki/Nerwiakow%C5%82%C3%B3kniakowato%C5%9B%C4%87\n",
      "duplicate:  https://pl.wikipedia.org/wiki/Zesp%C3%B3%C5%82_Oldfielda\n",
      "duplicate:  https://pl.wikipedia.org/wiki/Zesp%C3%B3%C5%82_Peutza-Jeghersa\n",
      "duplicate:  https://pl.wikipedia.org/wiki/Siatk%C3%B3wczak\n",
      "duplicate:  https://pl.wikipedia.org/wiki/Zesp%C3%B3%C5%82_Zanca\n",
      "duplicate:  https://pl.wikipedia.org/wiki/Zesp%C3%B3%C5%82_ataksja-teleangiektazja\n",
      "duplicate:  https://pl.wikipedia.org/wiki/Zesp%C3%B3%C5%82_von_Hippla-Lindaua\n",
      "3\n",
      "unknown type of page\n",
      "unknown type of page\n",
      "duplicate:  https://pl.wikipedia.org/wiki/Choroby_mitochondrialne\n",
      "duplicate:  https://pl.wikipedia.org/wiki/Ataksja_Friedreicha\n",
      "duplicate:  https://pl.wikipedia.org/wiki/Zesp%C3%B3%C5%82_Downa\n",
      "duplicate:  https://pl.wikipedia.org/wiki/Zesp%C3%B3%C5%82_Edwardsa\n",
      "4\n",
      "duplicate:  https://pl.wikipedia.org/wiki/Analgezja_wrodzona\n",
      "duplicate:  https://pl.wikipedia.org/wiki/Choroba_Brugad%C3%B3w\n",
      "duplicate:  https://pl.wikipedia.org/wiki/Choroba_Thomsena\n",
      "duplicate:  https://pl.wikipedia.org/wiki/Hiperkaliemiczne_pora%C5%BCenie_okresowe\n",
      "duplicate:  https://pl.wikipedia.org/wiki/Hipokaliemiczne_pora%C5%BCenie_okresowe\n",
      "duplicate:  https://pl.wikipedia.org/wiki/Mukowiscydoza\n",
      "duplicate:  https://pl.wikipedia.org/wiki/Pora%C5%BCenie_okresowe\n",
      "5\n"
     ]
    }
   ],
   "source": [
    "links = class_link_extractor.return_links_category([url2])"
   ]
  },
  {
   "cell_type": "code",
   "execution_count": 8,
   "metadata": {},
   "outputs": [
    {
     "data": {
      "text/plain": [
       "['https://pl.wikipedia.org/wiki/Choroby_wirusowe',\n",
       " 'https://pl.wikipedia.org/wiki/Afryka%C5%84ski_pom%C3%B3r_koni',\n",
       " 'https://pl.wikipedia.org/wiki/Afryka%C5%84ski_pom%C3%B3r_%C5%9Bwi%C5%84',\n",
       " 'https://pl.wikipedia.org/wiki/Bia%C5%82aczka_kot%C3%B3w',\n",
       " 'https://pl.wikipedia.org/wiki/Bliskowschodni_zesp%C3%B3%C5%82_oddechowy',\n",
       " 'https://pl.wikipedia.org/wiki/Brodawczaki_krtani',\n",
       " 'https://pl.wikipedia.org/wiki/Chikungunya',\n",
       " 'https://pl.wikipedia.org/wiki/Choroba_bornajska',\n",
       " 'https://pl.wikipedia.org/wiki/Choroba_Derzsyego',\n",
       " 'https://pl.wikipedia.org/wiki/Choroba_d%C5%82oni,_st%C3%B3p_i_jamy_ustnej',\n",
       " 'https://pl.wikipedia.org/wiki/Choroba_Hecka',\n",
       " 'https://pl.wikipedia.org/wiki/Choroba_Heinego-Medina',\n",
       " 'https://pl.wikipedia.org/wiki/Choroba_lasu_Kyasanur',\n",
       " 'https://pl.wikipedia.org/wiki/Choroba_marmurkowatej_%C5%9Bledziony_ba%C5%BCant%C3%B3w',\n",
       " 'https://pl.wikipedia.org/wiki/Choroba_skokowa_owiec',\n",
       " 'https://pl.wikipedia.org/wiki/Choroba_wtr%C4%99towa',\n",
       " 'https://pl.wikipedia.org/wiki/COVID-19',\n",
       " 'https://pl.wikipedia.org/wiki/Cytomegalowirus',\n",
       " 'https://pl.wikipedia.org/wiki/Denga',\n",
       " 'https://pl.wikipedia.org/wiki/Encefalopatia_AIDS',\n",
       " 'https://pl.wikipedia.org/wiki/Gor%C4%85czka_doliny_Rift',\n",
       " 'https://pl.wikipedia.org/wiki/Gor%C4%85czka_Lassa',\n",
       " 'https://pl.wikipedia.org/wiki/Gor%C4%85czka_O%27nyong-nyong',\n",
       " 'https://pl.wikipedia.org/wiki/Gor%C4%85czka_Oropouche',\n",
       " 'https://pl.wikipedia.org/wiki/Hantawirusowy_zesp%C3%B3%C5%82_p%C5%82ucny',\n",
       " 'https://pl.wikipedia.org/wiki/Jaagsiekte',\n",
       " 'https://pl.wikipedia.org/wiki/Japo%C5%84skie_zapalenie_m%C3%B3zgu',\n",
       " 'https://pl.wikipedia.org/wiki/Kleszczowe_zapalenie_m%C3%B3zgu',\n",
       " 'https://pl.wikipedia.org/wiki/Ksi%C4%99gosusz',\n",
       " 'https://pl.wikipedia.org/wiki/Limfocytarne_zapalenie_splotu_naczyni%C3%B3wkowego_i_opon_m%C3%B3zgowych',\n",
       " 'https://pl.wikipedia.org/wiki/%C5%81upie%C5%BC_r%C3%B3%C5%BCowy_Giberta',\n",
       " 'https://pl.wikipedia.org/wiki/Mi%C4%99czak_zaka%C5%BAny',\n",
       " 'https://pl.wikipedia.org/wiki/Mononukleoza_zaka%C5%BAna',\n",
       " 'https://pl.wikipedia.org/wiki/Nagminna_pleurodynia',\n",
       " 'https://pl.wikipedia.org/wiki/Nagminne_zapalenie_przyusznic',\n",
       " 'https://pl.wikipedia.org/wiki/Nos%C3%B3wka',\n",
       " 'https://pl.wikipedia.org/wiki/Objaw_Glanzmana',\n",
       " 'https://pl.wikipedia.org/wiki/Odra_(choroba)',\n",
       " 'https://pl.wikipedia.org/wiki/Opryszczkowe_zapalenie_m%C3%B3zgu',\n",
       " 'https://pl.wikipedia.org/wiki/Ospa_ma%C5%82pia',\n",
       " 'https://pl.wikipedia.org/wiki/Ospa_prawdziwa',\n",
       " 'https://pl.wikipedia.org/wiki/Ospa_wietrzna',\n",
       " 'https://pl.wikipedia.org/wiki/Pappataci',\n",
       " 'https://pl.wikipedia.org/wiki/Parwowiroza_g%C4%99si',\n",
       " 'https://pl.wikipedia.org/wiki/Plamki_Koplika',\n",
       " 'https://pl.wikipedia.org/wiki/Post%C4%99puj%C4%85ca_leukoencefalopatia_wieloogniskowa',\n",
       " 'https://pl.wikipedia.org/wiki/P%C3%B3%C5%82pasiec',\n",
       " 'https://pl.wikipedia.org/wiki/P%C3%B3%C5%82pasiec_oczny',\n",
       " 'https://pl.wikipedia.org/wiki/Pryszczyca',\n",
       " 'https://pl.wikipedia.org/wiki/Przezi%C4%99bienie',\n",
       " 'https://pl.wikipedia.org/wiki/Zesp%C3%B3%C5%82_Ramsaya_Hunta',\n",
       " 'https://pl.wikipedia.org/wiki/R%C3%B3%C5%BCyczka',\n",
       " 'https://pl.wikipedia.org/wiki/Rumie%C5%84_nag%C5%82y',\n",
       " 'https://pl.wikipedia.org/wiki/Rumie%C5%84_zaka%C5%BAny',\n",
       " 'https://pl.wikipedia.org/wiki/SARS',\n",
       " 'https://pl.wikipedia.org/wiki/Tropikalna_spastyczna_parapareza',\n",
       " 'https://pl.wikipedia.org/wiki/Wirus_chronicznego_parali%C5%BCu_pszcz%C3%B3%C5%82',\n",
       " 'https://pl.wikipedia.org/wiki/Wirus_Hendra',\n",
       " 'https://pl.wikipedia.org/wiki/Wirus_Nipah',\n",
       " 'https://pl.wikipedia.org/wiki/Wirus_ostrego_parali%C5%BCu_pszcz%C3%B3%C5%82',\n",
       " 'https://pl.wikipedia.org/wiki/Wirus_zdeformowanych_skrzyde%C5%82',\n",
       " 'https://pl.wikipedia.org/wiki/Wirus_ze_Schmallenbergu',\n",
       " 'https://pl.wikipedia.org/wiki/Wirusowe_zapalenie_staw%C3%B3w',\n",
       " 'https://pl.wikipedia.org/wiki/Wirusowe_zapalenie_t%C4%99tnic_koni',\n",
       " 'https://pl.wikipedia.org/wiki/W%C5%9Bcieklizna',\n",
       " 'https://pl.wikipedia.org/wiki/Zaka%C5%BCenia_opryszczkowe',\n",
       " 'https://pl.wikipedia.org/wiki/Zanokcica_opryszczkowa',\n",
       " 'https://pl.wikipedia.org/wiki/Zapalenia_m%C3%B3zgu_doliny_Murray',\n",
       " 'https://pl.wikipedia.org/wiki/Zesp%C3%B3%C5%82_Gianottiego-Crostiego',\n",
       " 'https://pl.wikipedia.org/wiki/Zesp%C3%B3%C5%82_nabytego_niedoboru_odporno%C5%9Bci',\n",
       " 'https://pl.wikipedia.org/wiki/Zesp%C3%B3%C5%82_r%C3%B3%C5%BCyczki_wrodzonej',\n",
       " 'https://pl.wikipedia.org/wiki/%C5%BB%C3%B3%C5%82ta_gor%C4%85czka',\n",
       " 'https://pl.wikipedia.org/wiki/Grypa',\n",
       " 'https://pl.wikipedia.org/wiki/Grypa_azjatycka',\n",
       " 'https://pl.wikipedia.org/wiki/Grypa_ko%C5%84ska',\n",
       " 'https://pl.wikipedia.org/wiki/H1N1',\n",
       " 'https://pl.wikipedia.org/wiki/H2N2',\n",
       " 'https://pl.wikipedia.org/wiki/H5N1',\n",
       " 'https://pl.wikipedia.org/wiki/H9N2',\n",
       " 'https://pl.wikipedia.org/wiki/Neuraminidaza',\n",
       " 'https://pl.wikipedia.org/wiki/Pandemia_grypy_A/H1N1_w_latach_2009%E2%80%932010',\n",
       " 'https://pl.wikipedia.org/wiki/Pandemia_grypy_w_latach_1918%E2%80%931919',\n",
       " 'https://pl.wikipedia.org/wiki/Przesuni%C4%99cie_antygenowe',\n",
       " 'https://pl.wikipedia.org/wiki/Ptasia_grypa',\n",
       " 'https://pl.wikipedia.org/wiki/Skok_antygenowy',\n",
       " 'https://pl.wikipedia.org/wiki/Szczepionka_modelowa',\n",
       " 'https://pl.wikipedia.org/wiki/Szczepionka_prepandemiczna_przeciw_grypie',\n",
       " 'https://pl.wikipedia.org/wiki/Szczepionka_przeciw_grypie',\n",
       " 'https://pl.wikipedia.org/wiki/Szczepionka_przeciw_grypie_pandemicznej',\n",
       " 'https://pl.wikipedia.org/wiki/%C5%9Awi%C5%84ska_grypa',\n",
       " 'https://pl.wikipedia.org/wiki/Wirus_grypy',\n",
       " 'https://pl.wikipedia.org/wiki/Wirusowe_zapalenie_w%C4%85troby',\n",
       " 'https://pl.wikipedia.org/wiki/%C5%9Awiatowy_Dzie%C5%84_Wirusowego_Zapalenia_W%C4%85troby',\n",
       " 'https://pl.wikipedia.org/wiki/Antygen_HBs',\n",
       " 'https://pl.wikipedia.org/wiki/Wirusowe_zapalenie_w%C4%85troby_typu_B',\n",
       " 'https://pl.wikipedia.org/wiki/Wirusowe_zapalenie_w%C4%85troby_typu_C',\n",
       " 'https://pl.wikipedia.org/wiki/Wirusowe_zapalenie_w%C4%85troby_typu_E',\n",
       " 'https://pl.wikipedia.org/wiki/Wirus_zapalenia_w%C4%85troby_typu_A',\n",
       " 'https://pl.wikipedia.org/wiki/Wirus_zapalenia_w%C4%85troby_typu_B',\n",
       " 'https://pl.wikipedia.org/wiki/Wirus_zapalenia_w%C4%85troby_typu_C',\n",
       " 'https://pl.wikipedia.org/wiki/Wirus_zapalenia_w%C4%85troby_typu_D',\n",
       " 'https://pl.wikipedia.org/wiki/Wirus_zapalenia_w%C4%85troby_typu_E',\n",
       " 'https://pl.wikipedia.org/wiki/Gor%C4%85czka_krwotoczna',\n",
       " 'https://pl.wikipedia.org/wiki/Argenty%C5%84ska_gor%C4%85czka_krwotoczna',\n",
       " 'https://pl.wikipedia.org/wiki/Boliwijska_gor%C4%85czka_krwotoczna',\n",
       " 'https://pl.wikipedia.org/wiki/Brazylijska_gor%C4%85czka_krwotoczna',\n",
       " 'https://pl.wikipedia.org/wiki/Choroba_marburska',\n",
       " 'https://pl.wikipedia.org/wiki/Gor%C4%85czka_krwotoczna_Ebola',\n",
       " 'https://pl.wikipedia.org/wiki/Gor%C4%85czka_krwotoczna_krymsko-kongijska',\n",
       " 'https://pl.wikipedia.org/wiki/Gor%C4%85czka_krwotoczna_z_zespo%C5%82em_nerkowym',\n",
       " 'https://pl.wikipedia.org/wiki/Gor%C4%85czka_Zachodniego_Nilu',\n",
       " 'https://pl.wikipedia.org/wiki/Omska_gor%C4%85czka_krwotoczna',\n",
       " 'https://pl.wikipedia.org/wiki/Wenezuelska_gor%C4%85czka_krwotoczna',\n",
       " 'https://pl.wikipedia.org/wiki/Amantadyna',\n",
       " 'https://pl.wikipedia.org/wiki/Oseltamiwir',\n",
       " 'https://pl.wikipedia.org/wiki/Rymantadyna',\n",
       " 'https://pl.wikipedia.org/wiki/Wirusowe_choroby_ro%C5%9Blin',\n",
       " 'https://pl.wikipedia.org/wiki/Chloroza_nerw%C3%B3w_li%C5%9Bci_maliny',\n",
       " 'https://pl.wikipedia.org/wiki/Krzaczasta_kar%C5%82owato%C5%9B%C4%87_maliny',\n",
       " 'https://pl.wikipedia.org/wiki/Mozaika_maliny',\n",
       " 'https://pl.wikipedia.org/wiki/Mozaika_tytoniowa',\n",
       " 'https://pl.wikipedia.org/wiki/Oparzelina_bor%C3%B3wki_wysokiej',\n",
       " 'https://pl.wikipedia.org/wiki/Ospowato%C5%9B%C4%87_%C5%9Bliwy',\n",
       " 'https://pl.wikipedia.org/wiki/Pstro%C5%9B%C4%87_tulipana',\n",
       " 'https://pl.wikipedia.org/wiki/Smugowato%C5%9B%C4%87_ziemniaka',\n",
       " 'https://pl.wikipedia.org/wiki/W%C4%85skolisto%C5%9B%C4%87_%C5%82ubinu',\n",
       " 'https://pl.wikipedia.org/wiki/%C5%BB%C3%B3%C5%82ta_kar%C5%82owato%C5%9B%C4%87_j%C4%99czmienia',\n",
       " 'https://pl.wikipedia.org/wiki/%C5%BB%C3%B3%C5%82ta_mozaika_j%C4%99czmienia',\n",
       " 'https://pl.wikipedia.org/wiki/%C5%BB%C3%B3%C5%82taczka_buraka',\n",
       " 'https://pl.wikipedia.org/wiki/Choroby_genetyczne',\n",
       " 'https://pl.wikipedia.org/wiki/Choroby_genetyczne_cz%C5%82owieka',\n",
       " 'https://pl.wikipedia.org/wiki/Choroby_zwi%C4%85zane_z_p%C5%82ci%C4%85',\n",
       " 'https://pl.wikipedia.org/wiki/3-metylokrotonyloglicynuria',\n",
       " 'https://pl.wikipedia.org/wiki/Acheiropodia',\n",
       " 'https://pl.wikipedia.org/wiki/Achondrogeneza',\n",
       " 'https://pl.wikipedia.org/wiki/Acyduria_glutarowa_typu_I',\n",
       " 'https://pl.wikipedia.org/wiki/Acyduria_glutarowa_typu_II',\n",
       " 'https://pl.wikipedia.org/wiki/Acyduria_orotowa',\n",
       " 'https://pl.wikipedia.org/wiki/Zesp%C3%B3%C5%82_Alagille%E2%80%99a',\n",
       " 'https://pl.wikipedia.org/wiki/Albinizm',\n",
       " 'https://pl.wikipedia.org/wiki/Alfa-mannozydoza',\n",
       " 'https://pl.wikipedia.org/wiki/Amelogenesis_imperfecta',\n",
       " 'https://pl.wikipedia.org/wiki/Analbuminemia',\n",
       " 'https://pl.wikipedia.org/wiki/Analgezja_wrodzona',\n",
       " 'https://pl.wikipedia.org/wiki/Anomalia_Maya-Hegglina',\n",
       " 'https://pl.wikipedia.org/wiki/Anomalia_Pelgera-Hueta',\n",
       " 'https://pl.wikipedia.org/wiki/Arytmogenna_kardiomiopatia_prawej_komory',\n",
       " 'https://pl.wikipedia.org/wiki/Asocjacja_CHARGE',\n",
       " 'https://pl.wikipedia.org/wiki/Aspartyloglikozaminuria',\n",
       " 'https://pl.wikipedia.org/wiki/Ataksja_rdzeniowo-m%C3%B3%C5%BCd%C5%BCkowa',\n",
       " 'https://pl.wikipedia.org/wiki/Atrofia_mikrokosmk%C3%B3w',\n",
       " 'https://pl.wikipedia.org/wiki/Autoimmunologiczny_zesp%C3%B3%C5%82_niedoczynno%C5%9Bci_wielogruczo%C5%82owej_typu_1',\n",
       " 'https://pl.wikipedia.org/wiki/Autoimmunologiczny_zesp%C3%B3%C5%82_niedoczynno%C5%9Bci_wielogruczo%C5%82owej_typu_2',\n",
       " 'https://pl.wikipedia.org/wiki/Zesp%C3%B3%C5%82_Bartha',\n",
       " 'https://pl.wikipedia.org/wiki/CADASIL',\n",
       " 'https://pl.wikipedia.org/wiki/Ca%C5%82o%C5%9Bciowe_zaburzenie_rozwoju',\n",
       " 'https://pl.wikipedia.org/wiki/Choroba_Camuratiego-Engelmanna',\n",
       " 'https://pl.wikipedia.org/wiki/Ceroidolipofuscynoza_neuronalna_typu_5',\n",
       " 'https://pl.wikipedia.org/wiki/Ceroidolipofuscynozy_neuronalne',\n",
       " 'https://pl.wikipedia.org/wiki/Zesp%C3%B3%C5%82_Chediaka-Higashiego',\n",
       " 'https://pl.wikipedia.org/wiki/Cherubinkowo%C5%9B%C4%87',\n",
       " 'https://pl.wikipedia.org/wiki/Chondrodysplazja_typu_Grebego',\n",
       " 'https://pl.wikipedia.org/wiki/Choroba_Albersa-Sch%C3%B6nberga',\n",
       " 'https://pl.wikipedia.org/wiki/Choroba_Alpersa',\n",
       " 'https://pl.wikipedia.org/wiki/Choroba_Andersen',\n",
       " 'https://pl.wikipedia.org/wiki/Choroba_Caffeya',\n",
       " 'https://pl.wikipedia.org/wiki/Choroba_Canavan',\n",
       " 'https://pl.wikipedia.org/wiki/Choroba_Carolego',\n",
       " 'https://pl.wikipedia.org/wiki/Choroba_central_core',\n",
       " 'https://pl.wikipedia.org/wiki/Choroba_Charcota-Mariego-Tootha',\n",
       " 'https://pl.wikipedia.org/wiki/Choroba_Charcota-Mariego-Tootha_typu_1A',\n",
       " 'https://pl.wikipedia.org/wiki/Choroba_Charcota-Mariego-Tootha_typu_1B',\n",
       " 'https://pl.wikipedia.org/wiki/Choroba_Charcota-Mariego-Tootha_typu_1C',\n",
       " 'https://pl.wikipedia.org/wiki/Choroba_Christmasa',\n",
       " 'https://pl.wikipedia.org/wiki/Choroba_Creutzfeldta-Jakoba',\n",
       " 'https://pl.wikipedia.org/wiki/Choroba_Dariera',\n",
       " 'https://pl.wikipedia.org/wiki/Choroba_De_Vivo',\n",
       " 'https://pl.wikipedia.org/wiki/Choroba_Dowlinga-Degosa',\n",
       " 'https://pl.wikipedia.org/wiki/Choroba_Fabry%E2%80%99ego',\n",
       " 'https://pl.wikipedia.org/wiki/Choroba_Fahra',\n",
       " 'https://pl.wikipedia.org/wiki/Choroba_Farbera',\n",
       " 'https://pl.wikipedia.org/wiki/Choroba_Haileya-Haileya',\n",
       " 'https://pl.wikipedia.org/wiki/Choroba_Hersa',\n",
       " 'https://pl.wikipedia.org/wiki/Choroba_Jansky%E2%80%99ego-Bielschowsky%E2%80%99ego',\n",
       " 'https://pl.wikipedia.org/wiki/Choroba_Kennedy%E2%80%99ego',\n",
       " 'https://pl.wikipedia.org/wiki/Choroba_Kostmanna',\n",
       " 'https://pl.wikipedia.org/wiki/Choroba_Kufsa',\n",
       " 'https://pl.wikipedia.org/wiki/Choroba_Leva',\n",
       " 'https://pl.wikipedia.org/wiki/Choroba_Lhermitte%E2%80%99a-Duclos',\n",
       " 'https://pl.wikipedia.org/wiki/Choroba_McArdle%E2%80%99a',\n",
       " 'https://pl.wikipedia.org/wiki/Choroba_Nasu-Hakoli',\n",
       " 'https://pl.wikipedia.org/wiki/Choroba_Naxos',\n",
       " 'https://pl.wikipedia.org/wiki/Choroba_Niemanna-Picka',\n",
       " 'https://pl.wikipedia.org/wiki/Choroba_oczu_Wysp_Alandzkich',\n",
       " 'https://pl.wikipedia.org/wiki/Choroba_Oguchiego',\n",
       " 'https://pl.wikipedia.org/wiki/Choroba_Olliera',\n",
       " 'https://pl.wikipedia.org/wiki/Choroba_Parkinsona',\n",
       " 'https://pl.wikipedia.org/wiki/Choroba_Refsuma',\n",
       " 'https://pl.wikipedia.org/wiki/Choroba_Rendu-Oslera-Webera',\n",
       " 'https://pl.wikipedia.org/wiki/Choroba_Santavuoriego-Haltii',\n",
       " 'https://pl.wikipedia.org/wiki/Choroba_Spielmeyera-Vogta-Sj%C3%B6grena',\n",
       " 'https://pl.wikipedia.org/wiki/Choroba_Stargardta',\n",
       " 'https://pl.wikipedia.org/wiki/Choroba_Str%C3%BCmplla',\n",
       " 'https://pl.wikipedia.org/wiki/Choroba_tangierska',\n",
       " 'https://pl.wikipedia.org/wiki/Choroba_Taruiego',\n",
       " 'https://pl.wikipedia.org/wiki/Choroba_Thomsena',\n",
       " 'https://pl.wikipedia.org/wiki/Choroba_Unverrichta-Lundborga',\n",
       " 'https://pl.wikipedia.org/wiki/Choroba_Urbacha-Wiethego',\n",
       " 'https://pl.wikipedia.org/wiki/Choroba_van_Buchema',\n",
       " 'https://pl.wikipedia.org/wiki/Choroby_genetyczne_w_populacji_fi%C5%84skiej',\n",
       " 'https://pl.wikipedia.org/wiki/Choroby_genetyczne_w_populacji_%C5%BByd%C3%B3w_aszkenazyjskich',\n",
       " 'https://pl.wikipedia.org/wiki/Choroby_spichrzeniowe_glikogenu',\n",
       " 'https://pl.wikipedia.org/wiki/Choroby_spowodowane_powt%C3%B3rzeniami_trinukleotyd%C3%B3w',\n",
       " 'https://pl.wikipedia.org/wiki/Ciliopatie',\n",
       " 'https://pl.wikipedia.org/wiki/Zesp%C3%B3%C5%82_Cloustona',\n",
       " 'https://pl.wikipedia.org/wiki/Zesp%C3%B3%C5%82_m%C3%B3zgowo-%C5%BCebrowo-%C5%BCuchwowy',\n",
       " 'https://pl.wikipedia.org/wiki/Zesp%C3%B3%C5%82_Cornelii_de_Lange',\n",
       " 'https://pl.wikipedia.org/wiki/Zesp%C3%B3%C5%82_Costello',\n",
       " 'https://pl.wikipedia.org/wiki/Cystynoza',\n",
       " 'https://pl.wikipedia.org/wiki/Deficyt_dehydrogenazy_pirogronianu',\n",
       " 'https://pl.wikipedia.org/wiki/Deficyt_karboksykinazy_fosfoenolopirogronianu',\n",
       " 'https://pl.wikipedia.org/wiki/Deficyt_karboksylazy_pirogronianu',\n",
       " 'https://pl.wikipedia.org/wiki/Dentinogenesis_imperfecta',\n",
       " 'https://pl.wikipedia.org/wiki/Zesp%C3%B3%C5%82_Downa',\n",
       " 'https://pl.wikipedia.org/wiki/Dr%C5%BCenie_samoistne',\n",
       " 'https://pl.wikipedia.org/wiki/Zesp%C3%B3%C5%82_Duane%E2%80%99a',\n",
       " 'https://pl.wikipedia.org/wiki/Zesp%C3%B3%C5%82_Dubowitza',\n",
       " 'https://pl.wikipedia.org/wiki/Dyschondrosteoza_L%C3%A9riego-Weilla',\n",
       " 'https://pl.wikipedia.org/wiki/Dysgenezja_gonad',\n",
       " 'https://pl.wikipedia.org/wiki/Dysplazja_kr%C4%99gos%C5%82upowo-przynasadowa_Koz%C5%82owskiego',\n",
       " 'https://pl.wikipedia.org/wiki/Dysplazja_obojczykowo-czaszkowa',\n",
       " 'https://pl.wikipedia.org/wiki/Dysplazja_przynasadowa_McKusicka',\n",
       " 'https://pl.wikipedia.org/wiki/Dysplazje_kr%C4%99gos%C5%82upowo-nasadowe',\n",
       " 'https://pl.wikipedia.org/wiki/Dystonia_torsyjna_typu_1',\n",
       " 'https://pl.wikipedia.org/wiki/Dystonia_z_dobr%C4%85_odpowiedzi%C4%85_na_L-dop%C4%99',\n",
       " 'https://pl.wikipedia.org/wiki/Dystrofia_Emery%E2%80%99ego-Dreifussa',\n",
       " 'https://pl.wikipedia.org/wiki/Dystrofia_Thiela-Behnkego',\n",
       " 'https://pl.wikipedia.org/wiki/Dyzostoza_%C5%BCuchwowo-twarzowa',\n",
       " 'https://pl.wikipedia.org/wiki/Dziedziczna_koproporfiria',\n",
       " 'https://pl.wikipedia.org/wiki/Dziedziczna_mi%C4%99%C5%9Bniakowato%C5%9B%C4%87_g%C5%82adkokom%C3%B3rkowa_i_rak_nerkowokom%C3%B3rkowy',\n",
       " 'https://pl.wikipedia.org/wiki/Dziedziczne_neuropatie_czuciowe_i_autonomiczne',\n",
       " 'https://pl.wikipedia.org/wiki/Zesp%C3%B3%C5%82_Edwardsa',\n",
       " 'https://pl.wikipedia.org/wiki/Ektrodaktylia',\n",
       " 'https://pl.wikipedia.org/wiki/Epidermodysplasia_verruciformis',\n",
       " 'https://pl.wikipedia.org/wiki/Zesp%C3%B3%C5%82_Epsteina',\n",
       " 'https://pl.wikipedia.org/wiki/Zesp%C3%B3%C5%82_Fanconiego-Bickela',\n",
       " 'https://pl.wikipedia.org/wiki/Zesp%C3%B3%C5%82_Frynsa',\n",
       " 'https://pl.wikipedia.org/wiki/Genodermatozy',\n",
       " 'https://pl.wikipedia.org/wiki/Zesp%C3%B3%C5%82_Gilberta',\n",
       " 'https://pl.wikipedia.org/wiki/Dysplazja_Greenberg',\n",
       " 'https://pl.wikipedia.org/wiki/Guz_Wilmsa',\n",
       " 'https://pl.wikipedia.org/wiki/Hemochromatoza_pierwotna',\n",
       " 'https://pl.wikipedia.org/wiki/Hemofilia',\n",
       " 'https://pl.wikipedia.org/wiki/Hemoglobinopatia',\n",
       " 'https://pl.wikipedia.org/wiki/Hiperamonemia',\n",
       " 'https://pl.wikipedia.org/wiki/Hiperekpleksja',\n",
       " 'https://pl.wikipedia.org/wiki/Hiperkaliemiczne_pora%C5%BCenie_okresowe',\n",
       " 'https://pl.wikipedia.org/wiki/Hiperostoza_korowa',\n",
       " 'https://pl.wikipedia.org/wiki/Hipoalfalipoproteinemia',\n",
       " 'https://pl.wikipedia.org/wiki/Hipobetalipoproteinemia',\n",
       " 'https://pl.wikipedia.org/wiki/Hipochondroplazja',\n",
       " 'https://pl.wikipedia.org/wiki/Hipofosfatazja',\n",
       " 'https://pl.wikipedia.org/wiki/Hipohydrotyczna_dysplazja_ektodermalna',\n",
       " 'https://pl.wikipedia.org/wiki/Hipokaliemiczne_pora%C5%BCenie_okresowe',\n",
       " 'https://pl.wikipedia.org/wiki/Holoprozencefalia',\n",
       " 'https://pl.wikipedia.org/wiki/Zesp%C3%B3%C5%82_H%C3%B8yeraala-Hrei%C3%B0arssona',\n",
       " 'https://pl.wikipedia.org/wiki/Izodicentryczny_chromosom_15',\n",
       " 'https://pl.wikipedia.org/wiki/Zesp%C3%B3%C5%82_Johanson-Blizzarda',\n",
       " 'https://pl.wikipedia.org/wiki/Zesp%C3%B3%C5%82_Kabuki',\n",
       " 'https://pl.wikipedia.org/wiki/Kl%C4%85twa_Ondyny',\n",
       " 'https://pl.wikipedia.org/wiki/Ksantynuria',\n",
       " 'https://pl.wikipedia.org/wiki/Letalna_chondrodysplazja_Blomstranda',\n",
       " 'https://pl.wikipedia.org/wiki/Leucyzm',\n",
       " 'https://pl.wikipedia.org/wiki/Leukoencefalopatia_z_zanikaj%C4%85c%C4%85_istot%C4%85_bia%C5%82%C4%85',\n",
       " 'https://pl.wikipedia.org/wiki/Benedikt_Lika',\n",
       " 'https://pl.wikipedia.org/wiki/Limfangioleiomiomatoza',\n",
       " 'https://pl.wikipedia.org/wiki/Lizosomalne_choroby_spichrzeniowe',\n",
       " 'https://pl.wikipedia.org/wiki/Mal_de_Meleda',\n",
       " 'https://pl.wikipedia.org/wiki/Zesp%C3%B3%C5%82_Maroteaux-Lamy%E2%80%99ego',\n",
       " 'https://pl.wikipedia.org/wiki/Mendelian_Inheritance_in_Man',\n",
       " 'https://pl.wikipedia.org/wiki/Miopatia_Nonaki',\n",
       " 'https://pl.wikipedia.org/wiki/Miopatia_rdzennych_Amerykan%C3%B3w',\n",
       " 'https://pl.wikipedia.org/wiki/Miopatie',\n",
       " 'https://pl.wikipedia.org/wiki/Mnoga_gruczolakowato%C5%9B%C4%87_wewn%C4%85trzwydzielnicza_typu_2',\n",
       " 'https://pl.wikipedia.org/wiki/Mnogie_kostniakochrz%C4%99stniaki',\n",
       " 'https://pl.wikipedia.org/wiki/Zesp%C3%B3%C5%82_Morgagniego-Stewarta-Morela',\n",
       " 'https://pl.wikipedia.org/wiki/Zesp%C3%B3%C5%82_Morquio',\n",
       " 'https://pl.wikipedia.org/wiki/Zesp%C3%B3%C5%82_Muckle%E2%80%99a-Wellsa',\n",
       " 'https://pl.wikipedia.org/wiki/Mukopolisacharydoza',\n",
       " 'https://pl.wikipedia.org/wiki/Zesp%C3%B3%C5%82_Nagera',\n",
       " 'https://pl.wikipedia.org/wiki/Zesp%C3%B3%C5%82_Natowicza',\n",
       " 'https://pl.wikipedia.org/wiki/Nefronoftyza',\n",
       " 'https://pl.wikipedia.org/wiki/Neuroakantocytoza',\n",
       " 'https://pl.wikipedia.org/wiki/Neurodegeneracja_zwi%C4%85zana_z_kinaz%C4%85_pantotenianu',\n",
       " 'https://pl.wikipedia.org/wiki/Niedob%C3%B3r_5%CE%B1-reduktazy',\n",
       " 'https://pl.wikipedia.org/wiki/Niedob%C3%B3r_alfa1-antytrypsyny',\n",
       " 'https://pl.wikipedia.org/wiki/Niedob%C3%B3r_dehydrogenazy_3-hydroksyacylo-koenzymu_A_d%C5%82ugo%C5%82a%C5%84cuchowych_kwas%C3%B3w_t%C5%82uszczowych',\n",
       " 'https://pl.wikipedia.org/wiki/Niedob%C3%B3r_dehydrogenazy_glukozo-6-fosforanowej',\n",
       " 'https://pl.wikipedia.org/wiki/Niedob%C3%B3r_izomerazy_fosfotriozowej',\n",
       " 'https://pl.wikipedia.org/wiki/Niedob%C3%B3r_kofaktora_molibdenowego',\n",
       " 'https://pl.wikipedia.org/wiki/Niedob%C3%B3r_mieloperoksydazy',\n",
       " 'https://pl.wikipedia.org/wiki/Niedob%C3%B3r_syntazy_6-pirogronianotetrahydropteryny',\n",
       " 'https://pl.wikipedia.org/wiki/Niedob%C3%B3r_syntazy_metioninowej',\n",
       " 'https://pl.wikipedia.org/wiki/Niedob%C3%B3r_tetrahydrobiopteryny',\n",
       " 'https://pl.wikipedia.org/wiki/Niedokrwisto%C5%9B%C4%87_Blackfana-Diamonda',\n",
       " 'https://pl.wikipedia.org/wiki/Niedokrwisto%C5%9B%C4%87_sierpowatokrwinkowa',\n",
       " 'https://pl.wikipedia.org/wiki/Nieketonowa_hiperglicynemia',\n",
       " 'https://pl.wikipedia.org/wiki/Niescalony_mi%C4%99sie%C5%84_lewej_komory',\n",
       " 'https://pl.wikipedia.org/wiki/Niskoros%C5%82o%C5%9B%C4%87_Mulibrey',\n",
       " 'https://pl.wikipedia.org/wiki/Odruch_kichania_spowodowany_%C5%9Bwiat%C5%82em_s%C5%82onecznym',\n",
       " 'https://pl.wikipedia.org/wiki/Ogniskowa_dysplazja_korowa',\n",
       " 'https://pl.wikipedia.org/wiki/Zesp%C3%B3%C5%82_Oldfielda',\n",
       " 'https://pl.wikipedia.org/wiki/Oporno%C5%9B%C4%87_na_glikokortykosteroidy',\n",
       " 'https://pl.wikipedia.org/wiki/Osteopoikilia',\n",
       " 'https://pl.wikipedia.org/wiki/Ot%C4%99pienie_z_cia%C5%82ami_Lewy%E2%80%99ego',\n",
       " 'https://pl.wikipedia.org/wiki/Padaczka_miokloniczna_Lafory',\n",
       " 'https://pl.wikipedia.org/wiki/Zesp%C3%B3%C5%82_Peutza-Jeghersa',\n",
       " 'https://pl.wikipedia.org/wiki/Choroba_Peyroniego',\n",
       " 'https://pl.wikipedia.org/wiki/P%C4%99cherzowe_oddzielanie_si%C4%99_nask%C3%B3rka',\n",
       " 'https://pl.wikipedia.org/wiki/Pierwotne_niedobory_odporno%C5%9Bci',\n",
       " 'https://pl.wikipedia.org/wiki/Polipowato%C5%9B%C4%87_m%C5%82odzie%C5%84cza',\n",
       " 'https://pl.wikipedia.org/wiki/Pora%C5%BCenie_okresowe',\n",
       " 'https://pl.wikipedia.org/wiki/Porfirie',\n",
       " 'https://pl.wikipedia.org/wiki/Post%C4%99puj%C4%85ce_kostniej%C4%85ce_zapalenie_mi%C4%99%C5%9Bni',\n",
       " 'https://pl.wikipedia.org/wiki/Post%C4%99puj%C4%85ce_pora%C5%BCenie_nadj%C4%85drowe',\n",
       " 'https://pl.wikipedia.org/wiki/Pozorny_nadmiar_mineralokortykoid%C3%B3w',\n",
       " 'https://pl.wikipedia.org/wiki/Progeria',\n",
       " 'https://pl.wikipedia.org/wiki/Protoporfiria_erytropoetyczna',\n",
       " 'https://pl.wikipedia.org/wiki/Zesp%C3%B3%C5%82_przyleg%C5%82ych_gen%C3%B3w_BOR-zesp%C3%B3%C5%82_Duane%E2%80%99a-wodog%C5%82owie',\n",
       " 'https://pl.wikipedia.org/wiki/Dziedziczenie_autosomalne_recesywne',\n",
       " 'https://pl.wikipedia.org/wiki/Abetalipoproteinemia',\n",
       " 'https://pl.wikipedia.org/wiki/Acrodermatitis_enteropathica',\n",
       " 'https://pl.wikipedia.org/wiki/Acyduria_mewalonianowa',\n",
       " 'https://pl.wikipedia.org/wiki/Zesp%C3%B3%C5%82_Aicardiego-Gouti%C3%A8resa',\n",
       " 'https://pl.wikipedia.org/wiki/Akatalazja',\n",
       " 'https://pl.wikipedia.org/wiki/Alkaptonuria',\n",
       " 'https://pl.wikipedia.org/wiki/Zesp%C3%B3%C5%82_Alstr%C3%B6ma',\n",
       " 'https://pl.wikipedia.org/wiki/Argininemia',\n",
       " 'https://pl.wikipedia.org/wiki/Ataksja_Friedreicha',\n",
       " 'https://pl.wikipedia.org/wiki/Choroba_Coriego',\n",
       " 'https://pl.wikipedia.org/wiki/Choroba_Gauchera',\n",
       " 'https://pl.wikipedia.org/wiki/Choroba_Hartnup%C3%B3w',\n",
       " 'https://pl.wikipedia.org/wiki/Choroba_Pompego',\n",
       " 'https://pl.wikipedia.org/wiki/Choroba_syropu_klonowego',\n",
       " 'https://pl.wikipedia.org/wiki/Choroba_Taya-Sachsa',\n",
       " 'https://pl.wikipedia.org/wiki/Choroba_von_Gierkego',\n",
       " 'https://pl.wikipedia.org/wiki/Choroba_Wilsona',\n",
       " 'https://pl.wikipedia.org/wiki/Choroba_Wolmana',\n",
       " 'https://pl.wikipedia.org/wiki/Cystynuria',\n",
       " 'https://pl.wikipedia.org/wiki/Deficyt_lizosomalnej_kwa%C5%9Bnej_lipazy',\n",
       " 'https://pl.wikipedia.org/wiki/Zesp%C3%B3%C5%82_Dubina-Johnsona',\n",
       " 'https://pl.wikipedia.org/wiki/Dysplazja_czaszkowo-trzonowa',\n",
       " 'https://pl.wikipedia.org/wiki/Dysplazja_diastroficzna',\n",
       " 'https://pl.wikipedia.org/wiki/Fenyloketonuria',\n",
       " 'https://pl.wikipedia.org/wiki/Galaktozemia',\n",
       " 'https://pl.wikipedia.org/wiki/Gor%C4%85czka_okresowa_zwi%C4%85zana_z_hipergammaglobulinemi%C4%85_D',\n",
       " 'https://pl.wikipedia.org/wiki/Homocystynuria',\n",
       " 'https://pl.wikipedia.org/wiki/Kar%C5%82owato%C5%9B%C4%87_typu_Larona',\n",
       " 'https://pl.wikipedia.org/wiki/Ksantomatoza_m%C3%B3zgowo-%C5%9Bci%C4%99gnista',\n",
       " 'https://pl.wikipedia.org/wiki/Leprechaunizm',\n",
       " 'https://pl.wikipedia.org/wiki/Zesp%C3%B3%C5%82_m%C3%B3zgowo-oczno-twarzowo-szkieletowy',\n",
       " 'https://pl.wikipedia.org/wiki/Mukowiscydoza',\n",
       " 'https://pl.wikipedia.org/wiki/Zesp%C3%B3%C5%82_Nevo',\n",
       " 'https://pl.wikipedia.org/wiki/Niedob%C3%B3r_deaminazy_adenozynowej',\n",
       " 'https://pl.wikipedia.org/wiki/Niedob%C3%B3r_leukocytarnych_cz%C4%85stek_adhezyjnych',\n",
       " 'https://pl.wikipedia.org/wiki/Niedokrwisto%C5%9B%C4%87_Fanconiego',\n",
       " 'https://pl.wikipedia.org/wiki/Ostre_st%C5%82uszczenie_w%C4%85troby_ci%C4%99%C5%BCarnych',\n",
       " 'https://pl.wikipedia.org/wiki/Padaczka_p%C3%B3%C5%82nocna',\n",
       " 'https://pl.wikipedia.org/wiki/Pierwotna_dyskineza_rz%C4%99sek',\n",
       " 'https://pl.wikipedia.org/wiki/P%C5%82%C3%B3d_arlekin',\n",
       " 'https://pl.wikipedia.org/wiki/Rodzinna_dysautonomia',\n",
       " 'https://pl.wikipedia.org/wiki/Rodzinna_gor%C4%85czka_%C5%9Br%C3%B3dziemnomorska',\n",
       " 'https://pl.wikipedia.org/wiki/Rodzinny_niedob%C3%B3r_acylotransferazy_lecytynowo-cholesterolowej',\n",
       " 'https://pl.wikipedia.org/wiki/Zesp%C3%B3%C5%82_Rothmunda-Thomsona',\n",
       " 'https://pl.wikipedia.org/wiki/Zesp%C3%B3%C5%82_Rotora',\n",
       " 'https://pl.wikipedia.org/wiki/Sk%C3%B3ra_pergaminowa',\n",
       " 'https://pl.wikipedia.org/wiki/Zesp%C3%B3%C5%82_Slya',\n",
       " 'https://pl.wikipedia.org/wiki/Talasemia',\n",
       " 'https://pl.wikipedia.org/wiki/Trombastenia_Glanzmanna',\n",
       " 'https://pl.wikipedia.org/wiki/Tyrozynemia',\n",
       " 'https://pl.wikipedia.org/wiki/Zesp%C3%B3%C5%82_Walkera-Warburg',\n",
       " 'https://pl.wikipedia.org/wiki/Wrodzony_przerost_nadnerczy',\n",
       " 'https://pl.wikipedia.org/wiki/Zesp%C3%B3%C5%82_Behra',\n",
       " 'https://pl.wikipedia.org/wiki/Zesp%C3%B3%C5%82_Bernarda-Souliera',\n",
       " 'https://pl.wikipedia.org/wiki/Zesp%C3%B3%C5%82_Blooma',\n",
       " 'https://pl.wikipedia.org/wiki/Zesp%C3%B3%C5%82_Carpentera',\n",
       " 'https://pl.wikipedia.org/wiki/Zesp%C3%B3%C5%82_Carvajala',\n",
       " 'https://pl.wikipedia.org/wiki/Zesp%C3%B3%C5%82_Cockayne%E2%80%99a',\n",
       " 'https://pl.wikipedia.org/wiki/Zesp%C3%B3%C5%82_Ellisa-van_Crevelda',\n",
       " 'https://pl.wikipedia.org/wiki/Zesp%C3%B3%C5%82_Hurler',\n",
       " 'https://pl.wikipedia.org/wiki/Zesp%C3%B3%C5%82_kr%C4%99to%C5%9Bci_t%C4%99tnic',\n",
       " 'https://pl.wikipedia.org/wiki/Zesp%C3%B3%C5%82_Meckela',\n",
       " 'https://pl.wikipedia.org/wiki/Zesp%C3%B3%C5%82_nagich_limfocyt%C3%B3w',\n",
       " 'https://pl.wikipedia.org/wiki/Zesp%C3%B3%C5%82_Nezelofa',\n",
       " 'https://pl.wikipedia.org/wiki/Zesp%C3%B3%C5%82_niebieskich_pieluszek',\n",
       " 'https://pl.wikipedia.org/wiki/Zesp%C3%B3%C5%82_Omenna',\n",
       " 'https://pl.wikipedia.org/wiki/Zesp%C3%B3%C5%82_Pendreda',\n",
       " 'https://pl.wikipedia.org/wiki/Zesp%C3%B3%C5%82_Sanfilippo',\n",
       " 'https://pl.wikipedia.org/wiki/Zesp%C3%B3%C5%82_Scotta',\n",
       " 'https://pl.wikipedia.org/wiki/Zesp%C3%B3%C5%82_Smitha-Lemliego-Opitza',\n",
       " 'https://pl.wikipedia.org/wiki/Zesp%C3%B3%C5%82_Ushera',\n",
       " 'https://pl.wikipedia.org/wiki/Zesp%C3%B3%C5%82_Weissenbachera-Zweym%C3%BCllera',\n",
       " 'https://pl.wikipedia.org/wiki/Zesp%C3%B3%C5%82_Wernera',\n",
       " 'https://pl.wikipedia.org/wiki/Choroby_sprz%C4%99%C5%BCone_z_p%C5%82ci%C4%85',\n",
       " 'https://pl.wikipedia.org/wiki/Adrenoleukodystrofia',\n",
       " 'https://pl.wikipedia.org/wiki/Agammaglobulinemia',\n",
       " 'https://pl.wikipedia.org/wiki/Zesp%C3%B3%C5%82_Alporta',\n",
       " 'https://pl.wikipedia.org/wiki/Choroba_Menkesa',\n",
       " 'https://pl.wikipedia.org/wiki/Choroideremia',\n",
       " 'https://pl.wikipedia.org/wiki/Zesp%C3%B3%C5%82_Coffina-Lowry%E2%80%99ego',\n",
       " 'https://pl.wikipedia.org/wiki/Dystrofia_mi%C4%99%C5%9Bniowa_Duchenne%E2%80%99a',\n",
       " 'https://pl.wikipedia.org/wiki/Zesp%C3%B3%C5%82_Retta',\n",
       " 'https://pl.wikipedia.org/wiki/%C5%9Alepota_barw',\n",
       " 'https://pl.wikipedia.org/wiki/Zesp%C3%B3%C5%82_IPEX',\n",
       " 'https://pl.wikipedia.org/wiki/Zesp%C3%B3%C5%82_Lescha-Nyhana',\n",
       " 'https://pl.wikipedia.org/wiki/Zesp%C3%B3%C5%82_%C5%82amliwego_chromosomu_X',\n",
       " 'https://pl.wikipedia.org/wiki/Zesp%C3%B3%C5%82_niewra%C5%BCliwo%C5%9Bci_na_androgeny',\n",
       " 'https://pl.wikipedia.org/wiki/Zesp%C3%B3%C5%82_Wiskotta-Aldricha',\n",
       " 'https://pl.wikipedia.org/wiki/Fakomatozy',\n",
       " 'https://pl.wikipedia.org/wiki/Hipomelanoza_Ito',\n",
       " 'https://pl.wikipedia.org/wiki/Melanoza_nerwowosk%C3%B3rna',\n",
       " 'https://pl.wikipedia.org/wiki/Nerwiakow%C5%82%C3%B3kniakowato%C5%9B%C4%87',\n",
       " 'https://pl.wikipedia.org/wiki/Nerwiakow%C5%82%C3%B3kniakowato%C5%9B%C4%87_typu_1',\n",
       " 'https://pl.wikipedia.org/wiki/Nerwiakow%C5%82%C3%B3kniakowato%C5%9B%C4%87_typu_2',\n",
       " 'https://pl.wikipedia.org/wiki/Nietrzymanie_barwnika',\n",
       " 'https://pl.wikipedia.org/wiki/Stwardnienie_guzowate',\n",
       " 'https://pl.wikipedia.org/wiki/Zesp%C3%B3%C5%82_Klippla-Tr%C3%A9naunaya',\n",
       " 'https://pl.wikipedia.org/wiki/Zesp%C3%B3%C5%82_Schimmelpenninga-Feuersteina-Mimsa',\n",
       " 'https://pl.wikipedia.org/wiki/Zesp%C3%B3%C5%82_Sturge%E2%80%99a-Webera',\n",
       " 'https://pl.wikipedia.org/wiki/Zesp%C3%B3%C5%82_von_Hippla-Lindaua',\n",
       " 'https://pl.wikipedia.org/wiki/Znami%C4%99_%C5%82ojowe_Jadassohna',\n",
       " 'https://pl.wikipedia.org/wiki/Leukodystrofie',\n",
       " 'https://pl.wikipedia.org/wiki/Augusto_i_Michaela_Odone',\n",
       " 'https://pl.wikipedia.org/wiki/Choroba_Alexandra',\n",
       " 'https://pl.wikipedia.org/wiki/Choroba_Krabbego',\n",
       " 'https://pl.wikipedia.org/wiki/Choroba_Pelizaeusa-Merzbachera',\n",
       " 'https://pl.wikipedia.org/wiki/Leukodystrofia_metachromatyczna',\n",
       " 'https://pl.wikipedia.org/wiki/Zesp%C3%B3%C5%82_Zellwegera',\n",
       " 'https://pl.wikipedia.org/wiki/Zespo%C5%82y_niestabilno%C5%9Bci_chromosomowych',\n",
       " 'https://pl.wikipedia.org/wiki/Zesp%C3%B3%C5%82_ataksja-teleangiektazja',\n",
       " 'https://pl.wikipedia.org/wiki/Zesp%C3%B3%C5%82_Nijmegen',\n",
       " 'https://pl.wikipedia.org/wiki/Achondroplazja',\n",
       " 'https://pl.wikipedia.org/wiki/Choroba_Brugad%C3%B3w',\n",
       " 'https://pl.wikipedia.org/wiki/Hipercholesterolemia_rodzinna',\n",
       " 'https://pl.wikipedia.org/wiki/Zesp%C3%B3%C5%82_Levy%E2%80%99ego-Hollistera',\n",
       " 'https://pl.wikipedia.org/wiki/Niedob%C3%B3r_leukocytarnych_cz%C4%85stek_adhezyjnych_typu_II',\n",
       " 'https://pl.wikipedia.org/wiki/Pl%C4%85sawica_Huntingtona',\n",
       " 'https://pl.wikipedia.org/wiki/Siatk%C3%B3wczak',\n",
       " 'https://pl.wikipedia.org/wiki/Zesp%C3%B3%C5%82_Zanca',\n",
       " 'https://pl.wikipedia.org/wiki/Zesp%C3%B3%C5%82_Aperta',\n",
       " 'https://pl.wikipedia.org/wiki/Zesp%C3%B3%C5%82_Marfana',\n",
       " 'https://pl.wikipedia.org/wiki/Dystrofie_mi%C4%99%C5%9Bniowe',\n",
       " 'https://pl.wikipedia.org/wiki/Dystrofia_miotoniczna',\n",
       " 'https://pl.wikipedia.org/wiki/Dystrofia_twarzowo-%C5%82opatkowo-ramieniowa',\n",
       " 'https://pl.wikipedia.org/wiki/Nusinersen',\n",
       " 'https://pl.wikipedia.org/wiki/Wrodzona_dystrofia_mi%C4%99%C5%9Bniowa_Fukuyamy',\n",
       " 'https://pl.wikipedia.org/wiki/Dziedziczny_rak_piersi_i_jajnika',\n",
       " 'https://pl.wikipedia.org/wiki/KATNAL1',\n",
       " 'https://pl.wikipedia.org/wiki/Mnoga_gruczolakowato%C5%9B%C4%87_wewn%C4%85trzwydzielnicza',\n",
       " 'https://pl.wikipedia.org/wiki/Zesp%C3%B3%C5%82_Muira-Torre%E2%80%99a',\n",
       " 'https://pl.wikipedia.org/wiki/Rodzinna_polipowato%C5%9B%C4%87_gruczolakowata',\n",
       " 'https://pl.wikipedia.org/wiki/Zesp%C3%B3%C5%82_Bannayana-Rileya-Ruvalcaby',\n",
       " 'https://pl.wikipedia.org/wiki/Zesp%C3%B3%C5%82_Cowden',\n",
       " 'https://pl.wikipedia.org/wiki/Zesp%C3%B3%C5%82_Gardnera_(gastrologia)',\n",
       " 'https://pl.wikipedia.org/wiki/Zesp%C3%B3%C5%82_Li-Fraumeni',\n",
       " 'https://pl.wikipedia.org/wiki/Zesp%C3%B3%C5%82_Lyncha',\n",
       " 'https://pl.wikipedia.org/wiki/Zesp%C3%B3%C5%82_nab%C5%82oniak%C3%B3w_znamionowych',\n",
       " 'https://pl.wikipedia.org/wiki/Zesp%C3%B3%C5%82_predyspozycji_do_guz%C3%B3w_rabdoidnych',\n",
       " 'https://pl.wikipedia.org/wiki/Zesp%C3%B3%C5%82_Turcota',\n",
       " 'https://pl.wikipedia.org/wiki/Choroby_mitochondrialne',\n",
       " 'https://pl.wikipedia.org/wiki/Dziedziczna_neuropatia_nerwu_wzrokowego_Lebera',\n",
       " 'https://pl.wikipedia.org/wiki/Niedokrwisto%C5%9B%C4%87_aplastyczna_spowodowana_chloramfenikolem',\n",
       " 'https://pl.wikipedia.org/wiki/Zesp%C3%B3%C5%82_Kearnsa-Sayre%E2%80%99a',\n",
       " 'https://pl.wikipedia.org/wiki/Zesp%C3%B3%C5%82_Leigha',\n",
       " 'https://pl.wikipedia.org/wiki/Zesp%C3%B3%C5%82_MELAS',\n",
       " 'https://pl.wikipedia.org/wiki/Zesp%C3%B3%C5%82_MERRF',\n",
       " 'https://pl.wikipedia.org/wiki/Zesp%C3%B3%C5%82_MNGIE',\n",
       " 'https://pl.wikipedia.org/wiki/Zesp%C3%B3%C5%82_Mohra-Tranebjaerga',\n",
       " 'https://pl.wikipedia.org/wiki/Zesp%C3%B3%C5%82_NARP',\n",
       " 'https://pl.wikipedia.org/wiki/Zesp%C3%B3%C5%82_Pearsona',\n",
       " 'https://pl.wikipedia.org/wiki/Zesp%C3%B3%C5%82_Wolframa',\n",
       " 'https://pl.wikipedia.org/wiki/Zesp%C3%B3%C5%82_Pallistera-Killiana',\n",
       " 'https://pl.wikipedia.org/wiki/Pentasomia_chromosomu_X',\n",
       " 'https://pl.wikipedia.org/wiki/Tetrasomia_chromosomu_X',\n",
       " 'https://pl.wikipedia.org/wiki/Trisomia_chromosomu_X',\n",
       " 'https://pl.wikipedia.org/wiki/Zesp%C3%B3%C5%82_Angelmana',\n",
       " 'https://pl.wikipedia.org/wiki/Zesp%C3%B3%C5%82_de_Grouchy%E2%80%99ego',\n",
       " 'https://pl.wikipedia.org/wiki/Zesp%C3%B3%C5%82_delecji_22q11.2',\n",
       " 'https://pl.wikipedia.org/wiki/Zesp%C3%B3%C5%82_Klinefeltera',\n",
       " 'https://pl.wikipedia.org/wiki/Zesp%C3%B3%C5%82_kociego_krzyku',\n",
       " 'https://pl.wikipedia.org/wiki/Zesp%C3%B3%C5%82_kociego_oka',\n",
       " 'https://pl.wikipedia.org/wiki/Zesp%C3%B3%C5%82_Millera-Diekera',\n",
       " 'https://pl.wikipedia.org/wiki/Zesp%C3%B3%C5%82_Pataua',\n",
       " 'https://pl.wikipedia.org/wiki/Zesp%C3%B3%C5%82_Pradera-Williego',\n",
       " 'https://pl.wikipedia.org/wiki/Zesp%C3%B3%C5%82_Smith-Magenis',\n",
       " 'https://pl.wikipedia.org/wiki/Zesp%C3%B3%C5%82_Turnera',\n",
       " 'https://pl.wikipedia.org/wiki/Zesp%C3%B3%C5%82_Warkany%E2%80%99ego_2',\n",
       " 'https://pl.wikipedia.org/wiki/Zesp%C3%B3%C5%82_Wolfa-Hirschhorna',\n",
       " 'https://pl.wikipedia.org/wiki/Zesp%C3%B3%C5%82_XYY',\n",
       " 'https://pl.wikipedia.org/wiki/Kana%C5%82_jonowy',\n",
       " 'https://pl.wikipedia.org/wiki/Kana%C5%82opatie',\n",
       " 'https://pl.wikipedia.org/wiki/Bolesny_rumie%C5%84_ko%C5%84czyn',\n",
       " 'https://pl.wikipedia.org/wiki/Hipertermia_z%C5%82o%C5%9Bliwa',\n",
       " 'https://pl.wikipedia.org/wiki/Paramiotonia_wrodzona',\n",
       " 'https://pl.wikipedia.org/wiki/Retinopatia_barwnikowa',\n",
       " 'https://pl.wikipedia.org/wiki/Zesp%C3%B3%C5%82_Barttera',\n",
       " 'https://pl.wikipedia.org/wiki/Zesp%C3%B3%C5%82_d%C5%82ugiego_QT',\n",
       " 'https://pl.wikipedia.org/wiki/Zesp%C3%B3%C5%82_Jervella_i_Lange-Nielsena',\n",
       " 'https://pl.wikipedia.org/wiki/Zesp%C3%B3%C5%82_kr%C3%B3tkiego_QT',\n",
       " 'https://pl.wikipedia.org/wiki/Zesp%C3%B3%C5%82_Romano-Warda',\n",
       " 'https://pl.wikipedia.org/wiki/Aberracje_chromosomowe',\n",
       " 'https://pl.wikipedia.org/wiki/Chromosome_No._1_syndrome',\n",
       " 'https://pl.wikipedia.org/wiki/Deficjencja',\n",
       " 'https://pl.wikipedia.org/wiki/Monosomia',\n",
       " 'https://pl.wikipedia.org/wiki/Translokacja',\n",
       " 'https://pl.wikipedia.org/wiki/Trisomia']"
      ]
     },
     "execution_count": 8,
     "metadata": {},
     "output_type": "execute_result"
    }
   ],
   "source": [
    "links"
   ]
  },
  {
   "cell_type": "code",
   "execution_count": 9,
   "metadata": {},
   "outputs": [
    {
     "data": {
      "text/plain": [
       "516"
      ]
     },
     "execution_count": 9,
     "metadata": {},
     "output_type": "execute_result"
    }
   ],
   "source": [
    "len(links)"
   ]
  },
  {
   "cell_type": "code",
   "execution_count": 10,
   "metadata": {},
   "outputs": [],
   "source": [
    "def checkIfDuplicates_2(listOfElems):\n",
    "    ''' Check if given list contains any duplicates '''    \n",
    "    setOfElems = set()\n",
    "    for elem in listOfElems:\n",
    "        if elem in setOfElems:\n",
    "            return True\n",
    "        else:\n",
    "            setOfElems.add(elem)         \n",
    "    return False"
   ]
  },
  {
   "cell_type": "code",
   "execution_count": 11,
   "metadata": {},
   "outputs": [
    {
     "data": {
      "text/plain": [
       "False"
      ]
     },
     "execution_count": 11,
     "metadata": {},
     "output_type": "execute_result"
    }
   ],
   "source": [
    "checkIfDuplicates_2(links)"
   ]
  },
  {
   "cell_type": "code",
   "execution_count": 7,
   "metadata": {},
   "outputs": [
    {
     "data": {
      "text/plain": [
       "65"
      ]
     },
     "execution_count": 7,
     "metadata": {},
     "output_type": "execute_result"
    }
   ],
   "source": [
    "len(links__)"
   ]
  },
  {
   "cell_type": "code",
   "execution_count": 39,
   "metadata": {},
   "outputs": [],
   "source": [
    "from bs4 import BeautifulSoup\n",
    "from urllib.request import urlopen\n",
    "from urllib.parse import urljoin"
   ]
  },
  {
   "cell_type": "code",
   "execution_count": 38,
   "metadata": {},
   "outputs": [],
   "source": [
    "def return_links_within_div(url):\n",
    "    html = urlopen(url)\n",
    "    soup = BeautifulSoup(html, 'html.parser')\n",
    "\n",
    "    target_divs = soup.find_all(\"div\", class_=\"mw-co____ntent-ltr\", id=\"mw-content-text\")\n",
    "    list_links = []\n",
    "\n",
    "    for d in target_divs:\n",
    "        links = d.find_all('a')\n",
    "\n",
    "\n",
    "\n",
    "        for a in links:\n",
    "            link_relative = a.get(\"href\")\n",
    "            link_absolute = urljoin(url, link_relative)\n",
    "            list_links.append(link_absolute)\n",
    "    return list_links, soup"
   ]
  },
  {
   "cell_type": "code",
   "execution_count": null,
   "metadata": {},
   "outputs": [],
   "source": [
    "<div id=\"mw-content-text\" dir=\"ltr\" class=\"mw-content-ltr\" lang=\"pl\">"
   ]
  },
  {
   "cell_type": "code",
   "execution_count": 19,
   "metadata": {},
   "outputs": [],
   "source": [
    "links1, soup = return_links_within_div(url)"
   ]
  },
  {
   "cell_type": "code",
   "execution_count": 24,
   "metadata": {},
   "outputs": [
    {
     "data": {
      "text/plain": [
       "[]"
      ]
     },
     "execution_count": 24,
     "metadata": {},
     "output_type": "execute_result"
    }
   ],
   "source": [
    "links1"
   ]
  },
  {
   "cell_type": "code",
   "execution_count": 26,
   "metadata": {},
   "outputs": [
    {
     "name": "stdout",
     "output_type": "stream",
     "text": [
      "dupa\n"
     ]
    }
   ],
   "source": [
    "if links1 == []:\n",
    "    print(\"dupa\")"
   ]
  },
  {
   "cell_type": "code",
   "execution_count": 32,
   "metadata": {},
   "outputs": [
    {
     "data": {
      "text/plain": [
       "bs4.BeautifulSoup"
      ]
     },
     "execution_count": 32,
     "metadata": {},
     "output_type": "execute_result"
    }
   ],
   "source": [
    "type(soup)"
   ]
  },
  {
   "cell_type": "code",
   "execution_count": 41,
   "metadata": {},
   "outputs": [],
   "source": [
    "if isinstance(soup, BeautifulSoup):\n",
    "    print(\"dupa\")"
   ]
  },
  {
   "cell_type": "code",
   "execution_count": 35,
   "metadata": {},
   "outputs": [],
   "source": [
    "if str(type(soup)) == \"bs4.BeautifulSoup\":\n",
    "    print(\"dupa\")"
   ]
  },
  {
   "cell_type": "code",
   "execution_count": 36,
   "metadata": {},
   "outputs": [
    {
     "data": {
      "text/plain": [
       "\"<class 'bs4.BeautifulSoup'>\""
      ]
     },
     "execution_count": 36,
     "metadata": {},
     "output_type": "execute_result"
    }
   ],
   "source": [
    "str(type(soup))"
   ]
  },
  {
   "cell_type": "code",
   "execution_count": 28,
   "metadata": {},
   "outputs": [
    {
     "ename": "NameError",
     "evalue": "name 'bs4' is not defined",
     "output_type": "error",
     "traceback": [
      "\u001b[0;31m---------------------------------------------------------------------------\u001b[0m",
      "\u001b[0;31mNameError\u001b[0m                                 Traceback (most recent call last)",
      "\u001b[0;32m<ipython-input-28-19a70b30db61>\u001b[0m in \u001b[0;36m<module>\u001b[0;34m\u001b[0m\n\u001b[0;32m----> 1\u001b[0;31m \u001b[0;32mif\u001b[0m \u001b[0msoup\u001b[0m \u001b[0;32mis\u001b[0m \u001b[0mbs4\u001b[0m\u001b[0;34m.\u001b[0m\u001b[0mBeautifulSoup\u001b[0m\u001b[0;34m:\u001b[0m\u001b[0;34m\u001b[0m\u001b[0;34m\u001b[0m\u001b[0m\n\u001b[0m\u001b[1;32m      2\u001b[0m     \u001b[0mprint\u001b[0m\u001b[0;34m(\u001b[0m\u001b[0;34m\"dupa\"\u001b[0m\u001b[0;34m)\u001b[0m\u001b[0;34m\u001b[0m\u001b[0;34m\u001b[0m\u001b[0m\n",
      "\u001b[0;31mNameError\u001b[0m: name 'bs4' is not defined"
     ]
    }
   ],
   "source": [
    "if soup is bs4.BeautifulSoup:\n",
    "    print(\"dupa\")"
   ]
  },
  {
   "cell_type": "code",
   "execution_count": 20,
   "metadata": {},
   "outputs": [
    {
     "data": {
      "text/plain": [
       "['https://pl.wikipedia.org/wiki/Fiord',\n",
       " 'https://pl.wikipedia.org/wiki/Wikimedia_Commons',\n",
       " 'https://commons.wikimedia.org/wiki/Category:Fjords?uselang=pl',\n",
       " 'https://pl.wikipedia.org/wiki/Kategoria:Fiordy_Grenlandii',\n",
       " 'https://pl.wikipedia.org/wiki/Kategoria:Fiordy_Islandii',\n",
       " 'https://pl.wikipedia.org/wiki/Kategoria:Fiordy_Norwegii',\n",
       " 'https://pl.wikipedia.org/wiki/Kategoria:Fiordy_Wysp_Owczych',\n",
       " 'https://pl.wikipedia.org/wiki/Fiord',\n",
       " 'https://pl.wikipedia.org/wiki/Burrard',\n",
       " 'https://pl.wikipedia.org/wiki/Carlingford_Lough',\n",
       " 'https://pl.wikipedia.org/wiki/Ezcurra_Inlet',\n",
       " 'https://pl.wikipedia.org/wiki/Roskilde_Fjord',\n",
       " 'https://pl.wikipedia.org/wiki/Zapadnaja_Lica']"
      ]
     },
     "execution_count": 20,
     "metadata": {},
     "output_type": "execute_result"
    }
   ],
   "source": [
    "links1"
   ]
  },
  {
   "cell_type": "code",
   "execution_count": 18,
   "metadata": {},
   "outputs": [
    {
     "data": {
      "text/plain": [
       "23"
      ]
     },
     "execution_count": 18,
     "metadata": {},
     "output_type": "execute_result"
    }
   ],
   "source": [
    "len(links1)"
   ]
  },
  {
   "cell_type": "code",
   "execution_count": 21,
   "metadata": {},
   "outputs": [
    {
     "data": {
      "text/plain": [
       "13"
      ]
     },
     "execution_count": 21,
     "metadata": {},
     "output_type": "execute_result"
    }
   ],
   "source": [
    "len(links1)"
   ]
  },
  {
   "cell_type": "code",
   "execution_count": null,
   "metadata": {},
   "outputs": [],
   "source": []
  },
  {
   "cell_type": "code",
   "execution_count": null,
   "metadata": {},
   "outputs": [],
   "source": []
  },
  {
   "cell_type": "code",
   "execution_count": null,
   "metadata": {},
   "outputs": [],
   "source": [
    "class_link_extractor.return_links_within_div(\"https://pl.wikipedia.org/wiki/Kategoria:Glacjologia\", CATEGORY_DIVS[1])"
   ]
  },
  {
   "cell_type": "code",
   "execution_count": 3,
   "metadata": {},
   "outputs": [],
   "source": [
    "# import httplib2\n",
    "from bs4 import BeautifulSoup  # , SoupStrainer\n",
    "from urllib.parse import urljoin"
   ]
  },
  {
   "cell_type": "code",
   "execution_count": 5,
   "metadata": {},
   "outputs": [],
   "source": [
    "from timeout import timeout"
   ]
  },
  {
   "cell_type": "code",
   "execution_count": null,
   "metadata": {},
   "outputs": [],
   "source": []
  },
  {
   "cell_type": "code",
   "execution_count": 2,
   "metadata": {},
   "outputs": [],
   "source": [
    "url = \"https://pl.wikipedia.org/wiki/Kategoria:Glacjologia\""
   ]
  },
  {
   "cell_type": "code",
   "execution_count": 2,
   "metadata": {},
   "outputs": [],
   "source": [
    "import requests\n",
    "import urllib.request\n",
    "import time\n",
    "from bs4 import BeautifulSoup\n",
    "from urllib.request import urlopen\n",
    "from urllib.parse import urljoin"
   ]
  },
  {
   "cell_type": "code",
   "execution_count": 24,
   "metadata": {},
   "outputs": [],
   "source": [
    "def return_links_within_div(url):\n",
    "    html = urlopen(url)\n",
    "    soup = BeautifulSoup(html, 'html.parser')\n",
    "\n",
    "    target_divs = soup.find_all(\"div\", class_=\"mw-content-ltr\")\n",
    "    \n",
    "    for d in target_divs:\n",
    "        links = d.find_all('a')\n",
    "\n",
    "        list_links = []\n",
    "\n",
    "        for a in links:\n",
    "            link_relative = a.get(\"href\")\n",
    "            link_absolute = urljoin(url, link_relative)\n",
    "            list_links.append(link_absolute)\n",
    "            \n",
    "    return list_links"
   ]
  },
  {
   "cell_type": "code",
   "execution_count": null,
   "metadata": {},
   "outputs": [],
   "source": [
    "try:\n",
    "    number = int(raw_input(\"Enter a number between 1 - 10 \n",
    "\"))\n",
    "\n",
    "except ValueError:\n",
    "    print \"Err.. numbers only\"\n",
    "    sys.exit()\n",
    "\n",
    "print \"you entered number \n",
    "\", number"
   ]
  },
  {
   "cell_type": "code",
   "execution_count": 25,
   "metadata": {},
   "outputs": [],
   "source": [
    "def links_with_connect_error(url):\n",
    "\n",
    "    links = []\n",
    "    while links == []:\n",
    "        try:\n",
    "            with timeout(seconds=3):\n",
    "                links = return_links_within_div(url)\n",
    "\n",
    "        except:\n",
    "                print(\"can't connect\")\n",
    "    \n",
    "    return links"
   ]
  },
  {
   "cell_type": "code",
   "execution_count": 26,
   "metadata": {},
   "outputs": [
    {
     "name": "stdout",
     "output_type": "stream",
     "text": [
      "can't connect\n",
      "can't connect\n"
     ]
    },
    {
     "data": {
      "text/plain": [
       "['https://pl.wikipedia.org/wiki/Glacjologia',\n",
       " 'https://pl.wikipedia.org/wiki/Ablacja_(topnienie)',\n",
       " 'https://pl.wikipedia.org/wiki/Ablacja_lodowcowa',\n",
       " 'https://pl.wikipedia.org/wiki/Bergschrund',\n",
       " 'https://pl.wikipedia.org/wiki/Brama_lodowcowa',\n",
       " 'https://pl.wikipedia.org/wiki/Cielenie_si%C4%99_lodowca',\n",
       " 'https://pl.wikipedia.org/wiki/Czerwony_%C5%9Bnieg',\n",
       " 'https://pl.wikipedia.org/wiki/Cz%C4%99%C5%9Bciowa_pokrywa_lodowa',\n",
       " 'https://pl.wikipedia.org/wiki/Czo%C5%82o_lodowca',\n",
       " 'https://pl.wikipedia.org/wiki/Deglacjacja',\n",
       " 'https://pl.wikipedia.org/wiki/Detrakcja',\n",
       " 'https://pl.wikipedia.org/wiki/EPICA',\n",
       " 'https://pl.wikipedia.org/wiki/Erozja_lodowcowa',\n",
       " 'https://pl.wikipedia.org/wiki/Erozja_%C5%9Bnie%C5%BCna',\n",
       " 'https://pl.wikipedia.org/wiki/Jens_Esmark',\n",
       " 'https://pl.wikipedia.org/wiki/Firn',\n",
       " 'https://pl.wikipedia.org/wiki/Glacitektonika',\n",
       " 'https://pl.wikipedia.org/wiki/Glina_bazalna',\n",
       " 'https://pl.wikipedia.org/wiki/Glina_zwa%C5%82owa',\n",
       " 'https://pl.wikipedia.org/wiki/G%C3%B3ra_lodowa',\n",
       " 'https://pl.wikipedia.org/wiki/G%C3%B3ra_lodowa_B-15',\n",
       " 'https://pl.wikipedia.org/wiki/Growler',\n",
       " 'https://pl.wikipedia.org/wiki/Interstadia%C5%82',\n",
       " 'https://pl.wikipedia.org/wiki/Jezioro_podlodowcowe',\n",
       " 'https://pl.wikipedia.org/wiki/J%C4%99zor_lodowcowy',\n",
       " 'https://pl.wikipedia.org/wiki/J%C3%B6kulhlaup',\n",
       " 'https://pl.wikipedia.org/wiki/Kolorowe_g%C3%B3ry_lodowe',\n",
       " 'https://pl.wikipedia.org/wiki/Kopce_darniowe',\n",
       " 'https://pl.wikipedia.org/wiki/Aleksander_Kosiba',\n",
       " 'https://pl.wikipedia.org/wiki/Kra',\n",
       " 'https://pl.wikipedia.org/wiki/Kra_lodowcowa',\n",
       " 'https://pl.wikipedia.org/wiki/Krajobraz_peryglacjalny',\n",
       " 'https://pl.wikipedia.org/wiki/Kr%C4%85%C5%BCki_lodowe',\n",
       " 'https://pl.wikipedia.org/wiki/Kriokonity',\n",
       " 'https://pl.wikipedia.org/wiki/Kriosfera',\n",
       " 'https://pl.wikipedia.org/wiki/Kriosukcja',\n",
       " 'https://pl.wikipedia.org/wiki/Kurtyna_zero',\n",
       " 'https://pl.wikipedia.org/wiki/L%C4%85dol%C3%B3d',\n",
       " 'https://pl.wikipedia.org/wiki/Lepa',\n",
       " 'https://pl.wikipedia.org/wiki/Linia_r%C3%B3wnowagi_bilansowej',\n",
       " 'https://pl.wikipedia.org/wiki/Linia_wiecznego_%C5%9Bniegu',\n",
       " 'https://pl.wikipedia.org/wiki/Lob_l%C4%85dolodu',\n",
       " 'https://pl.wikipedia.org/wiki/Lodospad',\n",
       " 'https://pl.wikipedia.org/wiki/L%C3%B3d',\n",
       " 'https://pl.wikipedia.org/wiki/L%C3%B3d_brzegowy',\n",
       " 'https://pl.wikipedia.org/wiki/L%C3%B3d_denny',\n",
       " 'https://pl.wikipedia.org/wiki/L%C3%B3d_firnowy',\n",
       " 'https://pl.wikipedia.org/wiki/L%C3%B3d_gruntowy',\n",
       " 'https://pl.wikipedia.org/wiki/L%C3%B3d_lodowcowy',\n",
       " 'https://pl.wikipedia.org/wiki/L%C3%B3d_martwy',\n",
       " 'https://pl.wikipedia.org/wiki/L%C3%B3d_morski',\n",
       " 'https://pl.wikipedia.org/wiki/L%C3%B3d_w%C5%82%C3%B3knisty',\n",
       " 'https://pl.wikipedia.org/wiki/Ma%C5%82a_epoka_lodowa',\n",
       " 'https://pl.wikipedia.org/wiki/Manche_(rzeka)',\n",
       " 'https://pl.wikipedia.org/wiki/Marmit',\n",
       " 'https://pl.wikipedia.org/wiki/Materia%C5%82_morenowy',\n",
       " 'https://pl.wikipedia.org/wiki/Materia%C5%82_skalny',\n",
       " 'https://pl.wikipedia.org/wiki/Mleko_lodowcowe',\n",
       " 'https://pl.wikipedia.org/wiki/M%C5%82yn_lodowcowy',\n",
       " 'https://pl.wikipedia.org/wiki/Naled%C5%BA',\n",
       " 'https://pl.wikipedia.org/wiki/Nalodzie',\n",
       " 'https://pl.wikipedia.org/wiki/Nawis_%C5%9Bnie%C5%BCny',\n",
       " 'https://pl.wikipedia.org/wiki/Niebieski_l%C3%B3d_lodowcowy',\n",
       " 'https://pl.wikipedia.org/wiki/Nisza_niwalna',\n",
       " 'https://pl.wikipedia.org/wiki/Ogiwy',\n",
       " 'https://pl.wikipedia.org/wiki/Osady_fluwioglacjalne',\n",
       " 'https://pl.wikipedia.org/wiki/Osady_glacjalne',\n",
       " 'https://pl.wikipedia.org/wiki/Oscylacja_lodowca',\n",
       " 'https://pl.wikipedia.org/wiki/Pak_lodowy',\n",
       " 'https://pl.wikipedia.org/wiki/Penitent_(glacjologia)',\n",
       " 'https://pl.wikipedia.org/wiki/Piaski_sandrowe',\n",
       " 'https://pl.wikipedia.org/wiki/P%C5%82at_%C5%9Bnie%C5%BCny',\n",
       " 'https://pl.wikipedia.org/wiki/Polarna_czapa_lodowa',\n",
       " 'https://pl.wikipedia.org/wiki/Pole_firnowe',\n",
       " 'https://pl.wikipedia.org/wiki/Postglacja%C5%82',\n",
       " 'https://pl.wikipedia.org/wiki/Post%C3%B3j_lodowca',\n",
       " 'https://pl.wikipedia.org/wiki/Procesy_fluwioglacjalne',\n",
       " 'https://pl.wikipedia.org/wiki/Procesy_glacjalne',\n",
       " 'https://pl.wikipedia.org/wiki/Procesy_peryglacjalne',\n",
       " 'https://pl.wikipedia.org/wiki/Rdze%C5%84_lodowy',\n",
       " 'https://pl.wikipedia.org/wiki/Regelacja',\n",
       " 'https://pl.wikipedia.org/wiki/Regresja_lodowca',\n",
       " 'https://pl.wikipedia.org/wiki/Relikt_glacjalny',\n",
       " 'https://pl.wikipedia.org/wiki/Rzeka_lodowcowa',\n",
       " 'https://pl.wikipedia.org/wiki/Rze%C5%BAba_glacifluwialna',\n",
       " 'https://pl.wikipedia.org/wiki/Rze%C5%BAba_glacjalna',\n",
       " 'https://pl.wikipedia.org/wiki/Rze%C5%BAba_krasowa',\n",
       " 'https://pl.wikipedia.org/wiki/Rze%C5%BAba_m%C5%82odoglacjalna',\n",
       " 'https://pl.wikipedia.org/wiki/Rze%C5%BAba_staroglacjalna',\n",
       " 'https://pl.wikipedia.org/wiki/Stadia%C5%82',\n",
       " 'https://pl.wikipedia.org/wiki/Stopa_lodowca',\n",
       " 'https://pl.wikipedia.org/wiki/Strefa_peryglacjalna',\n",
       " 'https://pl.wikipedia.org/wiki/Strumie%C5%84_lodowy',\n",
       " 'https://pl.wikipedia.org/wiki/Szczelina_brze%C5%BCna',\n",
       " 'https://pl.wikipedia.org/wiki/Szczelina_lodowcowa',\n",
       " 'https://pl.wikipedia.org/wiki/%C5%9Anie%C5%BCnik_(glacjologia)',\n",
       " 'https://pl.wikipedia.org/wiki/%C5%9Ary%C5%BC',\n",
       " 'https://pl.wikipedia.org/wiki/Termoerozja',\n",
       " 'https://pl.wikipedia.org/wiki/Transfluencja_lodowca',\n",
       " 'https://pl.wikipedia.org/wiki/Transgresja_lodowca',\n",
       " 'https://pl.wikipedia.org/wiki/Warstwa_czynna_wieloletniej_zmarzliny',\n",
       " 'https://pl.wikipedia.org/wiki/Wieczna_zmarzlina',\n",
       " 'https://pl.wikipedia.org/wiki/Wody_fluwioglacjalne',\n",
       " 'https://pl.wikipedia.org/wiki/Wody_inglacjalne',\n",
       " 'https://pl.wikipedia.org/wiki/Wysoczyzna_morenowa']"
      ]
     },
     "execution_count": 26,
     "metadata": {},
     "output_type": "execute_result"
    }
   ],
   "source": [
    "links_with_connect_error(url)"
   ]
  },
  {
   "cell_type": "code",
   "execution_count": 17,
   "metadata": {},
   "outputs": [],
   "source": [
    "from urllib.request import urlopen"
   ]
  },
  {
   "cell_type": "code",
   "execution_count": 23,
   "metadata": {},
   "outputs": [],
   "source": []
  },
  {
   "cell_type": "code",
   "execution_count": 4,
   "metadata": {},
   "outputs": [],
   "source": [
    "url = \"https://pl.wikipedia.org/wiki/Kategoria:Glacjologia\""
   ]
  },
  {
   "cell_type": "code",
   "execution_count": 5,
   "metadata": {},
   "outputs": [],
   "source": [
    "import requests\n",
    "import urllib.request\n",
    "import time\n",
    "from bs4 import BeautifulSoup\n",
    "from urllib.request import urlopen\n",
    "from urllib.parse import urljoin"
   ]
  },
  {
   "cell_type": "code",
   "execution_count": 6,
   "metadata": {},
   "outputs": [],
   "source": [
    "html = urlopen(url)"
   ]
  },
  {
   "cell_type": "code",
   "execution_count": 7,
   "metadata": {},
   "outputs": [
    {
     "data": {
      "text/plain": [
       "<http.client.HTTPResponse at 0x7f3cc0a0ad60>"
      ]
     },
     "execution_count": 7,
     "metadata": {},
     "output_type": "execute_result"
    }
   ],
   "source": [
    "html"
   ]
  },
  {
   "cell_type": "code",
   "execution_count": 8,
   "metadata": {},
   "outputs": [],
   "source": [
    "soup = BeautifulSoup(html, 'html.parser')\n",
    "\n",
    "target_divs = soup.find_all(\"div\", class_=\"mw-content-ltr\")\n",
    "\n",
    "# target_div = soup.find(\"div\", id=\"mw-content-ltr\")"
   ]
  },
  {
   "cell_type": "code",
   "execution_count": 9,
   "metadata": {},
   "outputs": [
    {
     "ename": "NameError",
     "evalue": "name 'target_div' is not defined",
     "output_type": "error",
     "traceback": [
      "\u001b[0;31m---------------------------------------------------------------------------\u001b[0m",
      "\u001b[0;31mNameError\u001b[0m                                 Traceback (most recent call last)",
      "\u001b[0;32m<ipython-input-9-1ca953b4e783>\u001b[0m in \u001b[0;36m<module>\u001b[0;34m\u001b[0m\n\u001b[0;32m----> 1\u001b[0;31m \u001b[0;32mfor\u001b[0m \u001b[0md\u001b[0m \u001b[0;32min\u001b[0m \u001b[0mtarget_div\u001b[0m\u001b[0;34m:\u001b[0m\u001b[0;34m\u001b[0m\u001b[0;34m\u001b[0m\u001b[0m\n\u001b[0m\u001b[1;32m      2\u001b[0m     \u001b[0mlinks\u001b[0m \u001b[0;34m=\u001b[0m \u001b[0md\u001b[0m\u001b[0;34m.\u001b[0m\u001b[0mfind_all\u001b[0m\u001b[0;34m(\u001b[0m\u001b[0;34m'a'\u001b[0m\u001b[0;34m)\u001b[0m\u001b[0;34m\u001b[0m\u001b[0;34m\u001b[0m\u001b[0m\n\u001b[1;32m      3\u001b[0m \u001b[0;34m\u001b[0m\u001b[0m\n\u001b[1;32m      4\u001b[0m     \u001b[0mlist_links\u001b[0m \u001b[0;34m=\u001b[0m \u001b[0;34m[\u001b[0m\u001b[0;34m]\u001b[0m\u001b[0;34m\u001b[0m\u001b[0;34m\u001b[0m\u001b[0m\n\u001b[1;32m      5\u001b[0m \u001b[0;34m\u001b[0m\u001b[0m\n",
      "\u001b[0;31mNameError\u001b[0m: name 'target_div' is not defined"
     ]
    }
   ],
   "source": [
    "for d in target_div:\n",
    "    links = d.find_all('a')\n",
    "    \n",
    "    list_links = []\n",
    "    \n",
    "    for a in links:\n",
    "        link_relative = a.get(\"href\")\n",
    "        link_absolute = urljoin(url, link_relative)\n",
    "        list_links.append(link_absolute)"
   ]
  },
  {
   "cell_type": "code",
   "execution_count": 25,
   "metadata": {},
   "outputs": [
    {
     "data": {
      "text/plain": [
       "['https://pl.wikipedia.org/wiki/Glacjologia',\n",
       " 'https://pl.wikipedia.org/wiki/Ablacja_(topnienie)',\n",
       " 'https://pl.wikipedia.org/wiki/Ablacja_lodowcowa',\n",
       " 'https://pl.wikipedia.org/wiki/Bergschrund',\n",
       " 'https://pl.wikipedia.org/wiki/Brama_lodowcowa',\n",
       " 'https://pl.wikipedia.org/wiki/Cielenie_si%C4%99_lodowca',\n",
       " 'https://pl.wikipedia.org/wiki/Czerwony_%C5%9Bnieg',\n",
       " 'https://pl.wikipedia.org/wiki/Cz%C4%99%C5%9Bciowa_pokrywa_lodowa',\n",
       " 'https://pl.wikipedia.org/wiki/Czo%C5%82o_lodowca',\n",
       " 'https://pl.wikipedia.org/wiki/Deglacjacja',\n",
       " 'https://pl.wikipedia.org/wiki/Detrakcja',\n",
       " 'https://pl.wikipedia.org/wiki/EPICA',\n",
       " 'https://pl.wikipedia.org/wiki/Erozja_lodowcowa',\n",
       " 'https://pl.wikipedia.org/wiki/Erozja_%C5%9Bnie%C5%BCna',\n",
       " 'https://pl.wikipedia.org/wiki/Jens_Esmark',\n",
       " 'https://pl.wikipedia.org/wiki/Firn',\n",
       " 'https://pl.wikipedia.org/wiki/Glacitektonika',\n",
       " 'https://pl.wikipedia.org/wiki/Glina_bazalna',\n",
       " 'https://pl.wikipedia.org/wiki/Glina_zwa%C5%82owa',\n",
       " 'https://pl.wikipedia.org/wiki/G%C3%B3ra_lodowa',\n",
       " 'https://pl.wikipedia.org/wiki/G%C3%B3ra_lodowa_B-15',\n",
       " 'https://pl.wikipedia.org/wiki/Growler',\n",
       " 'https://pl.wikipedia.org/wiki/Interstadia%C5%82',\n",
       " 'https://pl.wikipedia.org/wiki/Jezioro_podlodowcowe',\n",
       " 'https://pl.wikipedia.org/wiki/J%C4%99zor_lodowcowy',\n",
       " 'https://pl.wikipedia.org/wiki/J%C3%B6kulhlaup',\n",
       " 'https://pl.wikipedia.org/wiki/Kolorowe_g%C3%B3ry_lodowe',\n",
       " 'https://pl.wikipedia.org/wiki/Kopce_darniowe',\n",
       " 'https://pl.wikipedia.org/wiki/Aleksander_Kosiba',\n",
       " 'https://pl.wikipedia.org/wiki/Kra',\n",
       " 'https://pl.wikipedia.org/wiki/Kra_lodowcowa',\n",
       " 'https://pl.wikipedia.org/wiki/Krajobraz_peryglacjalny',\n",
       " 'https://pl.wikipedia.org/wiki/Kr%C4%85%C5%BCki_lodowe',\n",
       " 'https://pl.wikipedia.org/wiki/Kriokonity',\n",
       " 'https://pl.wikipedia.org/wiki/Kriosfera',\n",
       " 'https://pl.wikipedia.org/wiki/Kriosukcja',\n",
       " 'https://pl.wikipedia.org/wiki/Kurtyna_zero',\n",
       " 'https://pl.wikipedia.org/wiki/L%C4%85dol%C3%B3d',\n",
       " 'https://pl.wikipedia.org/wiki/Lepa',\n",
       " 'https://pl.wikipedia.org/wiki/Linia_r%C3%B3wnowagi_bilansowej',\n",
       " 'https://pl.wikipedia.org/wiki/Linia_wiecznego_%C5%9Bniegu',\n",
       " 'https://pl.wikipedia.org/wiki/Lob_l%C4%85dolodu',\n",
       " 'https://pl.wikipedia.org/wiki/Lodospad',\n",
       " 'https://pl.wikipedia.org/wiki/L%C3%B3d',\n",
       " 'https://pl.wikipedia.org/wiki/L%C3%B3d_brzegowy',\n",
       " 'https://pl.wikipedia.org/wiki/L%C3%B3d_denny',\n",
       " 'https://pl.wikipedia.org/wiki/L%C3%B3d_firnowy',\n",
       " 'https://pl.wikipedia.org/wiki/L%C3%B3d_gruntowy',\n",
       " 'https://pl.wikipedia.org/wiki/L%C3%B3d_lodowcowy',\n",
       " 'https://pl.wikipedia.org/wiki/L%C3%B3d_martwy',\n",
       " 'https://pl.wikipedia.org/wiki/L%C3%B3d_morski',\n",
       " 'https://pl.wikipedia.org/wiki/L%C3%B3d_w%C5%82%C3%B3knisty',\n",
       " 'https://pl.wikipedia.org/wiki/Ma%C5%82a_epoka_lodowa',\n",
       " 'https://pl.wikipedia.org/wiki/Manche_(rzeka)',\n",
       " 'https://pl.wikipedia.org/wiki/Marmit',\n",
       " 'https://pl.wikipedia.org/wiki/Materia%C5%82_morenowy',\n",
       " 'https://pl.wikipedia.org/wiki/Materia%C5%82_skalny',\n",
       " 'https://pl.wikipedia.org/wiki/Mleko_lodowcowe',\n",
       " 'https://pl.wikipedia.org/wiki/M%C5%82yn_lodowcowy',\n",
       " 'https://pl.wikipedia.org/wiki/Naled%C5%BA',\n",
       " 'https://pl.wikipedia.org/wiki/Nalodzie',\n",
       " 'https://pl.wikipedia.org/wiki/Nawis_%C5%9Bnie%C5%BCny',\n",
       " 'https://pl.wikipedia.org/wiki/Niebieski_l%C3%B3d_lodowcowy',\n",
       " 'https://pl.wikipedia.org/wiki/Nisza_niwalna',\n",
       " 'https://pl.wikipedia.org/wiki/Ogiwy',\n",
       " 'https://pl.wikipedia.org/wiki/Osady_fluwioglacjalne',\n",
       " 'https://pl.wikipedia.org/wiki/Osady_glacjalne',\n",
       " 'https://pl.wikipedia.org/wiki/Oscylacja_lodowca',\n",
       " 'https://pl.wikipedia.org/wiki/Pak_lodowy',\n",
       " 'https://pl.wikipedia.org/wiki/Penitent_(glacjologia)',\n",
       " 'https://pl.wikipedia.org/wiki/Piaski_sandrowe',\n",
       " 'https://pl.wikipedia.org/wiki/P%C5%82at_%C5%9Bnie%C5%BCny',\n",
       " 'https://pl.wikipedia.org/wiki/Polarna_czapa_lodowa',\n",
       " 'https://pl.wikipedia.org/wiki/Pole_firnowe',\n",
       " 'https://pl.wikipedia.org/wiki/Postglacja%C5%82',\n",
       " 'https://pl.wikipedia.org/wiki/Post%C3%B3j_lodowca',\n",
       " 'https://pl.wikipedia.org/wiki/Procesy_fluwioglacjalne',\n",
       " 'https://pl.wikipedia.org/wiki/Procesy_glacjalne',\n",
       " 'https://pl.wikipedia.org/wiki/Procesy_peryglacjalne',\n",
       " 'https://pl.wikipedia.org/wiki/Rdze%C5%84_lodowy',\n",
       " 'https://pl.wikipedia.org/wiki/Regelacja',\n",
       " 'https://pl.wikipedia.org/wiki/Regresja_lodowca',\n",
       " 'https://pl.wikipedia.org/wiki/Relikt_glacjalny',\n",
       " 'https://pl.wikipedia.org/wiki/Rzeka_lodowcowa',\n",
       " 'https://pl.wikipedia.org/wiki/Rze%C5%BAba_glacifluwialna',\n",
       " 'https://pl.wikipedia.org/wiki/Rze%C5%BAba_glacjalna',\n",
       " 'https://pl.wikipedia.org/wiki/Rze%C5%BAba_krasowa',\n",
       " 'https://pl.wikipedia.org/wiki/Rze%C5%BAba_m%C5%82odoglacjalna',\n",
       " 'https://pl.wikipedia.org/wiki/Rze%C5%BAba_staroglacjalna',\n",
       " 'https://pl.wikipedia.org/wiki/Stadia%C5%82',\n",
       " 'https://pl.wikipedia.org/wiki/Stopa_lodowca',\n",
       " 'https://pl.wikipedia.org/wiki/Strefa_peryglacjalna',\n",
       " 'https://pl.wikipedia.org/wiki/Strumie%C5%84_lodowy',\n",
       " 'https://pl.wikipedia.org/wiki/Szczelina_brze%C5%BCna',\n",
       " 'https://pl.wikipedia.org/wiki/Szczelina_lodowcowa',\n",
       " 'https://pl.wikipedia.org/wiki/%C5%9Anie%C5%BCnik_(glacjologia)',\n",
       " 'https://pl.wikipedia.org/wiki/%C5%9Ary%C5%BC',\n",
       " 'https://pl.wikipedia.org/wiki/Termoerozja',\n",
       " 'https://pl.wikipedia.org/wiki/Transfluencja_lodowca',\n",
       " 'https://pl.wikipedia.org/wiki/Transgresja_lodowca',\n",
       " 'https://pl.wikipedia.org/wiki/Warstwa_czynna_wieloletniej_zmarzliny',\n",
       " 'https://pl.wikipedia.org/wiki/Wieczna_zmarzlina',\n",
       " 'https://pl.wikipedia.org/wiki/Wody_fluwioglacjalne',\n",
       " 'https://pl.wikipedia.org/wiki/Wody_inglacjalne',\n",
       " 'https://pl.wikipedia.org/wiki/Wysoczyzna_morenowa']"
      ]
     },
     "execution_count": 25,
     "metadata": {},
     "output_type": "execute_result"
    }
   ],
   "source": [
    "list_links\n",
    "\n",
    "\n",
    "\n"
   ]
  },
  {
   "cell_type": "code",
   "execution_count": 28,
   "metadata": {},
   "outputs": [
    {
     "data": {
      "text/plain": []
     },
     "execution_count": 28,
     "metadata": {},
     "output_type": "execute_result"
    }
   ],
   "source": [
    "soup"
   ]
  },
  {
   "cell_type": "code",
   "execution_count": null,
   "metadata": {},
   "outputs": [],
   "source": [
    "target_div"
   ]
  },
  {
   "cell_type": "code",
   "execution_count": null,
   "metadata": {},
   "outputs": [],
   "source": []
  },
  {
   "cell_type": "code",
   "execution_count": 8,
   "metadata": {},
   "outputs": [
    {
     "ename": "AttributeError",
     "evalue": "'NoneType' object has no attribute 'find_all'",
     "output_type": "error",
     "traceback": [
      "\u001b[0;31m---------------------------------------------------------------------------\u001b[0m",
      "\u001b[0;31mAttributeError\u001b[0m                            Traceback (most recent call last)",
      "\u001b[0;32m<ipython-input-8-cc1d54270bb9>\u001b[0m in \u001b[0;36m<module>\u001b[0;34m\u001b[0m\n\u001b[0;32m----> 1\u001b[0;31m \u001b[0mlinks\u001b[0m \u001b[0;34m=\u001b[0m \u001b[0mtarget_div\u001b[0m\u001b[0;34m.\u001b[0m\u001b[0mfind_all\u001b[0m\u001b[0;34m(\u001b[0m\u001b[0;34m'a'\u001b[0m\u001b[0;34m)\u001b[0m\u001b[0;34m\u001b[0m\u001b[0;34m\u001b[0m\u001b[0m\n\u001b[0m\u001b[1;32m      2\u001b[0m \u001b[0;34m\u001b[0m\u001b[0m\n\u001b[1;32m      3\u001b[0m \u001b[0mlist_links\u001b[0m \u001b[0;34m=\u001b[0m \u001b[0;34m[\u001b[0m\u001b[0;34m]\u001b[0m\u001b[0;34m\u001b[0m\u001b[0;34m\u001b[0m\u001b[0m\n\u001b[1;32m      4\u001b[0m \u001b[0;34m\u001b[0m\u001b[0m\n\u001b[1;32m      5\u001b[0m \u001b[0;32mfor\u001b[0m \u001b[0ma\u001b[0m \u001b[0;32min\u001b[0m \u001b[0mlinks\u001b[0m\u001b[0;34m:\u001b[0m\u001b[0;34m\u001b[0m\u001b[0;34m\u001b[0m\u001b[0m\n",
      "\u001b[0;31mAttributeError\u001b[0m: 'NoneType' object has no attribute 'find_all'"
     ]
    }
   ],
   "source": [
    "links = target_div.find_all('a')\n",
    "\n",
    "list_links = []\n",
    "\n",
    "for a in links:\n",
    "    link_relative = a.get(\"href\")\n",
    "    link_absolute = urljoin(url, link_relative)\n",
    "    list_links.append(link_absolute)"
   ]
  },
  {
   "cell_type": "code",
   "execution_count": null,
   "metadata": {},
   "outputs": [],
   "source": []
  }
 ],
 "metadata": {
  "kernelspec": {
   "display_name": "Python 3",
   "language": "python",
   "name": "python3"
  },
  "language_info": {
   "codemirror_mode": {
    "name": "ipython",
    "version": 3
   },
   "file_extension": ".py",
   "mimetype": "text/x-python",
   "name": "python",
   "nbconvert_exporter": "python",
   "pygments_lexer": "ipython3",
   "version": "3.8.1"
  }
 },
 "nbformat": 4,
 "nbformat_minor": 4
}
