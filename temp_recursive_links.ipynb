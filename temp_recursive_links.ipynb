{
 "cells": [
  {
   "cell_type": "code",
   "execution_count": 1,
   "metadata": {},
   "outputs": [],
   "source": [
    "import class_link_extractor"
   ]
  },
  {
   "cell_type": "code",
   "execution_count": 2,
   "metadata": {},
   "outputs": [],
   "source": [
    "url = \"https://pl.wikipedia.org/wiki/Kategoria:Fiordy\""
   ]
  },
  {
   "cell_type": "code",
   "execution_count": 3,
   "metadata": {},
   "outputs": [],
   "source": [
    "# class_link_extractor.return_links_category(url)"
   ]
  },
  {
   "cell_type": "code",
   "execution_count": null,
   "metadata": {},
   "outputs": [],
   "source": []
  },
  {
   "cell_type": "code",
   "execution_count": 6,
   "metadata": {},
   "outputs": [],
   "source": [
    "def return_links_category(links_category=[], links_record=[], category_visited=[]):\n",
    "    \n",
    "#     print(\"starting links category\")\n",
    "#     print(links_category)\n",
    "    \n",
    "    links_category = links_category\n",
    "    links_record = links_record\n",
    "    category_visited = category_visited\n",
    "\n",
    "    while links_category != []:\n",
    "        for l in links_category:\n",
    "            #links_with_connect_error\n",
    "            #return_links_within_div\n",
    "            links = class_link_extractor.links_with_connect_error(l)\n",
    "            print(\"Links: \", len(links))\n",
    "#             print(links)\n",
    "#             print(\"removing \" + l)\n",
    "            links_category.remove(l)\n",
    "            category_visited.append(l)\n",
    "    \n",
    "#     return links_record\n",
    "            count_records = 0\n",
    "            count_categories = 0\n",
    "            for link in links:\n",
    "#                 print(link)\n",
    "                type_p = class_link_extractor.type_page(link)\n",
    "                if type_p == \"category\":\n",
    "                    \n",
    "                    \n",
    "                    if (link not in category_visited) and (link not in links_category):\n",
    "                        print(\"adding category \" + link)\n",
    "                        links_category.append(link)\n",
    "                        count_categories += 1\n",
    "#                     print(link)\n",
    "\n",
    "                elif type_p == \"record\":\n",
    "\n",
    "                    if link not in links_record:\n",
    "\n",
    "                        links_record.append(link)\n",
    "                        count_records += 1\n",
    "#                         print(\"adding record \" + link)\n",
    "#                     print(link)\n",
    "                    else:\n",
    "                        print(\"duplicate: \", link)\n",
    "\n",
    "                else:\n",
    "                    print(\"unknown type of page\")\n",
    "#                     print(type_p)\n",
    "            print(\"categories added: \", count_categories)\n",
    "            print(\"records added: \", count_records)\n",
    "#         print(\"passing links record\")\n",
    "#         print(links_record)\n",
    "        \n",
    "#         print(\"passing links category\")\n",
    "#         print(links_category)\n",
    "        return_links_category(links_category, links_record, category_visited)\n",
    "\n",
    "    return links_record"
   ]
  },
  {
   "cell_type": "code",
   "execution_count": 7,
   "metadata": {},
   "outputs": [
    {
     "name": "stdout",
     "output_type": "stream",
     "text": [
      "can't connect\n",
      "Links:  13\n",
      "unknown type of page\n",
      "unknown type of page\n",
      "adding category https://pl.wikipedia.org/wiki/Kategoria:Fiordy_Grenlandii\n",
      "adding category https://pl.wikipedia.org/wiki/Kategoria:Fiordy_Islandii\n",
      "adding category https://pl.wikipedia.org/wiki/Kategoria:Fiordy_Norwegii\n",
      "adding category https://pl.wikipedia.org/wiki/Kategoria:Fiordy_Wysp_Owczych\n",
      "duplicate:  https://pl.wikipedia.org/wiki/Fiord\n",
      "categories added:  4\n",
      "records added:  6\n",
      "can't connect\n",
      "Links:  33\n",
      "categories added:  0\n",
      "records added:  33\n",
      "Links:  2\n",
      "categories added:  0\n",
      "records added:  2\n",
      "Links:  6\n",
      "unknown type of page\n",
      "unknown type of page\n",
      "categories added:  0\n",
      "records added:  4\n",
      "Links:  19\n",
      "unknown type of page\n",
      "unknown type of page\n",
      "adding category https://pl.wikipedia.org/wiki/Kategoria:Fiordy_Svalbardu\n",
      "categories added:  1\n",
      "records added:  16\n",
      "Links:  4\n",
      "categories added:  0\n",
      "records added:  4\n"
     ]
    }
   ],
   "source": [
    "links__ = return_links_category([url])"
   ]
  },
  {
   "cell_type": "code",
   "execution_count": 10,
   "metadata": {},
   "outputs": [],
   "source": [
    "j = None"
   ]
  },
  {
   "cell_type": "code",
   "execution_count": 11,
   "metadata": {},
   "outputs": [
    {
     "name": "stdout",
     "output_type": "stream",
     "text": [
      "dupa\n"
     ]
    }
   ],
   "source": [
    "if j == None:\n",
    "    print(\"dupa\")"
   ]
  },
  {
   "cell_type": "code",
   "execution_count": 12,
   "metadata": {},
   "outputs": [
    {
     "name": "stdout",
     "output_type": "stream",
     "text": [
      "dupa\n"
     ]
    }
   ],
   "source": [
    "if j is None:\n",
    "    print(\"dupa\")"
   ]
  },
  {
   "cell_type": "code",
   "execution_count": 8,
   "metadata": {},
   "outputs": [
    {
     "data": {
      "text/plain": [
       "['https://pl.wikipedia.org/wiki/Fiord',\n",
       " 'https://pl.wikipedia.org/wiki/Burrard',\n",
       " 'https://pl.wikipedia.org/wiki/Carlingford_Lough',\n",
       " 'https://pl.wikipedia.org/wiki/Ezcurra_Inlet',\n",
       " 'https://pl.wikipedia.org/wiki/Roskilde_Fjord',\n",
       " 'https://pl.wikipedia.org/wiki/Zapadnaja_Lica',\n",
       " 'https://pl.wikipedia.org/wiki/Lista_fiord%C3%B3w_Islandii',\n",
       " 'https://pl.wikipedia.org/wiki/%C3%81lftafj%C3%B6r%C3%B0ur_(Vestfir%C3%B0ir)',\n",
       " 'https://pl.wikipedia.org/wiki/Arnarfj%C3%B6r%C3%B0ur',\n",
       " 'https://pl.wikipedia.org/wiki/Austfir%C3%B0ir',\n",
       " 'https://pl.wikipedia.org/wiki/Berufj%C3%B6r%C3%B0ur_(Austfir%C3%B0ir)',\n",
       " 'https://pl.wikipedia.org/wiki/Bitrufj%C3%B6r%C3%B0ur',\n",
       " 'https://pl.wikipedia.org/wiki/Bjarnarfj%C3%B6r%C3%B0ur',\n",
       " 'https://pl.wikipedia.org/wiki/Borgarfj%C3%B6r%C3%B0ur',\n",
       " 'https://pl.wikipedia.org/wiki/Borgarfj%C3%B6r%C3%B0ur_eystri_(zatoka)',\n",
       " 'https://pl.wikipedia.org/wiki/Brei%C3%B0afj%C3%B6r%C3%B0ur',\n",
       " 'https://pl.wikipedia.org/wiki/Eyjafj%C3%B6r%C3%B0ur',\n",
       " 'https://pl.wikipedia.org/wiki/Gilsfj%C3%B6r%C3%B0ur',\n",
       " 'https://pl.wikipedia.org/wiki/Hestfj%C3%B6r%C3%B0ur',\n",
       " 'https://pl.wikipedia.org/wiki/Hr%C3%BAtafj%C3%B6r%C3%B0ur',\n",
       " 'https://pl.wikipedia.org/wiki/H%C3%BAnafj%C3%B6r%C3%B0ur',\n",
       " 'https://pl.wikipedia.org/wiki/Hvalfj%C3%B6r%C3%B0ur',\n",
       " 'https://pl.wikipedia.org/wiki/Hvammsfj%C3%B6r%C3%B0ur',\n",
       " 'https://pl.wikipedia.org/wiki/%C3%8Dsafjar%C3%B0ardj%C3%BAp',\n",
       " 'https://pl.wikipedia.org/wiki/%C3%8Dsafj%C3%B6r%C3%B0ur_(fiord)',\n",
       " 'https://pl.wikipedia.org/wiki/Kollafj%C3%B6r%C3%B0ur_(Brei%C3%B0afj%C3%B6r%C3%B0ur)',\n",
       " 'https://pl.wikipedia.org/wiki/Kollafj%C3%B6r%C3%B0ur_(Faxafl%C3%B3i)',\n",
       " 'https://pl.wikipedia.org/wiki/Kollafj%C3%B6r%C3%B0ur_(H%C3%BAnafl%C3%B3i)',\n",
       " 'https://pl.wikipedia.org/wiki/Mi%C3%B0fj%C3%B6r%C3%B0ur_(H%C3%BAnafl%C3%B3i)',\n",
       " 'https://pl.wikipedia.org/wiki/Mj%C3%B3ifj%C3%B6r%C3%B0ur_(%C3%8Dsafjar%C3%B0ardj%C3%BAp)',\n",
       " 'https://pl.wikipedia.org/wiki/%C3%96xarfj%C3%B6r%C3%B0ur',\n",
       " 'https://pl.wikipedia.org/wiki/Sey%C3%B0isfj%C3%B6r%C3%B0ur_(Austfir%C3%B0ir)',\n",
       " 'https://pl.wikipedia.org/wiki/Sey%C3%B0isfj%C3%B6r%C3%B0ur_(Vestfir%C3%B0ir)',\n",
       " 'https://pl.wikipedia.org/wiki/Skagafj%C3%B6r%C3%B0ur_(fiord)',\n",
       " 'https://pl.wikipedia.org/wiki/Sk%C3%B6tufj%C3%B6r%C3%B0ur',\n",
       " 'https://pl.wikipedia.org/wiki/Skutulsfj%C3%B6r%C3%B0ur',\n",
       " 'https://pl.wikipedia.org/wiki/Steingr%C3%ADmsfj%C3%B6r%C3%B0ur',\n",
       " 'https://pl.wikipedia.org/wiki/T%C3%A1lknafj%C3%B6r%C3%B0ur_(fiord)',\n",
       " 'https://pl.wikipedia.org/wiki/Vopnafj%C3%B6r%C3%B0ur_(fiord)',\n",
       " 'https://pl.wikipedia.org/wiki/Funningsfj%C3%B8r%C3%B0ur_(fiord)',\n",
       " 'https://pl.wikipedia.org/wiki/Sk%C3%A1lafj%C3%B8r%C3%B0ur',\n",
       " 'https://pl.wikipedia.org/wiki/Ilulissat_(fiord)',\n",
       " 'https://pl.wikipedia.org/wiki/Independence_Fjord',\n",
       " 'https://pl.wikipedia.org/wiki/Kangertittivaq',\n",
       " 'https://pl.wikipedia.org/wiki/Uummannaq_Fjord',\n",
       " 'https://pl.wikipedia.org/wiki/Altafjorden',\n",
       " 'https://pl.wikipedia.org/wiki/Bunnefjorden',\n",
       " 'https://pl.wikipedia.org/wiki/Geirangerfjorden',\n",
       " 'https://pl.wikipedia.org/wiki/Iddefjorden',\n",
       " 'https://pl.wikipedia.org/wiki/K%C3%A5fjorden',\n",
       " 'https://pl.wikipedia.org/wiki/Kurefjorden',\n",
       " 'https://pl.wikipedia.org/wiki/Lyngen_(fiord)',\n",
       " 'https://pl.wikipedia.org/wiki/Lysefjorden',\n",
       " 'https://pl.wikipedia.org/wiki/N%C3%A6r%C3%B8yfjorden',\n",
       " 'https://pl.wikipedia.org/wiki/Oslofjorden',\n",
       " 'https://pl.wikipedia.org/wiki/Porsangerfjorden',\n",
       " 'https://pl.wikipedia.org/wiki/Ringdalsfjorden',\n",
       " 'https://pl.wikipedia.org/wiki/Sognefjorden',\n",
       " 'https://pl.wikipedia.org/wiki/Tanafjorden',\n",
       " 'https://pl.wikipedia.org/wiki/Trondheimsfjorden',\n",
       " 'https://pl.wikipedia.org/wiki/Varangerfjorden',\n",
       " 'https://pl.wikipedia.org/wiki/Hornsund_(fiord)',\n",
       " 'https://pl.wikipedia.org/wiki/Isfjorden_(Svalbard)',\n",
       " 'https://pl.wikipedia.org/wiki/Recherchefjorden',\n",
       " 'https://pl.wikipedia.org/wiki/Wijdefjorden']"
      ]
     },
     "execution_count": 8,
     "metadata": {},
     "output_type": "execute_result"
    }
   ],
   "source": [
    "links__"
   ]
  },
  {
   "cell_type": "code",
   "execution_count": 9,
   "metadata": {},
   "outputs": [
    {
     "data": {
      "text/plain": [
       "65"
      ]
     },
     "execution_count": 9,
     "metadata": {},
     "output_type": "execute_result"
    }
   ],
   "source": [
    "len(links__)"
   ]
  },
  {
   "cell_type": "code",
   "execution_count": 39,
   "metadata": {},
   "outputs": [],
   "source": [
    "from bs4 import BeautifulSoup\n",
    "from urllib.request import urlopen\n",
    "from urllib.parse import urljoin"
   ]
  },
  {
   "cell_type": "code",
   "execution_count": 38,
   "metadata": {},
   "outputs": [],
   "source": [
    "def return_links_within_div(url):\n",
    "    html = urlopen(url)\n",
    "    soup = BeautifulSoup(html, 'html.parser')\n",
    "\n",
    "    target_divs = soup.find_all(\"div\", class_=\"mw-co____ntent-ltr\", id=\"mw-content-text\")\n",
    "    list_links = []\n",
    "\n",
    "    for d in target_divs:\n",
    "        links = d.find_all('a')\n",
    "\n",
    "\n",
    "\n",
    "        for a in links:\n",
    "            link_relative = a.get(\"href\")\n",
    "            link_absolute = urljoin(url, link_relative)\n",
    "            list_links.append(link_absolute)\n",
    "    return list_links, soup"
   ]
  },
  {
   "cell_type": "code",
   "execution_count": null,
   "metadata": {},
   "outputs": [],
   "source": [
    "<div id=\"mw-content-text\" dir=\"ltr\" class=\"mw-content-ltr\" lang=\"pl\">"
   ]
  },
  {
   "cell_type": "code",
   "execution_count": 19,
   "metadata": {},
   "outputs": [],
   "source": [
    "links1, soup = return_links_within_div(url)"
   ]
  },
  {
   "cell_type": "code",
   "execution_count": 24,
   "metadata": {},
   "outputs": [
    {
     "data": {
      "text/plain": [
       "[]"
      ]
     },
     "execution_count": 24,
     "metadata": {},
     "output_type": "execute_result"
    }
   ],
   "source": [
    "links1"
   ]
  },
  {
   "cell_type": "code",
   "execution_count": 26,
   "metadata": {},
   "outputs": [
    {
     "name": "stdout",
     "output_type": "stream",
     "text": [
      "dupa\n"
     ]
    }
   ],
   "source": [
    "if links1 == []:\n",
    "    print(\"dupa\")"
   ]
  },
  {
   "cell_type": "code",
   "execution_count": 32,
   "metadata": {},
   "outputs": [
    {
     "data": {
      "text/plain": [
       "bs4.BeautifulSoup"
      ]
     },
     "execution_count": 32,
     "metadata": {},
     "output_type": "execute_result"
    }
   ],
   "source": [
    "type(soup)"
   ]
  },
  {
   "cell_type": "code",
   "execution_count": 41,
   "metadata": {},
   "outputs": [],
   "source": [
    "if isinstance(soup, BeautifulSoup):\n",
    "    print(\"dupa\")"
   ]
  },
  {
   "cell_type": "code",
   "execution_count": 35,
   "metadata": {},
   "outputs": [],
   "source": [
    "if str(type(soup)) == \"bs4.BeautifulSoup\":\n",
    "    print(\"dupa\")"
   ]
  },
  {
   "cell_type": "code",
   "execution_count": 36,
   "metadata": {},
   "outputs": [
    {
     "data": {
      "text/plain": [
       "\"<class 'bs4.BeautifulSoup'>\""
      ]
     },
     "execution_count": 36,
     "metadata": {},
     "output_type": "execute_result"
    }
   ],
   "source": [
    "str(type(soup))"
   ]
  },
  {
   "cell_type": "code",
   "execution_count": 28,
   "metadata": {},
   "outputs": [
    {
     "ename": "NameError",
     "evalue": "name 'bs4' is not defined",
     "output_type": "error",
     "traceback": [
      "\u001b[0;31m---------------------------------------------------------------------------\u001b[0m",
      "\u001b[0;31mNameError\u001b[0m                                 Traceback (most recent call last)",
      "\u001b[0;32m<ipython-input-28-19a70b30db61>\u001b[0m in \u001b[0;36m<module>\u001b[0;34m\u001b[0m\n\u001b[0;32m----> 1\u001b[0;31m \u001b[0;32mif\u001b[0m \u001b[0msoup\u001b[0m \u001b[0;32mis\u001b[0m \u001b[0mbs4\u001b[0m\u001b[0;34m.\u001b[0m\u001b[0mBeautifulSoup\u001b[0m\u001b[0;34m:\u001b[0m\u001b[0;34m\u001b[0m\u001b[0;34m\u001b[0m\u001b[0m\n\u001b[0m\u001b[1;32m      2\u001b[0m     \u001b[0mprint\u001b[0m\u001b[0;34m(\u001b[0m\u001b[0;34m\"dupa\"\u001b[0m\u001b[0;34m)\u001b[0m\u001b[0;34m\u001b[0m\u001b[0;34m\u001b[0m\u001b[0m\n",
      "\u001b[0;31mNameError\u001b[0m: name 'bs4' is not defined"
     ]
    }
   ],
   "source": [
    "if soup is bs4.BeautifulSoup:\n",
    "    print(\"dupa\")"
   ]
  },
  {
   "cell_type": "code",
   "execution_count": 20,
   "metadata": {},
   "outputs": [
    {
     "data": {
      "text/plain": [
       "['https://pl.wikipedia.org/wiki/Fiord',\n",
       " 'https://pl.wikipedia.org/wiki/Wikimedia_Commons',\n",
       " 'https://commons.wikimedia.org/wiki/Category:Fjords?uselang=pl',\n",
       " 'https://pl.wikipedia.org/wiki/Kategoria:Fiordy_Grenlandii',\n",
       " 'https://pl.wikipedia.org/wiki/Kategoria:Fiordy_Islandii',\n",
       " 'https://pl.wikipedia.org/wiki/Kategoria:Fiordy_Norwegii',\n",
       " 'https://pl.wikipedia.org/wiki/Kategoria:Fiordy_Wysp_Owczych',\n",
       " 'https://pl.wikipedia.org/wiki/Fiord',\n",
       " 'https://pl.wikipedia.org/wiki/Burrard',\n",
       " 'https://pl.wikipedia.org/wiki/Carlingford_Lough',\n",
       " 'https://pl.wikipedia.org/wiki/Ezcurra_Inlet',\n",
       " 'https://pl.wikipedia.org/wiki/Roskilde_Fjord',\n",
       " 'https://pl.wikipedia.org/wiki/Zapadnaja_Lica']"
      ]
     },
     "execution_count": 20,
     "metadata": {},
     "output_type": "execute_result"
    }
   ],
   "source": [
    "links1"
   ]
  },
  {
   "cell_type": "code",
   "execution_count": 18,
   "metadata": {},
   "outputs": [
    {
     "data": {
      "text/plain": [
       "23"
      ]
     },
     "execution_count": 18,
     "metadata": {},
     "output_type": "execute_result"
    }
   ],
   "source": [
    "len(links1)"
   ]
  },
  {
   "cell_type": "code",
   "execution_count": 21,
   "metadata": {},
   "outputs": [
    {
     "data": {
      "text/plain": [
       "13"
      ]
     },
     "execution_count": 21,
     "metadata": {},
     "output_type": "execute_result"
    }
   ],
   "source": [
    "len(links1)"
   ]
  },
  {
   "cell_type": "code",
   "execution_count": null,
   "metadata": {},
   "outputs": [],
   "source": []
  },
  {
   "cell_type": "code",
   "execution_count": null,
   "metadata": {},
   "outputs": [],
   "source": []
  },
  {
   "cell_type": "code",
   "execution_count": null,
   "metadata": {},
   "outputs": [],
   "source": [
    "class_link_extractor.return_links_within_div(\"https://pl.wikipedia.org/wiki/Kategoria:Glacjologia\", CATEGORY_DIVS[1])"
   ]
  },
  {
   "cell_type": "code",
   "execution_count": 3,
   "metadata": {},
   "outputs": [],
   "source": [
    "# import httplib2\n",
    "from bs4 import BeautifulSoup  # , SoupStrainer\n",
    "from urllib.parse import urljoin"
   ]
  },
  {
   "cell_type": "code",
   "execution_count": 5,
   "metadata": {},
   "outputs": [],
   "source": [
    "from timeout import timeout"
   ]
  },
  {
   "cell_type": "code",
   "execution_count": null,
   "metadata": {},
   "outputs": [],
   "source": []
  },
  {
   "cell_type": "code",
   "execution_count": 2,
   "metadata": {},
   "outputs": [],
   "source": [
    "url = \"https://pl.wikipedia.org/wiki/Kategoria:Glacjologia\""
   ]
  },
  {
   "cell_type": "code",
   "execution_count": 2,
   "metadata": {},
   "outputs": [],
   "source": [
    "import requests\n",
    "import urllib.request\n",
    "import time\n",
    "from bs4 import BeautifulSoup\n",
    "from urllib.request import urlopen\n",
    "from urllib.parse import urljoin"
   ]
  },
  {
   "cell_type": "code",
   "execution_count": 24,
   "metadata": {},
   "outputs": [],
   "source": [
    "def return_links_within_div(url):\n",
    "    html = urlopen(url)\n",
    "    soup = BeautifulSoup(html, 'html.parser')\n",
    "\n",
    "    target_divs = soup.find_all(\"div\", class_=\"mw-content-ltr\")\n",
    "    \n",
    "    for d in target_divs:\n",
    "        links = d.find_all('a')\n",
    "\n",
    "        list_links = []\n",
    "\n",
    "        for a in links:\n",
    "            link_relative = a.get(\"href\")\n",
    "            link_absolute = urljoin(url, link_relative)\n",
    "            list_links.append(link_absolute)\n",
    "            \n",
    "    return list_links"
   ]
  },
  {
   "cell_type": "code",
   "execution_count": null,
   "metadata": {},
   "outputs": [],
   "source": [
    "try:\n",
    "    number = int(raw_input(\"Enter a number between 1 - 10 \n",
    "\"))\n",
    "\n",
    "except ValueError:\n",
    "    print \"Err.. numbers only\"\n",
    "    sys.exit()\n",
    "\n",
    "print \"you entered number \n",
    "\", number"
   ]
  },
  {
   "cell_type": "code",
   "execution_count": 25,
   "metadata": {},
   "outputs": [],
   "source": [
    "def links_with_connect_error(url):\n",
    "\n",
    "    links = []\n",
    "    while links == []:\n",
    "        try:\n",
    "            with timeout(seconds=3):\n",
    "                links = return_links_within_div(url)\n",
    "\n",
    "        except:\n",
    "                print(\"can't connect\")\n",
    "    \n",
    "    return links"
   ]
  },
  {
   "cell_type": "code",
   "execution_count": 26,
   "metadata": {},
   "outputs": [
    {
     "name": "stdout",
     "output_type": "stream",
     "text": [
      "can't connect\n",
      "can't connect\n"
     ]
    },
    {
     "data": {
      "text/plain": [
       "['https://pl.wikipedia.org/wiki/Glacjologia',\n",
       " 'https://pl.wikipedia.org/wiki/Ablacja_(topnienie)',\n",
       " 'https://pl.wikipedia.org/wiki/Ablacja_lodowcowa',\n",
       " 'https://pl.wikipedia.org/wiki/Bergschrund',\n",
       " 'https://pl.wikipedia.org/wiki/Brama_lodowcowa',\n",
       " 'https://pl.wikipedia.org/wiki/Cielenie_si%C4%99_lodowca',\n",
       " 'https://pl.wikipedia.org/wiki/Czerwony_%C5%9Bnieg',\n",
       " 'https://pl.wikipedia.org/wiki/Cz%C4%99%C5%9Bciowa_pokrywa_lodowa',\n",
       " 'https://pl.wikipedia.org/wiki/Czo%C5%82o_lodowca',\n",
       " 'https://pl.wikipedia.org/wiki/Deglacjacja',\n",
       " 'https://pl.wikipedia.org/wiki/Detrakcja',\n",
       " 'https://pl.wikipedia.org/wiki/EPICA',\n",
       " 'https://pl.wikipedia.org/wiki/Erozja_lodowcowa',\n",
       " 'https://pl.wikipedia.org/wiki/Erozja_%C5%9Bnie%C5%BCna',\n",
       " 'https://pl.wikipedia.org/wiki/Jens_Esmark',\n",
       " 'https://pl.wikipedia.org/wiki/Firn',\n",
       " 'https://pl.wikipedia.org/wiki/Glacitektonika',\n",
       " 'https://pl.wikipedia.org/wiki/Glina_bazalna',\n",
       " 'https://pl.wikipedia.org/wiki/Glina_zwa%C5%82owa',\n",
       " 'https://pl.wikipedia.org/wiki/G%C3%B3ra_lodowa',\n",
       " 'https://pl.wikipedia.org/wiki/G%C3%B3ra_lodowa_B-15',\n",
       " 'https://pl.wikipedia.org/wiki/Growler',\n",
       " 'https://pl.wikipedia.org/wiki/Interstadia%C5%82',\n",
       " 'https://pl.wikipedia.org/wiki/Jezioro_podlodowcowe',\n",
       " 'https://pl.wikipedia.org/wiki/J%C4%99zor_lodowcowy',\n",
       " 'https://pl.wikipedia.org/wiki/J%C3%B6kulhlaup',\n",
       " 'https://pl.wikipedia.org/wiki/Kolorowe_g%C3%B3ry_lodowe',\n",
       " 'https://pl.wikipedia.org/wiki/Kopce_darniowe',\n",
       " 'https://pl.wikipedia.org/wiki/Aleksander_Kosiba',\n",
       " 'https://pl.wikipedia.org/wiki/Kra',\n",
       " 'https://pl.wikipedia.org/wiki/Kra_lodowcowa',\n",
       " 'https://pl.wikipedia.org/wiki/Krajobraz_peryglacjalny',\n",
       " 'https://pl.wikipedia.org/wiki/Kr%C4%85%C5%BCki_lodowe',\n",
       " 'https://pl.wikipedia.org/wiki/Kriokonity',\n",
       " 'https://pl.wikipedia.org/wiki/Kriosfera',\n",
       " 'https://pl.wikipedia.org/wiki/Kriosukcja',\n",
       " 'https://pl.wikipedia.org/wiki/Kurtyna_zero',\n",
       " 'https://pl.wikipedia.org/wiki/L%C4%85dol%C3%B3d',\n",
       " 'https://pl.wikipedia.org/wiki/Lepa',\n",
       " 'https://pl.wikipedia.org/wiki/Linia_r%C3%B3wnowagi_bilansowej',\n",
       " 'https://pl.wikipedia.org/wiki/Linia_wiecznego_%C5%9Bniegu',\n",
       " 'https://pl.wikipedia.org/wiki/Lob_l%C4%85dolodu',\n",
       " 'https://pl.wikipedia.org/wiki/Lodospad',\n",
       " 'https://pl.wikipedia.org/wiki/L%C3%B3d',\n",
       " 'https://pl.wikipedia.org/wiki/L%C3%B3d_brzegowy',\n",
       " 'https://pl.wikipedia.org/wiki/L%C3%B3d_denny',\n",
       " 'https://pl.wikipedia.org/wiki/L%C3%B3d_firnowy',\n",
       " 'https://pl.wikipedia.org/wiki/L%C3%B3d_gruntowy',\n",
       " 'https://pl.wikipedia.org/wiki/L%C3%B3d_lodowcowy',\n",
       " 'https://pl.wikipedia.org/wiki/L%C3%B3d_martwy',\n",
       " 'https://pl.wikipedia.org/wiki/L%C3%B3d_morski',\n",
       " 'https://pl.wikipedia.org/wiki/L%C3%B3d_w%C5%82%C3%B3knisty',\n",
       " 'https://pl.wikipedia.org/wiki/Ma%C5%82a_epoka_lodowa',\n",
       " 'https://pl.wikipedia.org/wiki/Manche_(rzeka)',\n",
       " 'https://pl.wikipedia.org/wiki/Marmit',\n",
       " 'https://pl.wikipedia.org/wiki/Materia%C5%82_morenowy',\n",
       " 'https://pl.wikipedia.org/wiki/Materia%C5%82_skalny',\n",
       " 'https://pl.wikipedia.org/wiki/Mleko_lodowcowe',\n",
       " 'https://pl.wikipedia.org/wiki/M%C5%82yn_lodowcowy',\n",
       " 'https://pl.wikipedia.org/wiki/Naled%C5%BA',\n",
       " 'https://pl.wikipedia.org/wiki/Nalodzie',\n",
       " 'https://pl.wikipedia.org/wiki/Nawis_%C5%9Bnie%C5%BCny',\n",
       " 'https://pl.wikipedia.org/wiki/Niebieski_l%C3%B3d_lodowcowy',\n",
       " 'https://pl.wikipedia.org/wiki/Nisza_niwalna',\n",
       " 'https://pl.wikipedia.org/wiki/Ogiwy',\n",
       " 'https://pl.wikipedia.org/wiki/Osady_fluwioglacjalne',\n",
       " 'https://pl.wikipedia.org/wiki/Osady_glacjalne',\n",
       " 'https://pl.wikipedia.org/wiki/Oscylacja_lodowca',\n",
       " 'https://pl.wikipedia.org/wiki/Pak_lodowy',\n",
       " 'https://pl.wikipedia.org/wiki/Penitent_(glacjologia)',\n",
       " 'https://pl.wikipedia.org/wiki/Piaski_sandrowe',\n",
       " 'https://pl.wikipedia.org/wiki/P%C5%82at_%C5%9Bnie%C5%BCny',\n",
       " 'https://pl.wikipedia.org/wiki/Polarna_czapa_lodowa',\n",
       " 'https://pl.wikipedia.org/wiki/Pole_firnowe',\n",
       " 'https://pl.wikipedia.org/wiki/Postglacja%C5%82',\n",
       " 'https://pl.wikipedia.org/wiki/Post%C3%B3j_lodowca',\n",
       " 'https://pl.wikipedia.org/wiki/Procesy_fluwioglacjalne',\n",
       " 'https://pl.wikipedia.org/wiki/Procesy_glacjalne',\n",
       " 'https://pl.wikipedia.org/wiki/Procesy_peryglacjalne',\n",
       " 'https://pl.wikipedia.org/wiki/Rdze%C5%84_lodowy',\n",
       " 'https://pl.wikipedia.org/wiki/Regelacja',\n",
       " 'https://pl.wikipedia.org/wiki/Regresja_lodowca',\n",
       " 'https://pl.wikipedia.org/wiki/Relikt_glacjalny',\n",
       " 'https://pl.wikipedia.org/wiki/Rzeka_lodowcowa',\n",
       " 'https://pl.wikipedia.org/wiki/Rze%C5%BAba_glacifluwialna',\n",
       " 'https://pl.wikipedia.org/wiki/Rze%C5%BAba_glacjalna',\n",
       " 'https://pl.wikipedia.org/wiki/Rze%C5%BAba_krasowa',\n",
       " 'https://pl.wikipedia.org/wiki/Rze%C5%BAba_m%C5%82odoglacjalna',\n",
       " 'https://pl.wikipedia.org/wiki/Rze%C5%BAba_staroglacjalna',\n",
       " 'https://pl.wikipedia.org/wiki/Stadia%C5%82',\n",
       " 'https://pl.wikipedia.org/wiki/Stopa_lodowca',\n",
       " 'https://pl.wikipedia.org/wiki/Strefa_peryglacjalna',\n",
       " 'https://pl.wikipedia.org/wiki/Strumie%C5%84_lodowy',\n",
       " 'https://pl.wikipedia.org/wiki/Szczelina_brze%C5%BCna',\n",
       " 'https://pl.wikipedia.org/wiki/Szczelina_lodowcowa',\n",
       " 'https://pl.wikipedia.org/wiki/%C5%9Anie%C5%BCnik_(glacjologia)',\n",
       " 'https://pl.wikipedia.org/wiki/%C5%9Ary%C5%BC',\n",
       " 'https://pl.wikipedia.org/wiki/Termoerozja',\n",
       " 'https://pl.wikipedia.org/wiki/Transfluencja_lodowca',\n",
       " 'https://pl.wikipedia.org/wiki/Transgresja_lodowca',\n",
       " 'https://pl.wikipedia.org/wiki/Warstwa_czynna_wieloletniej_zmarzliny',\n",
       " 'https://pl.wikipedia.org/wiki/Wieczna_zmarzlina',\n",
       " 'https://pl.wikipedia.org/wiki/Wody_fluwioglacjalne',\n",
       " 'https://pl.wikipedia.org/wiki/Wody_inglacjalne',\n",
       " 'https://pl.wikipedia.org/wiki/Wysoczyzna_morenowa']"
      ]
     },
     "execution_count": 26,
     "metadata": {},
     "output_type": "execute_result"
    }
   ],
   "source": [
    "links_with_connect_error(url)"
   ]
  },
  {
   "cell_type": "code",
   "execution_count": 17,
   "metadata": {},
   "outputs": [],
   "source": [
    "from urllib.request import urlopen"
   ]
  },
  {
   "cell_type": "code",
   "execution_count": 23,
   "metadata": {},
   "outputs": [],
   "source": []
  },
  {
   "cell_type": "code",
   "execution_count": 4,
   "metadata": {},
   "outputs": [],
   "source": [
    "url = \"https://pl.wikipedia.org/wiki/Kategoria:Glacjologia\""
   ]
  },
  {
   "cell_type": "code",
   "execution_count": 5,
   "metadata": {},
   "outputs": [],
   "source": [
    "import requests\n",
    "import urllib.request\n",
    "import time\n",
    "from bs4 import BeautifulSoup\n",
    "from urllib.request import urlopen\n",
    "from urllib.parse import urljoin"
   ]
  },
  {
   "cell_type": "code",
   "execution_count": 6,
   "metadata": {},
   "outputs": [],
   "source": [
    "html = urlopen(url)"
   ]
  },
  {
   "cell_type": "code",
   "execution_count": 7,
   "metadata": {},
   "outputs": [
    {
     "data": {
      "text/plain": [
       "<http.client.HTTPResponse at 0x7f3cc0a0ad60>"
      ]
     },
     "execution_count": 7,
     "metadata": {},
     "output_type": "execute_result"
    }
   ],
   "source": [
    "html"
   ]
  },
  {
   "cell_type": "code",
   "execution_count": 8,
   "metadata": {},
   "outputs": [],
   "source": [
    "soup = BeautifulSoup(html, 'html.parser')\n",
    "\n",
    "target_divs = soup.find_all(\"div\", class_=\"mw-content-ltr\")\n",
    "\n",
    "# target_div = soup.find(\"div\", id=\"mw-content-ltr\")"
   ]
  },
  {
   "cell_type": "code",
   "execution_count": 9,
   "metadata": {},
   "outputs": [
    {
     "ename": "NameError",
     "evalue": "name 'target_div' is not defined",
     "output_type": "error",
     "traceback": [
      "\u001b[0;31m---------------------------------------------------------------------------\u001b[0m",
      "\u001b[0;31mNameError\u001b[0m                                 Traceback (most recent call last)",
      "\u001b[0;32m<ipython-input-9-1ca953b4e783>\u001b[0m in \u001b[0;36m<module>\u001b[0;34m\u001b[0m\n\u001b[0;32m----> 1\u001b[0;31m \u001b[0;32mfor\u001b[0m \u001b[0md\u001b[0m \u001b[0;32min\u001b[0m \u001b[0mtarget_div\u001b[0m\u001b[0;34m:\u001b[0m\u001b[0;34m\u001b[0m\u001b[0;34m\u001b[0m\u001b[0m\n\u001b[0m\u001b[1;32m      2\u001b[0m     \u001b[0mlinks\u001b[0m \u001b[0;34m=\u001b[0m \u001b[0md\u001b[0m\u001b[0;34m.\u001b[0m\u001b[0mfind_all\u001b[0m\u001b[0;34m(\u001b[0m\u001b[0;34m'a'\u001b[0m\u001b[0;34m)\u001b[0m\u001b[0;34m\u001b[0m\u001b[0;34m\u001b[0m\u001b[0m\n\u001b[1;32m      3\u001b[0m \u001b[0;34m\u001b[0m\u001b[0m\n\u001b[1;32m      4\u001b[0m     \u001b[0mlist_links\u001b[0m \u001b[0;34m=\u001b[0m \u001b[0;34m[\u001b[0m\u001b[0;34m]\u001b[0m\u001b[0;34m\u001b[0m\u001b[0;34m\u001b[0m\u001b[0m\n\u001b[1;32m      5\u001b[0m \u001b[0;34m\u001b[0m\u001b[0m\n",
      "\u001b[0;31mNameError\u001b[0m: name 'target_div' is not defined"
     ]
    }
   ],
   "source": [
    "for d in target_div:\n",
    "    links = d.find_all('a')\n",
    "    \n",
    "    list_links = []\n",
    "    \n",
    "    for a in links:\n",
    "        link_relative = a.get(\"href\")\n",
    "        link_absolute = urljoin(url, link_relative)\n",
    "        list_links.append(link_absolute)"
   ]
  },
  {
   "cell_type": "code",
   "execution_count": 25,
   "metadata": {},
   "outputs": [
    {
     "data": {
      "text/plain": [
       "['https://pl.wikipedia.org/wiki/Glacjologia',\n",
       " 'https://pl.wikipedia.org/wiki/Ablacja_(topnienie)',\n",
       " 'https://pl.wikipedia.org/wiki/Ablacja_lodowcowa',\n",
       " 'https://pl.wikipedia.org/wiki/Bergschrund',\n",
       " 'https://pl.wikipedia.org/wiki/Brama_lodowcowa',\n",
       " 'https://pl.wikipedia.org/wiki/Cielenie_si%C4%99_lodowca',\n",
       " 'https://pl.wikipedia.org/wiki/Czerwony_%C5%9Bnieg',\n",
       " 'https://pl.wikipedia.org/wiki/Cz%C4%99%C5%9Bciowa_pokrywa_lodowa',\n",
       " 'https://pl.wikipedia.org/wiki/Czo%C5%82o_lodowca',\n",
       " 'https://pl.wikipedia.org/wiki/Deglacjacja',\n",
       " 'https://pl.wikipedia.org/wiki/Detrakcja',\n",
       " 'https://pl.wikipedia.org/wiki/EPICA',\n",
       " 'https://pl.wikipedia.org/wiki/Erozja_lodowcowa',\n",
       " 'https://pl.wikipedia.org/wiki/Erozja_%C5%9Bnie%C5%BCna',\n",
       " 'https://pl.wikipedia.org/wiki/Jens_Esmark',\n",
       " 'https://pl.wikipedia.org/wiki/Firn',\n",
       " 'https://pl.wikipedia.org/wiki/Glacitektonika',\n",
       " 'https://pl.wikipedia.org/wiki/Glina_bazalna',\n",
       " 'https://pl.wikipedia.org/wiki/Glina_zwa%C5%82owa',\n",
       " 'https://pl.wikipedia.org/wiki/G%C3%B3ra_lodowa',\n",
       " 'https://pl.wikipedia.org/wiki/G%C3%B3ra_lodowa_B-15',\n",
       " 'https://pl.wikipedia.org/wiki/Growler',\n",
       " 'https://pl.wikipedia.org/wiki/Interstadia%C5%82',\n",
       " 'https://pl.wikipedia.org/wiki/Jezioro_podlodowcowe',\n",
       " 'https://pl.wikipedia.org/wiki/J%C4%99zor_lodowcowy',\n",
       " 'https://pl.wikipedia.org/wiki/J%C3%B6kulhlaup',\n",
       " 'https://pl.wikipedia.org/wiki/Kolorowe_g%C3%B3ry_lodowe',\n",
       " 'https://pl.wikipedia.org/wiki/Kopce_darniowe',\n",
       " 'https://pl.wikipedia.org/wiki/Aleksander_Kosiba',\n",
       " 'https://pl.wikipedia.org/wiki/Kra',\n",
       " 'https://pl.wikipedia.org/wiki/Kra_lodowcowa',\n",
       " 'https://pl.wikipedia.org/wiki/Krajobraz_peryglacjalny',\n",
       " 'https://pl.wikipedia.org/wiki/Kr%C4%85%C5%BCki_lodowe',\n",
       " 'https://pl.wikipedia.org/wiki/Kriokonity',\n",
       " 'https://pl.wikipedia.org/wiki/Kriosfera',\n",
       " 'https://pl.wikipedia.org/wiki/Kriosukcja',\n",
       " 'https://pl.wikipedia.org/wiki/Kurtyna_zero',\n",
       " 'https://pl.wikipedia.org/wiki/L%C4%85dol%C3%B3d',\n",
       " 'https://pl.wikipedia.org/wiki/Lepa',\n",
       " 'https://pl.wikipedia.org/wiki/Linia_r%C3%B3wnowagi_bilansowej',\n",
       " 'https://pl.wikipedia.org/wiki/Linia_wiecznego_%C5%9Bniegu',\n",
       " 'https://pl.wikipedia.org/wiki/Lob_l%C4%85dolodu',\n",
       " 'https://pl.wikipedia.org/wiki/Lodospad',\n",
       " 'https://pl.wikipedia.org/wiki/L%C3%B3d',\n",
       " 'https://pl.wikipedia.org/wiki/L%C3%B3d_brzegowy',\n",
       " 'https://pl.wikipedia.org/wiki/L%C3%B3d_denny',\n",
       " 'https://pl.wikipedia.org/wiki/L%C3%B3d_firnowy',\n",
       " 'https://pl.wikipedia.org/wiki/L%C3%B3d_gruntowy',\n",
       " 'https://pl.wikipedia.org/wiki/L%C3%B3d_lodowcowy',\n",
       " 'https://pl.wikipedia.org/wiki/L%C3%B3d_martwy',\n",
       " 'https://pl.wikipedia.org/wiki/L%C3%B3d_morski',\n",
       " 'https://pl.wikipedia.org/wiki/L%C3%B3d_w%C5%82%C3%B3knisty',\n",
       " 'https://pl.wikipedia.org/wiki/Ma%C5%82a_epoka_lodowa',\n",
       " 'https://pl.wikipedia.org/wiki/Manche_(rzeka)',\n",
       " 'https://pl.wikipedia.org/wiki/Marmit',\n",
       " 'https://pl.wikipedia.org/wiki/Materia%C5%82_morenowy',\n",
       " 'https://pl.wikipedia.org/wiki/Materia%C5%82_skalny',\n",
       " 'https://pl.wikipedia.org/wiki/Mleko_lodowcowe',\n",
       " 'https://pl.wikipedia.org/wiki/M%C5%82yn_lodowcowy',\n",
       " 'https://pl.wikipedia.org/wiki/Naled%C5%BA',\n",
       " 'https://pl.wikipedia.org/wiki/Nalodzie',\n",
       " 'https://pl.wikipedia.org/wiki/Nawis_%C5%9Bnie%C5%BCny',\n",
       " 'https://pl.wikipedia.org/wiki/Niebieski_l%C3%B3d_lodowcowy',\n",
       " 'https://pl.wikipedia.org/wiki/Nisza_niwalna',\n",
       " 'https://pl.wikipedia.org/wiki/Ogiwy',\n",
       " 'https://pl.wikipedia.org/wiki/Osady_fluwioglacjalne',\n",
       " 'https://pl.wikipedia.org/wiki/Osady_glacjalne',\n",
       " 'https://pl.wikipedia.org/wiki/Oscylacja_lodowca',\n",
       " 'https://pl.wikipedia.org/wiki/Pak_lodowy',\n",
       " 'https://pl.wikipedia.org/wiki/Penitent_(glacjologia)',\n",
       " 'https://pl.wikipedia.org/wiki/Piaski_sandrowe',\n",
       " 'https://pl.wikipedia.org/wiki/P%C5%82at_%C5%9Bnie%C5%BCny',\n",
       " 'https://pl.wikipedia.org/wiki/Polarna_czapa_lodowa',\n",
       " 'https://pl.wikipedia.org/wiki/Pole_firnowe',\n",
       " 'https://pl.wikipedia.org/wiki/Postglacja%C5%82',\n",
       " 'https://pl.wikipedia.org/wiki/Post%C3%B3j_lodowca',\n",
       " 'https://pl.wikipedia.org/wiki/Procesy_fluwioglacjalne',\n",
       " 'https://pl.wikipedia.org/wiki/Procesy_glacjalne',\n",
       " 'https://pl.wikipedia.org/wiki/Procesy_peryglacjalne',\n",
       " 'https://pl.wikipedia.org/wiki/Rdze%C5%84_lodowy',\n",
       " 'https://pl.wikipedia.org/wiki/Regelacja',\n",
       " 'https://pl.wikipedia.org/wiki/Regresja_lodowca',\n",
       " 'https://pl.wikipedia.org/wiki/Relikt_glacjalny',\n",
       " 'https://pl.wikipedia.org/wiki/Rzeka_lodowcowa',\n",
       " 'https://pl.wikipedia.org/wiki/Rze%C5%BAba_glacifluwialna',\n",
       " 'https://pl.wikipedia.org/wiki/Rze%C5%BAba_glacjalna',\n",
       " 'https://pl.wikipedia.org/wiki/Rze%C5%BAba_krasowa',\n",
       " 'https://pl.wikipedia.org/wiki/Rze%C5%BAba_m%C5%82odoglacjalna',\n",
       " 'https://pl.wikipedia.org/wiki/Rze%C5%BAba_staroglacjalna',\n",
       " 'https://pl.wikipedia.org/wiki/Stadia%C5%82',\n",
       " 'https://pl.wikipedia.org/wiki/Stopa_lodowca',\n",
       " 'https://pl.wikipedia.org/wiki/Strefa_peryglacjalna',\n",
       " 'https://pl.wikipedia.org/wiki/Strumie%C5%84_lodowy',\n",
       " 'https://pl.wikipedia.org/wiki/Szczelina_brze%C5%BCna',\n",
       " 'https://pl.wikipedia.org/wiki/Szczelina_lodowcowa',\n",
       " 'https://pl.wikipedia.org/wiki/%C5%9Anie%C5%BCnik_(glacjologia)',\n",
       " 'https://pl.wikipedia.org/wiki/%C5%9Ary%C5%BC',\n",
       " 'https://pl.wikipedia.org/wiki/Termoerozja',\n",
       " 'https://pl.wikipedia.org/wiki/Transfluencja_lodowca',\n",
       " 'https://pl.wikipedia.org/wiki/Transgresja_lodowca',\n",
       " 'https://pl.wikipedia.org/wiki/Warstwa_czynna_wieloletniej_zmarzliny',\n",
       " 'https://pl.wikipedia.org/wiki/Wieczna_zmarzlina',\n",
       " 'https://pl.wikipedia.org/wiki/Wody_fluwioglacjalne',\n",
       " 'https://pl.wikipedia.org/wiki/Wody_inglacjalne',\n",
       " 'https://pl.wikipedia.org/wiki/Wysoczyzna_morenowa']"
      ]
     },
     "execution_count": 25,
     "metadata": {},
     "output_type": "execute_result"
    }
   ],
   "source": [
    "list_links\n",
    "\n",
    "\n",
    "\n"
   ]
  },
  {
   "cell_type": "code",
   "execution_count": 28,
   "metadata": {},
   "outputs": [
    {
     "data": {
      "text/plain": []
     },
     "execution_count": 28,
     "metadata": {},
     "output_type": "execute_result"
    }
   ],
   "source": [
    "soup"
   ]
  },
  {
   "cell_type": "code",
   "execution_count": null,
   "metadata": {},
   "outputs": [],
   "source": [
    "target_div"
   ]
  },
  {
   "cell_type": "code",
   "execution_count": null,
   "metadata": {},
   "outputs": [],
   "source": []
  },
  {
   "cell_type": "code",
   "execution_count": 8,
   "metadata": {},
   "outputs": [
    {
     "ename": "AttributeError",
     "evalue": "'NoneType' object has no attribute 'find_all'",
     "output_type": "error",
     "traceback": [
      "\u001b[0;31m---------------------------------------------------------------------------\u001b[0m",
      "\u001b[0;31mAttributeError\u001b[0m                            Traceback (most recent call last)",
      "\u001b[0;32m<ipython-input-8-cc1d54270bb9>\u001b[0m in \u001b[0;36m<module>\u001b[0;34m\u001b[0m\n\u001b[0;32m----> 1\u001b[0;31m \u001b[0mlinks\u001b[0m \u001b[0;34m=\u001b[0m \u001b[0mtarget_div\u001b[0m\u001b[0;34m.\u001b[0m\u001b[0mfind_all\u001b[0m\u001b[0;34m(\u001b[0m\u001b[0;34m'a'\u001b[0m\u001b[0;34m)\u001b[0m\u001b[0;34m\u001b[0m\u001b[0;34m\u001b[0m\u001b[0m\n\u001b[0m\u001b[1;32m      2\u001b[0m \u001b[0;34m\u001b[0m\u001b[0m\n\u001b[1;32m      3\u001b[0m \u001b[0mlist_links\u001b[0m \u001b[0;34m=\u001b[0m \u001b[0;34m[\u001b[0m\u001b[0;34m]\u001b[0m\u001b[0;34m\u001b[0m\u001b[0;34m\u001b[0m\u001b[0m\n\u001b[1;32m      4\u001b[0m \u001b[0;34m\u001b[0m\u001b[0m\n\u001b[1;32m      5\u001b[0m \u001b[0;32mfor\u001b[0m \u001b[0ma\u001b[0m \u001b[0;32min\u001b[0m \u001b[0mlinks\u001b[0m\u001b[0;34m:\u001b[0m\u001b[0;34m\u001b[0m\u001b[0;34m\u001b[0m\u001b[0m\n",
      "\u001b[0;31mAttributeError\u001b[0m: 'NoneType' object has no attribute 'find_all'"
     ]
    }
   ],
   "source": [
    "links = target_div.find_all('a')\n",
    "\n",
    "list_links = []\n",
    "\n",
    "for a in links:\n",
    "    link_relative = a.get(\"href\")\n",
    "    link_absolute = urljoin(url, link_relative)\n",
    "    list_links.append(link_absolute)"
   ]
  },
  {
   "cell_type": "code",
   "execution_count": null,
   "metadata": {},
   "outputs": [],
   "source": []
  }
 ],
 "metadata": {
  "kernelspec": {
   "display_name": "Python 3",
   "language": "python",
   "name": "python3"
  },
  "language_info": {
   "codemirror_mode": {
    "name": "ipython",
    "version": 3
   },
   "file_extension": ".py",
   "mimetype": "text/x-python",
   "name": "python",
   "nbconvert_exporter": "python",
   "pygments_lexer": "ipython3",
   "version": "3.8.1"
  }
 },
 "nbformat": 4,
 "nbformat_minor": 4
}
